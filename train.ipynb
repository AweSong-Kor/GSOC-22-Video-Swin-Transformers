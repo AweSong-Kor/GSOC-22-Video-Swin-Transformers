{
 "cells": [
  {
   "cell_type": "code",
   "execution_count": 1,
   "metadata": {},
   "outputs": [
    {
     "name": "stderr",
     "output_type": "stream",
     "text": [
      "/anaconda/envs/azureml_py38_PT_TF/lib/python3.8/site-packages/tqdm/auto.py:22: TqdmWarning: IProgress not found. Please update jupyter and ipywidgets. See https://ipywidgets.readthedocs.io/en/stable/user_install.html\n",
      "  from .autonotebook import tqdm as notebook_tqdm\n"
     ]
    },
    {
     "name": "stdout",
     "output_type": "stream",
     "text": [
      "No CUDA runtime is found, using CUDA_HOME='/usr/local/cuda'\n"
     ]
    }
   ],
   "source": [
    "import tensorflow as tf\n",
    "import torch\n",
    "import torch.nn as nn\n",
    "import numpy as np\n",
    "from VideoSwinTransformer import *\n",
    "import os\n",
    "from collections import OrderedDict\n",
    "import sys\n",
    "import tensorflow_addons as tfa\n"
   ]
  },
  {
   "cell_type": "code",
   "execution_count": 2,
   "metadata": {},
   "outputs": [],
   "source": [
    "cfg_method = model_configs.MODEL_MAP[\"swin_tiny_patch244_window877_kinetics400_1k\"]\n",
    "cfg = cfg_method()\n",
    "\n",
    "name = cfg[\"name\"]\n",
    "link = cfg['link']\n",
    "del cfg[\"name\"]\n",
    "del cfg['link']\n",
    "# download_weight_command = f\"wget {link} -O {name}.pth\"\n",
    "# os.system(download_weight_command)\n",
    "\n",
    "# model = SwinTransformer3D(**cfg)"
   ]
  },
  {
   "cell_type": "code",
   "execution_count": null,
   "metadata": {},
   "outputs": [],
   "source": []
  },
  {
   "cell_type": "code",
   "execution_count": 3,
   "metadata": {},
   "outputs": [],
   "source": [
    "def get_model(num_classes,cfg, shape_of_input=(10,3,32,224,224)):\n",
    "    inputs = tf.keras.Input(shape_of_input[1:])\n",
    "    backbone = SwinTransformer3D(**cfg, shape_of_input=shape_of_input)\n",
    "    x = backbone(inputs, training= False)\n",
    "    outputs = I3DHead_tf(num_classes, 768, training=True)(x)\n",
    "    return tf.keras.Model(inputs, outputs)"
   ]
  },
  {
   "cell_type": "code",
   "execution_count": 4,
   "metadata": {},
   "outputs": [
    {
     "name": "stderr",
     "output_type": "stream",
     "text": [
      "2022-09-12 04:34:29.851758: E tensorflow/stream_executor/cuda/cuda_driver.cc:271] failed call to cuInit: CUDA_ERROR_NO_DEVICE: no CUDA-capable device is detected\n",
      "2022-09-12 04:34:29.851848: I tensorflow/stream_executor/cuda/cuda_diagnostics.cc:156] kernel driver does not appear to be running on this host (gsoc28gb): /proc/driver/nvidia/version does not exist\n",
      "2022-09-12 04:34:29.853573: I tensorflow/core/platform/cpu_feature_guard.cc:193] This TensorFlow binary is optimized with oneAPI Deep Neural Network Library (oneDNN) to use the following CPU instructions in performance-critical operations:  AVX2 FMA\n",
      "To enable them in other operations, rebuild TensorFlow with the appropriate compiler flags.\n"
     ]
    },
    {
     "name": "stdout",
     "output_type": "stream",
     "text": [
      "shape_of_input:  (5, 3, 8, 112, 112)\n",
      "5 768 {'type': 'CrossEntropyLoss'} avg 0.5 0.01 {'training': True}\n",
      "Model: \"model\"\n",
      "_________________________________________________________________\n",
      " Layer (type)                Output Shape              Param #   \n",
      "=================================================================\n",
      " input_1 (InputLayer)        [(None, 3, 8, 112, 112)]  0         \n",
      "                                                                 \n",
      " swin_transformer3d (SwinTra  (None, 768, 4, 4, 4)     29694438  \n",
      " nsformer3D)                                                     \n",
      "                                                                 \n",
      " i3d_head_tf (I3DHead_tf)    (None, 5)                 3845      \n",
      "                                                                 \n",
      "=================================================================\n",
      "Total params: 29,698,283\n",
      "Trainable params: 27,854,315\n",
      "Non-trainable params: 1,843,968\n",
      "_________________________________________________________________\n"
     ]
    }
   ],
   "source": [
    "shape_of_input = (5, 3, 8, 112,112)\n",
    "model = get_model(5, cfg, shape_of_input=shape_of_input)\n",
    "\n",
    "X = tf.random.normal(shape_of_input)\n",
    "y = tf.random.uniform((shape_of_input[0],1), 0, 5, tf.dtypes.int32)\n",
    "model.summary()"
   ]
  },
  {
   "cell_type": "code",
   "execution_count": 5,
   "metadata": {},
   "outputs": [],
   "source": [
    "# inputs = tf.keras.Input(shape_of_input[1:])\n",
    "# model(inputs, training=True)"
   ]
  },
  {
   "cell_type": "code",
   "execution_count": 6,
   "metadata": {},
   "outputs": [
    {
     "name": "stdout",
     "output_type": "stream",
     "text": [
      "1/1 [==============================] - 6s 6s/step\n"
     ]
    },
    {
     "data": {
      "text/plain": [
       "array([[0.26121393, 0.2134705 , 0.1431237 , 0.19967034, 0.18252166],\n",
       "       [0.25058764, 0.19801636, 0.15458485, 0.20697655, 0.18983455],\n",
       "       [0.2401445 , 0.21149504, 0.16213812, 0.20081998, 0.18540232],\n",
       "       [0.26834154, 0.20051232, 0.14415093, 0.21378434, 0.17321084],\n",
       "       [0.2764194 , 0.21138228, 0.14738142, 0.18487862, 0.17993824]],\n",
       "      dtype=float32)"
      ]
     },
     "execution_count": 6,
     "metadata": {},
     "output_type": "execute_result"
    }
   ],
   "source": [
    "y1 = model.predict(X)\n",
    "y1"
   ]
  },
  {
   "cell_type": "code",
   "execution_count": 7,
   "metadata": {},
   "outputs": [],
   "source": [
    "optimizer = tfa.optimizers.AdamW(weight_decay= 0.05,learning_rate=3e-4, beta_1= 0.9, beta_2=0.999, epsilon=1e-8)\n",
    "\n",
    "## pariwise constant decay"
   ]
  },
  {
   "cell_type": "code",
   "execution_count": 8,
   "metadata": {},
   "outputs": [
    {
     "name": "stdout",
     "output_type": "stream",
     "text": [
      "Epoch 1/2\n",
      "1/1 [==============================] - 23s 23s/step - loss: 1.6867 - top_k_categorical_accuracy: 1.0000 - categorical_accuracy: 0.8000\n",
      "Epoch 2/2\n",
      "1/1 [==============================] - 2s 2s/step - loss: 0.9781 - top_k_categorical_accuracy: 1.0000 - categorical_accuracy: 0.0000e+00\n"
     ]
    },
    {
     "data": {
      "text/plain": [
       "<keras.callbacks.History at 0x7f6a6eed52b0>"
      ]
     },
     "execution_count": 8,
     "metadata": {},
     "output_type": "execute_result"
    }
   ],
   "source": [
    "\n",
    "\n",
    "metrics=[\"top_k_categorical_accuracy\", \"categorical_accuracy\"] \n",
    "model.compile(loss=tf.keras.losses.SparseCategoricalCrossentropy(), optimizer=optimizer, metrics=metrics)\n",
    "\n",
    "model.fit(X, y, epochs=2)"
   ]
  },
  {
   "cell_type": "code",
   "execution_count": 9,
   "metadata": {},
   "outputs": [
    {
     "name": "stdout",
     "output_type": "stream",
     "text": [
      "1/1 [==============================] - 5s 5s/step\n"
     ]
    },
    {
     "data": {
      "text/plain": [
       "array([[0.04362928, 0.16783701, 0.08070742, 0.34368616, 0.36414015],\n",
       "       [0.04380906, 0.15608679, 0.08128527, 0.353145  , 0.36567393],\n",
       "       [0.04338022, 0.12835914, 0.08491397, 0.3416093 , 0.40173745],\n",
       "       [0.04404173, 0.16992965, 0.07919259, 0.35085276, 0.3559833 ],\n",
       "       [0.04552931, 0.12983981, 0.08353335, 0.40218642, 0.33891118]],\n",
       "      dtype=float32)"
      ]
     },
     "execution_count": 9,
     "metadata": {},
     "output_type": "execute_result"
    }
   ],
   "source": [
    "y1 = model.predict(X)\n",
    "y1"
   ]
  },
  {
   "cell_type": "code",
   "execution_count": null,
   "metadata": {},
   "outputs": [],
   "source": [
    "y2 = model(X, training=False)\n",
    "y2"
   ]
  },
  {
   "cell_type": "code",
   "execution_count": null,
   "metadata": {},
   "outputs": [],
   "source": [
    "model.layers[1].layers[5].weights"
   ]
  },
  {
   "cell_type": "code",
   "execution_count": null,
   "metadata": {},
   "outputs": [],
   "source": []
  },
  {
   "cell_type": "code",
   "execution_count": null,
   "metadata": {},
   "outputs": [],
   "source": []
  }
 ],
 "metadata": {
  "kernelspec": {
   "display_name": "Python 3.8.5 ('azureml_py38_PT_TF')",
   "language": "python",
   "name": "python3"
  },
  "language_info": {
   "codemirror_mode": {
    "name": "ipython",
    "version": 3
   },
   "file_extension": ".py",
   "mimetype": "text/x-python",
   "name": "python",
   "nbconvert_exporter": "python",
   "pygments_lexer": "ipython3",
   "version": "3.8.5"
  },
  "orig_nbformat": 4,
  "vscode": {
   "interpreter": {
    "hash": "9169f1d4e16acc976bbb73e323b0dbdf23f1c55e833fb2befffc4fb50ac2de2f"
   }
  }
 },
 "nbformat": 4,
 "nbformat_minor": 2
}
