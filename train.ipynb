{
 "cells": [
  {
   "cell_type": "code",
   "execution_count": 3,
   "metadata": {},
   "outputs": [],
   "source": [
    "import tensorflow as tf\n",
    "import torch\n",
    "import torch.nn as nn\n",
    "import numpy as np\n",
    "from VideoSwinTransformer import *\n",
    "import os\n",
    "from collections import OrderedDict\n",
    "import sys\n",
    "import tensorflow_addons as tfa\n"
   ]
  },
  {
   "cell_type": "code",
   "execution_count": 4,
   "metadata": {},
   "outputs": [],
   "source": [
    "cfg_method = model_configs.MODEL_MAP[\"swin_tiny_patch244_window877_kinetics400_1k\"]\n",
    "cfg = cfg_method()\n",
    "\n",
    "name = cfg[\"name\"]\n",
    "link = cfg['link']\n",
    "del cfg[\"name\"]\n",
    "del cfg['link']\n",
    "# download_weight_command = f\"wget {link} -O {name}.pth\"\n",
    "# os.system(download_weight_command)\n",
    "\n",
    "# model = SwinTransformer3D(**cfg)"
   ]
  },
  {
   "cell_type": "code",
   "execution_count": null,
   "metadata": {},
   "outputs": [],
   "source": []
  },
  {
   "cell_type": "code",
   "execution_count": 5,
   "metadata": {},
   "outputs": [],
   "source": [
    "def get_model(num_classes,cfg, shape_of_input=(10,3,32,224,224)):\n",
    "    inputs = tf.keras.Input(shape_of_input[1:])\n",
    "    backbone = SwinTransformer3D(**cfg, shape_of_input=shape_of_input)\n",
    "    x = backbone(inputs, training= False)\n",
    "    outputs = I3DHead_tf(num_classes, 768, training=True)(x)\n",
    "    return tf.keras.Model(inputs, outputs)"
   ]
  },
  {
   "cell_type": "code",
   "execution_count": 6,
   "metadata": {},
   "outputs": [
    {
     "name": "stdout",
     "output_type": "stream",
     "text": [
      "shape_of_input:  (5, 3, 8, 112, 112)\n",
      "5 768 {'type': 'CrossEntropyLoss'} avg 0.5 0.01 {'training': True}\n",
      "Model: \"model\"\n",
      "_________________________________________________________________\n",
      " Layer (type)                Output Shape              Param #   \n",
      "=================================================================\n",
      " input_1 (InputLayer)        [(None, 3, 8, 112, 112)]  0         \n",
      "                                                                 \n",
      " swin_transformer3d (SwinTra  (None, 768, 4, 4, 4)     29694438  \n",
      " nsformer3D)                                                     \n",
      "                                                                 \n",
      " i3d_head_tf (I3DHead_tf)    (None, 5)                 3845      \n",
      "                                                                 \n",
      "=================================================================\n",
      "Total params: 29,698,283\n",
      "Trainable params: 27,854,315\n",
      "Non-trainable params: 1,843,968\n",
      "_________________________________________________________________\n"
     ]
    }
   ],
   "source": [
    "shape_of_input = (5, 3, 8, 112,112)\n",
    "model = get_model(5, cfg, shape_of_input=shape_of_input)\n",
    "\n",
    "X = tf.random.normal(shape_of_input)\n",
    "y = tf.random.uniform((shape_of_input[0],1), 0, 5, tf.dtypes.int32)\n",
    "model.summary()"
   ]
  },
  {
   "cell_type": "code",
   "execution_count": null,
   "metadata": {},
   "outputs": [],
   "source": [
    "# inputs = tf.keras.Input(shape_of_input[1:])\n",
    "# model(inputs, training=True)"
   ]
  },
  {
   "cell_type": "code",
   "execution_count": 7,
   "metadata": {},
   "outputs": [
    {
     "name": "stdout",
     "output_type": "stream",
     "text": [
      "1/1 [==============================] - 7s 7s/step\n"
     ]
    },
    {
     "data": {
      "text/plain": [
       "array([[0.21804325, 0.17564876, 0.20801349, 0.21439712, 0.1838974 ],\n",
       "       [0.2160434 , 0.16880102, 0.22613603, 0.20458852, 0.18443106],\n",
       "       [0.21588865, 0.16063978, 0.24322826, 0.20265196, 0.17759134],\n",
       "       [0.2376091 , 0.14616466, 0.22391437, 0.22256124, 0.16975066],\n",
       "       [0.2341917 , 0.15283717, 0.22144271, 0.20615363, 0.18537486]],\n",
       "      dtype=float32)"
      ]
     },
     "execution_count": 7,
     "metadata": {},
     "output_type": "execute_result"
    }
   ],
   "source": [
    "y1 = model.predict(X)\n",
    "y1"
   ]
  },
  {
   "cell_type": "code",
   "execution_count": 2,
   "metadata": {},
   "outputs": [],
   "source": [
    "optimizer = tfa.optimizers.AdamW(weight_decay= 0.05,learning_rate=3e-4, beta_1= 0.9, beta_2=0.999, epsilon=1e-8)\n",
    "\n",
    "## pariwise constant decay"
   ]
  },
  {
   "cell_type": "code",
   "execution_count": 14,
   "metadata": {},
   "outputs": [
    {
     "name": "stdout",
     "output_type": "stream",
     "text": [
      "Epoch 1/2\n",
      "1/1 [==============================] - 21s 21s/step - loss: 1.0030 - top_k_categorical_accuracy: 1.0000 - categorical_accuracy: 0.8000\n",
      "Epoch 2/2\n",
      "1/1 [==============================] - 5s 5s/step - loss: 0.6247 - top_k_categorical_accuracy: 1.0000 - categorical_accuracy: 0.4000\n"
     ]
    },
    {
     "data": {
      "text/plain": [
       "<keras.callbacks.History at 0x1dd88486340>"
      ]
     },
     "execution_count": 14,
     "metadata": {},
     "output_type": "execute_result"
    }
   ],
   "source": [
    "\n",
    "\n",
    "metrics=[\"top_k_categorical_accuracy\", \"categorical_accuracy\"] \n",
    "model.compile(loss=tf.keras.losses.SparseCategoricalCrossentropy(), optimizer=optimizer, metrics=metrics)\n",
    "\n",
    "model.fit(X, y, epochs=2)"
   ]
  },
  {
   "cell_type": "code",
   "execution_count": null,
   "metadata": {},
   "outputs": [],
   "source": [
    "y1 = model.predict(X)\n",
    "y1"
   ]
  },
  {
   "cell_type": "code",
   "execution_count": null,
   "metadata": {},
   "outputs": [],
   "source": [
    "y2 = model(X, training=False)\n",
    "y2"
   ]
  },
  {
   "cell_type": "code",
   "execution_count": null,
   "metadata": {},
   "outputs": [],
   "source": [
    "model.layers[1].layers[5].weights"
   ]
  },
  {
   "cell_type": "code",
   "execution_count": null,
   "metadata": {},
   "outputs": [],
   "source": []
  },
  {
   "cell_type": "code",
   "execution_count": null,
   "metadata": {},
   "outputs": [],
   "source": []
  }
 ],
 "metadata": {
  "kernelspec": {
   "display_name": "Python 3.9.6 64-bit",
   "language": "python",
   "name": "python3"
  },
  "language_info": {
   "codemirror_mode": {
    "name": "ipython",
    "version": 3
   },
   "file_extension": ".py",
   "mimetype": "text/x-python",
   "name": "python",
   "nbconvert_exporter": "python",
   "pygments_lexer": "ipython3",
   "version": "3.9.6"
  },
  "orig_nbformat": 4,
  "vscode": {
   "interpreter": {
    "hash": "5ed124f2b279c186db57d0ede455df2b109954ad4fa1a5a2c59adb747c894aa2"
   }
  }
 },
 "nbformat": 4,
 "nbformat_minor": 2
}
