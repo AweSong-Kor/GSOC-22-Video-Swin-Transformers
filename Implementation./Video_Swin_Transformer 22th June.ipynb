{
  "nbformat": 4,
  "nbformat_minor": 0,
  "metadata": {
    "colab": {
      "name": "Video Swin Transformer.ipynb",
      "provenance": []
    },
    "kernelspec": {
      "name": "python3",
      "display_name": "Python 3"
    },
    "language_info": {
      "name": "python"
    },
    "accelerator": "GPU",
    "gpuClass": "standard"
  },
  "cells": [
    {
      "cell_type": "code",
      "execution_count": 1,
      "metadata": {
        "id": "IXEfrlCq474n"
      },
      "outputs": [],
      "source": [
        "import torch\n",
        "import tensorflow as tf\n",
        "\n",
        "import tensorflow\n",
        "import numpy as np"
      ]
    },
    {
      "cell_type": "code",
      "source": [
        "import torch.nn as nn\n",
        "import torch.nn.functional as F"
      ],
      "metadata": {
        "id": "nHL_EAhFnyAI"
      },
      "execution_count": 2,
      "outputs": []
    },
    {
      "cell_type": "markdown",
      "source": [
        "Declaring tensor with random values"
      ],
      "metadata": {
        "id": "kvf0EkdF8vOl"
      }
    },
    {
      "cell_type": "code",
      "source": [
        "x_pt = torch.randint(255,(10,8,32,32,3))\n",
        "x_np = x_pt.numpy()\n",
        "x_tf = tf.convert_to_tensor(x_np)\n",
        "\n",
        "x_pt.shape , x_tf.shape"
      ],
      "metadata": {
        "colab": {
          "base_uri": "https://localhost:8080/"
        },
        "id": "lsH8RyYn5-aw",
        "outputId": "b1a25e1f-ce95-46d0-91d4-c833605d97c8"
      },
      "execution_count": 7,
      "outputs": [
        {
          "output_type": "execute_result",
          "data": {
            "text/plain": [
              "(torch.Size([10, 8, 32, 32, 3]), TensorShape([10, 8, 32, 32, 3]))"
            ]
          },
          "metadata": {},
          "execution_count": 7
        }
      ]
    },
    {
      "cell_type": "markdown",
      "source": [
        "## Window Partition Function"
      ],
      "metadata": {
        "id": "uQFwBQUg817N"
      }
    },
    {
      "cell_type": "code",
      "source": [
        "def get_window_size(x_size, window_size, shift_size=None):\n",
        "    use_window_size = list(window_size)\n",
        "    if shift_size is not None:\n",
        "        use_shift_size = list(shift_size)\n",
        "    for i in range(len(x_size)):\n",
        "        if x_size[i] <= window_size[i]:\n",
        "            use_window_size[i] = x_size[i]\n",
        "            if shift_size is not None:\n",
        "                use_shift_size[i] = 0\n",
        "\n",
        "    if shift_size is None:\n",
        "        return tuple(use_window_size)\n",
        "    else:\n",
        "        return tuple(use_window_size), tuple(use_shift_size)"
      ],
      "metadata": {
        "id": "b98XX11lQvpJ"
      },
      "execution_count": null,
      "outputs": []
    },
    {
      "cell_type": "code",
      "source": [
        "window_size = (4,4,4)\n",
        "\n",
        "B, D, H, W, C = x_pt.shape\n",
        "window_size = get_window_size((D, H, W), window_size)\n",
        "window_size"
      ],
      "metadata": {
        "colab": {
          "base_uri": "https://localhost:8080/"
        },
        "id": "f9uxwdB_Q2SC",
        "outputId": "980f7d05-1d92-4172-b0bd-8b34e4701206"
      },
      "execution_count": null,
      "outputs": [
        {
          "output_type": "execute_result",
          "data": {
            "text/plain": [
              "(4, 4, 4)"
            ]
          },
          "metadata": {},
          "execution_count": 4
        }
      ]
    },
    {
      "cell_type": "markdown",
      "source": [
        "### PyTorch Window Partition"
      ],
      "metadata": {
        "id": "7cur8E5I6XuM"
      }
    },
    {
      "cell_type": "code",
      "source": [
        "from operator import mul \n",
        "from functools import reduce\n"
      ],
      "metadata": {
        "id": "9ifB558C-Op9"
      },
      "execution_count": null,
      "outputs": []
    },
    {
      "cell_type": "code",
      "source": [
        "def window_partition_pt(x, window_size):\n",
        "    \"\"\"\n",
        "    Args:\n",
        "        x: (B, D, H, W, C)\n",
        "        window_size (tuple[int]): window size\n",
        "    Returns:\n",
        "        windows: (B*num_windows, window_size*window_size, C)\n",
        "    \"\"\"\n",
        "    B, D, H, W, C = x.shape\n",
        "    x = x.view(B, D // window_size[0], window_size[0], H // window_size[1], window_size[1], W // window_size[2], window_size[2], C)\n",
        "    windows = x.permute(0, 1, 3, 5, 2, 4, 6, 7).contiguous().view(-1, reduce(mul, window_size), C)\n",
        "    return windows"
      ],
      "metadata": {
        "id": "UM1uaostAQzK"
      },
      "execution_count": null,
      "outputs": []
    },
    {
      "cell_type": "code",
      "source": [
        "x_windows_pt = window_partition_pt(x_pt, window_size)\n",
        "x_windows_pt.shape"
      ],
      "metadata": {
        "colab": {
          "base_uri": "https://localhost:8080/"
        },
        "id": "O4vuQ-Il6Wem",
        "outputId": "99e386ba-9043-4c26-e004-edc052683219"
      },
      "execution_count": null,
      "outputs": [
        {
          "output_type": "execute_result",
          "data": {
            "text/plain": [
              "torch.Size([1280, 64, 3])"
            ]
          },
          "metadata": {},
          "execution_count": 23
        }
      ]
    },
    {
      "cell_type": "markdown",
      "source": [
        "### TF window partition func"
      ],
      "metadata": {
        "id": "971J0oT3QpN9"
      }
    },
    {
      "cell_type": "code",
      "source": [
        "from functools import reduce"
      ],
      "metadata": {
        "id": "PZbEtBmR9Eas"
      },
      "execution_count": null,
      "outputs": []
    },
    {
      "cell_type": "code",
      "source": [
        "def window_partition_tf(x, window_size):\n",
        "    \"\"\"\n",
        "    Args:\n",
        "        x: (B, D, H, W, C)\n",
        "        window_size (tuple[int]): window size\n",
        "    Returns:\n",
        "        windows: (B*num_windows, window_size*window_size, C)\n",
        "    \"\"\"\n",
        "    B, D, H, W, C = x.shape\n",
        "    x = tf.reshape(x, [B, D // window_size[0], window_size[0], H // window_size[1], window_size[1], W // window_size[2], window_size[2], C])\n",
        "    windows = tf.reshape(tf.transpose(x, perm=[0, 1, 3, 5, 2, 4, 6, 7]), [-1, reduce((lambda x, y: x * y), window_size), C])                                    \n",
        "                                               \n",
        "    return windows"
      ],
      "metadata": {
        "id": "MkERjFtZ6cDn"
      },
      "execution_count": null,
      "outputs": []
    },
    {
      "cell_type": "code",
      "source": [
        "x_windows_tf = window_partition_tf(x_tf, window_size)\n",
        "x_windows_tf.shape"
      ],
      "metadata": {
        "colab": {
          "base_uri": "https://localhost:8080/"
        },
        "id": "J-ZwDIz4RB7v",
        "outputId": "1dd27eec-9942-49ff-ab12-9d4a90b1966b"
      },
      "execution_count": null,
      "outputs": [
        {
          "output_type": "execute_result",
          "data": {
            "text/plain": [
              "TensorShape([1280, 64, 3])"
            ]
          },
          "metadata": {},
          "execution_count": 30
        }
      ]
    },
    {
      "cell_type": "markdown",
      "source": [
        "Comparision"
      ],
      "metadata": {
        "id": "MX8PWlpoBi-u"
      }
    },
    {
      "cell_type": "code",
      "source": [
        "np.array_equal(x_windows_tf.numpy(), x_windows_pt.numpy())"
      ],
      "metadata": {
        "colab": {
          "base_uri": "https://localhost:8080/"
        },
        "id": "1eGnJhx2B3Hs",
        "outputId": "2af55052-2211-4635-c89b-29879fb7434c"
      },
      "execution_count": null,
      "outputs": [
        {
          "output_type": "execute_result",
          "data": {
            "text/plain": [
              "True"
            ]
          },
          "metadata": {},
          "execution_count": 34
        }
      ]
    },
    {
      "cell_type": "markdown",
      "source": [
        "## Patch Merging"
      ],
      "metadata": {
        "id": "vTVe4zHzcmlP"
      }
    },
    {
      "cell_type": "markdown",
      "source": [
        "PyTorch"
      ],
      "metadata": {
        "id": "asamy8e8w79D"
      }
    },
    {
      "cell_type": "code",
      "source": [
        "class PatchMerging_pt(nn.Module):\n",
        "    \"\"\" Patch Merging Layer\n",
        "    Args:\n",
        "        dim (int): Number of input channels.\n",
        "        norm_layer (nn.Module, optional): Normalization layer.  Default: nn.LayerNorm\n",
        "    \"\"\"\n",
        "    def __init__(self, dim, norm_layer=nn.LayerNorm):\n",
        "        super().__init__()\n",
        "        self.dim = dim\n",
        "        self.reduction = nn.Linear(4 * dim, 2 * dim, bias=False)\n",
        "        self.norm = norm_layer(4 * dim)\n",
        "\n",
        "    def forward(self, x):\n",
        "        \"\"\" Forward function.\n",
        "        Args:\n",
        "            x: Input feature, tensor size (B, D, H, W, C).\n",
        "        \"\"\"\n",
        "        B, D, H, W, C = x.shape\n",
        "\n",
        "        # padding\n",
        "        pad_input = (H % 2 == 1) or (W % 2 == 1)\n",
        "        if pad_input:\n",
        "            x = F.pad(x, (0, 0, 0, W % 2, 0, H % 2))\n",
        "\n",
        "        x0 = x[:, :, 0::2, 0::2, :]  # B D H/2 W/2 C\n",
        "        x1 = x[:, :, 1::2, 0::2, :]  # B D H/2 W/2 C\n",
        "        x2 = x[:, :, 0::2, 1::2, :]  # B D H/2 W/2 C\n",
        "        x3 = x[:, :, 1::2, 1::2, :]  # B D H/2 W/2 C\n",
        "        x = torch.cat([x0, x1, x2, x3], -1)  # B D H/2 W/2 4*C\n",
        "\n",
        "        x = self.norm(x)\n",
        "        #x = self.reduction(x)\n",
        "\n",
        "        return x"
      ],
      "metadata": {
        "id": "rFsHWhvZCAKK"
      },
      "execution_count": 124,
      "outputs": []
    },
    {
      "cell_type": "markdown",
      "source": [
        "TF"
      ],
      "metadata": {
        "id": "0cb4trrww_J4"
      }
    },
    {
      "cell_type": "code",
      "source": [
        "from tensorflow.keras.layers import Dense, LayerNormalization, Normalization "
      ],
      "metadata": {
        "id": "6Z137rP1dkuh"
      },
      "execution_count": 125,
      "outputs": []
    },
    {
      "cell_type": "code",
      "source": [
        "class PatchMerging_tf(tf.keras.layers.Layer):\n",
        "    def __init__(self, dim, norm_layer=LayerNormalization):\n",
        "        super().__init__()\n",
        "        self.dim = dim\n",
        "        #self.reduction = Dense(2 * dim, use_bias=False,  activation=None)\n",
        "        self.norm = norm_layer(epsilon=1e-5)\n",
        "\n",
        "    def call(self, x):\n",
        "        B, D, H, W, C = x.shape\n",
        "\n",
        "        # padding\n",
        "        pad_input = (H % 2 == 1) or (W % 2 == 1)\n",
        "        if pad_input:\n",
        "            x = tf.pad(x_tf, [[0,0], [0,0], [0,H%2], [0,W%2], [0,0]])\n",
        "\n",
        "        x0 = x[:, :, 0::2, 0::2, :]  # B D H/2 W/2 C\n",
        "        x1 = x[:, :, 1::2, 0::2, :]  # B D H/2 W/2 C\n",
        "        x2 = x[:, :, 0::2, 1::2, :]  # B D H/2 W/2 C\n",
        "        x3 = x[:, :, 1::2, 1::2, :]  # B D H/2 W/2 C\n",
        "\n",
        "        x = tf.concat([x0, x1, x2, x3], axis=-1) # B D H/2 W/2 4*C\n",
        "\n",
        "        x = self.norm(x)\n",
        "        #x = self.reduction(x)\n",
        "\n",
        "        return x"
      ],
      "metadata": {
        "id": "Kl5yYPvcdSSg"
      },
      "execution_count": 126,
      "outputs": []
    },
    {
      "cell_type": "code",
      "source": [
        "x_pt = torch.rand(10,8,32,32,3)\n",
        "x_np = x_pt.numpy()\n",
        "x_tf = tf.convert_to_tensor(x_np)"
      ],
      "metadata": {
        "id": "aiGVwoAuoQBo"
      },
      "execution_count": 118,
      "outputs": []
    },
    {
      "cell_type": "code",
      "source": [
        "patchMerging_pt = PatchMerging_pt(3)\n",
        "patchMerging_tf = PatchMerging_tf(3)\n",
        "\n",
        "x_pt_merge = patchMerging_pt(x_pt) \n",
        "x_tf_merge = patchMerging_tf(x_tf) "
      ],
      "metadata": {
        "id": "JBOtgA1CoQER"
      },
      "execution_count": 127,
      "outputs": []
    },
    {
      "cell_type": "code",
      "source": [
        "x_pt_merge.shape, x_tf_merge.shape"
      ],
      "metadata": {
        "colab": {
          "base_uri": "https://localhost:8080/"
        },
        "id": "4PWfflZAth_a",
        "outputId": "6bd08d56-2550-4b2d-d465-3937bf634921"
      },
      "execution_count": 128,
      "outputs": [
        {
          "output_type": "execute_result",
          "data": {
            "text/plain": [
              "(torch.Size([10, 8, 16, 16, 12]), TensorShape([10, 8, 16, 16, 12]))"
            ]
          },
          "metadata": {},
          "execution_count": 128
        }
      ]
    },
    {
      "cell_type": "code",
      "source": [
        "print( x_pt_merge[0][0][0][1].detach().numpy(),\"\\n\\n\\n\", x_tf_merge[0][0][0][1].numpy() )"
      ],
      "metadata": {
        "colab": {
          "base_uri": "https://localhost:8080/"
        },
        "id": "fBcb_XPdxZjp",
        "outputId": "6cdab7a4-4103-48b7-a4f1-16b81c2c5294"
      },
      "execution_count": 129,
      "outputs": [
        {
          "output_type": "stream",
          "name": "stdout",
          "text": [
            "[-0.72882813 -1.2383318  -0.7402359  -0.9829437   0.8310238   1.1086562\n",
            " -0.6501629   1.327112    1.4385794  -1.2904475   0.18586369  0.7397152 ] \n",
            "\n",
            "\n",
            " [-0.72882813 -1.2383318  -0.7402359  -0.98294365  0.8310237   1.1086562\n",
            " -0.6501629   1.327112    1.4385796  -1.2904475   0.18586373  0.73971534]\n"
          ]
        }
      ]
    },
    {
      "cell_type": "code",
      "source": [
        "#np.array_equal(x_pt_merge.detach().numpy(), x_tf_merge.numpy())"
      ],
      "metadata": {
        "colab": {
          "base_uri": "https://localhost:8080/"
        },
        "id": "TQ5_nAyQoQHQ",
        "outputId": "f900187c-7a68-4742-a1eb-573b67db00d0"
      },
      "execution_count": 109,
      "outputs": [
        {
          "output_type": "execute_result",
          "data": {
            "text/plain": [
              "False"
            ]
          },
          "metadata": {},
          "execution_count": 109
        }
      ]
    },
    {
      "cell_type": "code",
      "source": [
        ""
      ],
      "metadata": {
        "id": "MVvo4K7zmTcu"
      },
      "execution_count": null,
      "outputs": []
    }
  ]
}
