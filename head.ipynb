{
 "cells": [
  {
   "cell_type": "code",
   "execution_count": 1,
   "metadata": {},
   "outputs": [
    {
     "name": "stderr",
     "output_type": "stream",
     "text": [
      "c:\\Python\\Python396\\lib\\site-packages\\scipy\\__init__.py:146: UserWarning: A NumPy version >=1.16.5 and <1.23.0 is required for this version of SciPy (detected version 1.23.2\n",
      "  warnings.warn(f\"A NumPy version >={np_minversion} and <{np_maxversion}\"\n"
     ]
    }
   ],
   "source": [
    "import tensorflow as tf\n",
    "import torch\n"
   ]
  },
  {
   "cell_type": "code",
   "execution_count": 2,
   "metadata": {},
   "outputs": [],
   "source": [
    "# import torch.nn as nn\n",
    "# from mmcv.cnn import normal_init\n",
    "# from ..builder import HEADS\n",
    "# from .base import BaseHead\n",
    "\n",
    "\n",
    "# @HEADS.register_module()\n",
    "# class I3DHead(BaseHead):\n",
    "#     \"\"\"Classification head for I3D.\n",
    "#     Args:\n",
    "#         num_classes (int): Number of classes to be classified.\n",
    "#         in_channels (int): Number of channels in input feature.\n",
    "#         loss_cls (dict): Config for building loss.\n",
    "#             Default: dict(type='CrossEntropyLoss')\n",
    "#         spatial_type (str): Pooling type in spatial dimension. Default: 'avg'.\n",
    "#         dropout_ratio (float): Probability of dropout layer. Default: 0.5.\n",
    "#         init_std (float): Std value for Initiation. Default: 0.01.\n",
    "#         kwargs (dict, optional): Any keyword argument to be used to initialize\n",
    "#             the head.\n",
    "#     \"\"\"\n",
    "\n",
    "#     def __init__(self,\n",
    "#                  num_classes,\n",
    "#                  in_channels,\n",
    "#                  loss_cls=dict(type='CrossEntropyLoss'),\n",
    "#                  spatial_type='avg',\n",
    "#                  dropout_ratio=0.5,\n",
    "#                  init_std=0.01,\n",
    "#                  **kwargs):\n",
    "#         super().__init__(num_classes, in_channels, loss_cls, **kwargs)\n",
    "\n",
    "#         self.spatial_type = spatial_type\n",
    "#         self.dropout_ratio = dropout_ratio\n",
    "#         self.init_std = init_std\n",
    "#         if self.dropout_ratio != 0:\n",
    "#             self.dropout = nn.Dropout(p=self.dropout_ratio)\n",
    "#         else:\n",
    "#             self.dropout = None\n",
    "#         self.fc_cls = nn.Linear(self.in_channels, self.num_classes)\n",
    "\n",
    "#         if self.spatial_type == 'avg':\n",
    "#             # use `nn.AdaptiveAvgPool3d` to adaptively match the in_channels.\n",
    "#             self.avg_pool = nn.AdaptiveAvgPool3d((1, 1, 1))\n",
    "#         else:\n",
    "#             self.avg_pool = None\n",
    "\n",
    "#     def init_weights(self):\n",
    "#         \"\"\"Initiate the parameters from scratch.\"\"\"\n",
    "#         normal_init(self.fc_cls, std=self.init_std)\n",
    "\n",
    "#     def forward(self, x):\n",
    "#         \"\"\"Defines the computation performed at every call.\n",
    "#         Args:\n",
    "#             x (torch.Tensor): The input data.\n",
    "#         Returns:\n",
    "#             torch.Tensor: The classification scores for input samples.\n",
    "#         \"\"\"\n",
    "#         # [N, in_channels, 4, 7, 7]\n",
    "#         if self.avg_pool is not None:\n",
    "#             x = self.avg_pool(x)\n",
    "#         # [N, in_channels, 1, 1, 1]\n",
    "#         if self.dropout is not None:\n",
    "#             x = self.dropout(x)\n",
    "#         # [N, in_channels, 1, 1, 1]\n",
    "#         x = x.view(x.shape[0], -1)\n",
    "#         # [N, in_channels]\n",
    "#         cls_score = self.fc_cls(x)\n",
    "#         # [N, num_classes]\n",
    "#         return cls_score"
   ]
  },
  {
   "cell_type": "code",
   "execution_count": 29,
   "metadata": {},
   "outputs": [],
   "source": [
    "def get_x(shape=(1,3,8,224,224)):\n",
    "    x_pt = torch.rand(shape)\n",
    "    x_np = x_pt.numpy()\n",
    "    x_tf = tf.convert_to_tensor(x_np)\n",
    "\n",
    "    return x_tf, x_pt\n",
    "\n",
    "\n",
    "shape = (2, 768, 2, 7, 7)\n",
    "x_tf, x_pt = get_x(shape)"
   ]
  },
  {
   "cell_type": "code",
   "execution_count": 71,
   "metadata": {},
   "outputs": [],
   "source": [
    "import torch.nn as nn\n",
    "# from mmcv.cnn import normal_init\n",
    "\n",
    "def normal_init(module: nn.Module,\n",
    "                mean: float = 0,\n",
    "                std: float = 1,\n",
    "                bias: float = 0) -> None:\n",
    "    if hasattr(module, 'weight') and module.weight is not None:\n",
    "        nn.init.normal_(module.weight, mean, std)\n",
    "    if hasattr(module, 'bias') and module.bias is not None:\n",
    "        nn.init.constant_(module.bias, bias)\n",
    "        print(module.bias)\n",
    "\n",
    "\n",
    "class I3DHead(nn.Module):\n",
    "    \"\"\"Classification head for I3D.\n",
    "    Args:\n",
    "        num_classes (int): Number of classes to be classified.\n",
    "        in_channels (int): Number of channels in input feature.\n",
    "        loss_cls (dict): Config for building loss.\n",
    "            Default: dict(type='CrossEntropyLoss')\n",
    "        spatial_type (str): Pooling type in spatial dimension. Default: 'avg'.\n",
    "        dropout_ratio (float): Probability of dropout layer. Default: 0.5.\n",
    "        init_std (float): Std value for Initiation. Default: 0.01.\n",
    "        kwargs (dict, optional): Any keyword argument to be used to initialize\n",
    "            the head.\n",
    "    \"\"\"\n",
    "\n",
    "    def __init__(self,\n",
    "                 num_classes,\n",
    "                 in_channels,\n",
    "                 loss_cls=dict(type='CrossEntropyLoss'),\n",
    "                 spatial_type='avg',\n",
    "                 dropout_ratio=0.5,\n",
    "                 init_std=0.01,\n",
    "                 **kwargs):\n",
    "\n",
    "        print(num_classes, in_channels, loss_cls, spatial_type, dropout_ratio,init_std, kwargs)\n",
    "        super().__init__( )\n",
    "        self.in_channels = in_channels\n",
    "        self.num_classes = num_classes\n",
    "        self.spatial_type = spatial_type\n",
    "        self.dropout_ratio = dropout_ratio\n",
    "        self.init_std = init_std\n",
    "\n",
    "        if self.dropout_ratio != 0:\n",
    "            self.dropout = nn.Dropout(p=self.dropout_ratio)\n",
    "        else:\n",
    "            self.dropout = None\n",
    "        self.fc_cls = nn.Linear(self.in_channels, self.num_classes)\n",
    "\n",
    "        if self.spatial_type == 'avg':\n",
    "            # use `nn.AdaptiveAvgPool3d` to adaptively match the in_channels.\n",
    "            self.avg_pool = nn.AdaptiveAvgPool3d((1, 1, 1))\n",
    "        else:\n",
    "            self.avg_pool = None\n",
    "\n",
    "    def init_weights(self):\n",
    "        \"\"\"Initiate the parameters from scratch.\"\"\"\n",
    "        normal_init(self.fc_cls, std=self.init_std)\n",
    "\n",
    "    def forward(self, x):\n",
    "        \"\"\"Defines the computation performed at every call.\n",
    "        Args:\n",
    "            x (torch.Tensor): The input data.\n",
    "        Returns:\n",
    "            torch.Tensor: The classification scores for input samples.\n",
    "        \"\"\"\n",
    "        # [N, in_channels, 4, 7, 7]\n",
    "\n",
    "\n",
    "        if self.avg_pool is not None:\n",
    "            x = self.avg_pool(x)\n",
    "            print(\"pool\",x.shape)\n",
    "\n",
    "        \n",
    "        # [N, in_channels, 1, 1, 1]\n",
    "        if self.dropout is not None:\n",
    "            x = self.dropout(x)\n",
    "        # [N, in_channels, 1, 1, 1]\n",
    "        x = x.view(x.shape[0], -1)\n",
    "        # [N, in_channels]\n",
    "        print(x[:1, :10])\n",
    "\n",
    "        cls_score = self.fc_cls(x)\n",
    "        # [N, num_classes]\n",
    "        return cls_score"
   ]
  },
  {
   "cell_type": "code",
   "execution_count": 73,
   "metadata": {},
   "outputs": [
    {
     "name": "stdout",
     "output_type": "stream",
     "text": [
      "5 768 {'type': 'CrossEntropyLoss'} avg 0.5 0.01 {}\n",
      "Parameter containing:\n",
      "tensor([0., 0., 0., 0., 0.], requires_grad=True)\n",
      "pool torch.Size([2, 768, 1, 1, 1])\n",
      "tensor([[0.0000, 0.0000, 0.9596, 0.0000, 0.0000, 0.9384, 0.0000, 0.0000, 0.9948,\n",
      "         0.0000]])\n"
     ]
    },
    {
     "data": {
      "text/plain": [
       "torch.Size([2, 5])"
      ]
     },
     "execution_count": 73,
     "metadata": {},
     "output_type": "execute_result"
    }
   ],
   "source": [
    "head_pt = I3DHead(num_classes=5,in_channels=768,\n",
    "        spatial_type='avg',\n",
    "        dropout_ratio=0.5)\n",
    "head_pt.init_weights()\n",
    "\n",
    "out_pt = head_pt(x_pt)\n",
    "out_pt.shape"
   ]
  },
  {
   "cell_type": "code",
   "execution_count": null,
   "metadata": {},
   "outputs": [],
   "source": []
  },
  {
   "cell_type": "code",
   "execution_count": 74,
   "metadata": {},
   "outputs": [
    {
     "data": {
      "text/plain": [
       "dict_keys(['fc_cls.weight', 'fc_cls.bias'])"
      ]
     },
     "execution_count": 74,
     "metadata": {},
     "output_type": "execute_result"
    }
   ],
   "source": [
    "head_pt.eval()\n",
    "\n",
    "\n",
    "\n",
    "np_state_dict = head_pt.state_dict()\n",
    "np_state_dict = {k: np_state_dict[k].numpy() for k in np_state_dict}\n",
    "\n",
    "np_state_dict.keys()"
   ]
  },
  {
   "cell_type": "code",
   "execution_count": 75,
   "metadata": {},
   "outputs": [
    {
     "data": {
      "text/plain": [
       "array([0., 0., 0., 0., 0.], dtype=float32)"
      ]
     },
     "execution_count": 75,
     "metadata": {},
     "output_type": "execute_result"
    }
   ],
   "source": [
    "np_state_dict[\"fc_cls.bias\"]"
   ]
  },
  {
   "cell_type": "code",
   "execution_count": 76,
   "metadata": {},
   "outputs": [],
   "source": [
    "from tensorflow.keras import initializers\n",
    "import tensorflow_addons as tfa\n",
    "\n",
    "\n",
    "\n",
    "class I3DHead_tf(tf.keras.Model):\n",
    "    \"\"\"Classification head for I3D.\n",
    "    Args:\n",
    "        num_classes (int): Number of classes to be classified.\n",
    "        in_channels (int): Number of channels in input feature.\n",
    "        loss_cls (dict): Config for building loss.\n",
    "            Default: dict(type='CrossEntropyLoss')\n",
    "        spatial_type (str): Pooling type in spatial dimension. Default: 'avg'.\n",
    "        dropout_ratio (float): Probability of dropout layer. Default: 0.5.\n",
    "        init_std (float): Std value for Initiation. Default: 0.01.\n",
    "        kwargs (dict, optional): Any keyword argument to be used to initialize\n",
    "            the head.\n",
    "    \"\"\"\n",
    "\n",
    "    def __init__(self,\n",
    "                 num_classes,\n",
    "                 in_channels,\n",
    "                 loss_cls=dict(type='CrossEntropyLoss'),\n",
    "                 spatial_type='avg',\n",
    "                 dropout_ratio=0.5,\n",
    "                 init_std=0.01,\n",
    "                 **kwargs):\n",
    "\n",
    "        print(num_classes, in_channels, loss_cls, spatial_type, dropout_ratio,init_std, kwargs)\n",
    "        super().__init__( )\n",
    "        self.in_channels = in_channels\n",
    "        self.num_classes = num_classes\n",
    "        self.spatial_type = spatial_type\n",
    "        self.dropout_ratio = dropout_ratio\n",
    "        self.init_std = init_std\n",
    "        if self.dropout_ratio != 0:\n",
    "            self.dropout = tf.keras.layers.Dropout(self.dropout_ratio)\n",
    "        else:\n",
    "            self.dropout = None\n",
    "        self.fc_cls = tf.keras.layers.Dense( self.num_classes,  \n",
    "                                            kernel_initializer=initializers.RandomNormal(stddev=self.init_std),\n",
    "                                            bias_initializer=initializers.Zeros())\n",
    "\n",
    "        if self.spatial_type == 'avg':\n",
    "            # use `nn.AdaptiveAvgPool3d` to adaptively match the in_channels.\n",
    "            self.avg_pool = tfa.layers.AdaptiveAveragePooling3D((1, 1, 1))\n",
    "        else:\n",
    "            self.avg_pool = None\n",
    "\n",
    "\n",
    "\n",
    "    def call(self, x):\n",
    "        \"\"\"Defines the computation performed at every call.\n",
    "        Args:\n",
    "            x (torch.Tensor): The input data.\n",
    "        Returns:\n",
    "            torch.Tensor: The classification scores for input samples.\n",
    "        \"\"\"\n",
    "        # [N, in_channels, 4, 7, 7]\n",
    "\n",
    "\n",
    "        if self.avg_pool is not None:\n",
    "            x = tf.transpose(x, perm=(0,2,3,4,1))\n",
    "\n",
    "            x = self.avg_pool(x)\n",
    "            # x = tf.transpose(x, perm=(0,4,1,2,3))\n",
    "\n",
    "            print(\"pool\",x.shape)\n",
    "\n",
    "        # [N, in_channels, 1, 1, 1]\n",
    "\n",
    "\n",
    "        if self.dropout is not None:\n",
    "            x = self.dropout(x)\n",
    "        # [N, in_channels, 1, 1, 1]\n",
    "\n",
    "        x = tf.reshape(x, [x.shape[0],-1])\n",
    "        # [N, in_channels]\n",
    "        cls_score = self.fc_cls(x)\n",
    "        \n",
    "        # [N, num_classes]\n",
    "        return cls_score"
   ]
  },
  {
   "cell_type": "code",
   "execution_count": 77,
   "metadata": {},
   "outputs": [
    {
     "name": "stdout",
     "output_type": "stream",
     "text": [
      "5 768 {'type': 'CrossEntropyLoss'} avg 0.5 0.01 {}\n",
      "pool (2, 1, 1, 1, 768)\n",
      "tf.Tensor(\n",
      "[[0.5597479  0.450521   0.47980407 0.5017258  0.47834447 0.46921554\n",
      "  0.48635027 0.51388454 0.49739128 0.49860203]], shape=(1, 10), dtype=float32)\n"
     ]
    },
    {
     "data": {
      "text/plain": [
       "TensorShape([2, 5])"
      ]
     },
     "execution_count": 77,
     "metadata": {},
     "output_type": "execute_result"
    }
   ],
   "source": [
    "head_tf = I3DHead_tf(5, 768)\n",
    "out_tf = head_tf(x_tf)\n",
    "out_tf.shape"
   ]
  },
  {
   "cell_type": "code",
   "execution_count": 78,
   "metadata": {},
   "outputs": [],
   "source": [
    "def modify_dense(tf_component, np_state_dict):\n",
    "    tf_component.kernel.assign(tf.Variable(np_state_dict[\"fc_cls.weight\"].transpose(1, 0)))\n",
    "    tf_component.bias.assign(tf.Variable(np_state_dict[\"fc_cls.bias\"]))\n",
    "    return tf_component\n",
    "\n",
    "\n",
    "head_tf.layers[1] = modify_dense(head_tf.layers[1], np_state_dict)"
   ]
  },
  {
   "cell_type": "code",
   "execution_count": 79,
   "metadata": {},
   "outputs": [
    {
     "name": "stdout",
     "output_type": "stream",
     "text": [
      "pool (2, 1, 1, 1, 768)\n",
      "tf.Tensor(\n",
      "[[0.5597479  0.450521   0.47980407 0.5017258  0.47834447 0.46921554\n",
      "  0.48635027 0.51388454 0.49739128 0.49860203]], shape=(1, 10), dtype=float32)\n",
      "pool torch.Size([2, 768, 1, 1, 1])\n",
      "tensor([[0.5597, 0.4505, 0.4798, 0.5017, 0.4783, 0.4692, 0.4864, 0.5139, 0.4974,\n",
      "         0.4986]])\n"
     ]
    },
    {
     "data": {
      "text/plain": [
       "(<tf.Tensor: shape=(2, 5), dtype=float32, numpy=\n",
       " array([[ 0.15969104, -0.10262091,  0.17698918, -0.06723979,  0.00814114],\n",
       "        [ 0.14762259, -0.10894921,  0.16734135, -0.06109077, -0.00279752]],\n",
       "       dtype=float32)>,\n",
       " tensor([[ 0.1597, -0.1026,  0.1770, -0.0672,  0.0081],\n",
       "         [ 0.1476, -0.1089,  0.1673, -0.0611, -0.0028]],\n",
       "        grad_fn=<AddmmBackward0>))"
      ]
     },
     "execution_count": 79,
     "metadata": {},
     "output_type": "execute_result"
    }
   ],
   "source": [
    "out_tf = head_tf(x_tf)\n",
    "out_pt = head_pt(x_pt)\n",
    "\n",
    "out_tf, out_pt"
   ]
  },
  {
   "cell_type": "code",
   "execution_count": null,
   "metadata": {},
   "outputs": [],
   "source": []
  }
 ],
 "metadata": {
  "kernelspec": {
   "display_name": "Python 3.8.9 64-bit",
   "language": "python",
   "name": "python3"
  },
  "language_info": {
   "codemirror_mode": {
    "name": "ipython",
    "version": 3
   },
   "file_extension": ".py",
   "mimetype": "text/x-python",
   "name": "python",
   "nbconvert_exporter": "python",
   "pygments_lexer": "ipython3",
   "version": "3.8.9"
  },
  "orig_nbformat": 4,
  "vscode": {
   "interpreter": {
    "hash": "31f2aee4e71d21fbe5cf8b01ff0e069b9275f58929596ceb00d14d90e3e16cd6"
   }
  }
 },
 "nbformat": 4,
 "nbformat_minor": 2
}
