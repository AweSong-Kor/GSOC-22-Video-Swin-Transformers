{
  "cells": [
    {
      "cell_type": "code",
      "execution_count": 13,
      "metadata": {
        "id": "VSHDVCPoT6S1"
      },
      "outputs": [],
      "source": [
        "import tensorflow as tf\n",
        "import torch\n",
        "import torch.nn as nn\n",
        "import numpy as np\n",
        "from VideoSwinTransformer import *\n",
        "import os\n",
        "from collections import OrderedDict"
      ]
    },
    {
      "cell_type": "code",
      "execution_count": 14,
      "metadata": {
        "colab": {
          "base_uri": "https://localhost:8080/"
        },
        "id": "88Jni1OfBmgZ",
        "outputId": "6c37df68-467f-4354-fbce-d82a0ec27a94"
      },
      "outputs": [
        {
          "data": {
            "text/plain": [
              "<torch.autograd.grad_mode.set_grad_enabled at 0x2985ee9d0>"
            ]
          },
          "execution_count": 14,
          "metadata": {},
          "output_type": "execute_result"
        }
      ],
      "source": [
        "torch.set_grad_enabled(False)"
      ]
    },
    {
      "cell_type": "code",
      "execution_count": 15,
      "metadata": {
        "id": "WQP-DjEmTzcY"
      },
      "outputs": [],
      "source": [
        "def get_x(shape= (4,3,32,224,224)):\n",
        "    x_pt = torch.rand(shape) * 255\n",
        "    x_np = x_pt.numpy()\n",
        "    x_tf = tf.convert_to_tensor(x_np)\n",
        "\n",
        "    return x_tf, x_pt"
      ]
    },
    {
      "cell_type": "code",
      "execution_count": 16,
      "metadata": {
        "id": "wp-MvywEL5XT"
      },
      "outputs": [],
      "source": [
        "shape_of_input = [10,3,32,224,224]\n",
        "x_tf, x_pt = get_x(shape_of_input)"
      ]
    },
    {
      "cell_type": "markdown",
      "metadata": {
        "id": "sgYW2rAqTzcZ"
      },
      "source": [
        "## Convert Weights"
      ]
    },
    {
      "cell_type": "markdown",
      "metadata": {
        "id": "jUYoVlOfTzcc"
      },
      "source": [
        "Initiate model and Load PyTorch Weights"
      ]
    },
    {
      "cell_type": "code",
      "execution_count": 17,
      "metadata": {
        "colab": {
          "base_uri": "https://localhost:8080/"
        },
        "id": "f6aRD7ZyUcWl",
        "outputId": "d62ec70a-4a8d-4c8d-cd96-45788e967867"
      },
      "outputs": [],
      "source": [
        "cfg_method = model_configs.MODEL_MAP[\"swin_tiny_patch244_window877_kinetics400_1k\"]\n",
        "cfg = cfg_method()\n",
        "\n",
        "name = cfg[\"name\"]\n",
        "link = cfg['link']\n",
        "del cfg[\"name\"]\n",
        "del cfg['link']\n",
        "del cfg[\"drop_path_rate\"]\n",
        "# download_weight_command = f\"wget {link} -O {name}.pth\"\n",
        "# os.system(download_weight_command)"
      ]
    },
    {
      "cell_type": "code",
      "execution_count": 18,
      "metadata": {
        "id": "emFflCpfTzcd"
      },
      "outputs": [
        {
          "name": "stdout",
          "output_type": "stream",
          "text": [
            "shape_of_input [10, 3, 32, 224, 224]\n",
            "pt\n",
            "++++++++\n",
            " tf\n",
            "shape_of_input:  [10, 3, 32, 224, 224]\n",
            "\n",
            "\n",
            "\n",
            " pt\n",
            "------- \n",
            " tf\n",
            "patch embed (4, 96, 16, 56, 56)\n"
          ]
        }
      ],
      "source": [
        "# shape_of_input[1] , shape_of_input[4], shape_of_input[2] = shape_of_input[2], shape_of_input[1], shape_of_input[4]\n",
        "\n",
        "# (2, 32, 224,224,3)\n",
        "# shape_of_input = [1,3,32,224,224]\n",
        "\n",
        "print(\"shape_of_input\", shape_of_input)\n",
        "print(\"pt\")\n",
        "pt_model = SwinTransformer3D_pt(**cfg,drop_rate=0.4, drop_path_rate=0., isTest= True)\n",
        "print(\"++++++++\\n tf\")\n",
        "tf_model = SwinTransformer3D(**cfg,shape_of_input=shape_of_input, drop_rate=0.4, drop_path_rate=0., isTest= True)\n",
        "x_tf, x_pt = get_x()\n",
        "\n",
        "\n",
        "print(\"\\n\\n\\n pt\")\n",
        "basic_pt, z= pt_model(x_pt)\n",
        "print(\"------- \\n tf\")\n",
        "\n",
        "basic_tf, y = tf_model(x_tf)\n",
        "\n",
        "# print(\"\\n loading checkpoint\")\n",
        "# checkpoint = torch.load(f'{name}.pth')\n",
        "# new_state_dict = OrderedDict()\n",
        "# for k, v in checkpoint['state_dict'].items():\n",
        "#     if 'backbone' in k:\n",
        "#         name = k[9:]\n",
        "#         new_state_dict[name] = v \n",
        "\n",
        "# pt_model.load_state_dict(new_state_dict) \n",
        "# pt_model.eval()"
      ]
    },
    {
      "cell_type": "code",
      "execution_count": 19,
      "metadata": {},
      "outputs": [],
      "source": [
        "# a = a"
      ]
    },
    {
      "cell_type": "code",
      "execution_count": 20,
      "metadata": {},
      "outputs": [],
      "source": [
        "pt_model.eval()\n"
      ]
    },
    {
      "cell_type": "markdown",
      "metadata": {
        "id": "mfFZyWSaTzcf"
      },
      "source": [
        "Convert Functions"
      ]
    },
    {
      "cell_type": "code",
      "execution_count": 21,
      "metadata": {
        "id": "02w5N8_mTzcg"
      },
      "outputs": [],
      "source": [
        "def conv_transpose(w):\n",
        "    return w.transpose(2,3,4,1, 0)\n",
        "    \n",
        "\n",
        "def modify_tf_block( tf_component, pt_weight,  pt_bias = None, is_attn=False):\n",
        "    in_shape = pt_weight.shape\n",
        "\n",
        "    if isinstance(tf_component, tf.keras.layers.Conv3D) :\n",
        "      pt_weight = conv_transpose(pt_weight)\n",
        "\n",
        "    if isinstance(tf_component, tf.keras.layers.Dense) and not is_attn:\n",
        "      pt_weight =pt_weight.transpose()\n",
        "\n",
        "    if isinstance(tf_component, (tf.keras.layers.Dense, tf.keras.layers.Conv3D)):\n",
        "        tf_component.kernel.assign(tf.Variable(pt_weight))\n",
        "\n",
        "        if pt_bias is not None:\n",
        "            tf_component.bias.assign(tf.Variable(pt_bias))\n",
        "\n",
        "    elif isinstance(tf_component, tf.keras.layers.LayerNormalization):\n",
        "\n",
        "        tf_component.gamma.assign(tf.Variable(pt_weight))\n",
        "\n",
        "        tf_component.beta.assign(tf.Variable(pt_bias))\n",
        "\n",
        "    elif isinstance(tf_component, (tf.Variable)):\n",
        "        tf_component.assign(tf.Variable(pt_weight))\n",
        "\n",
        "    else:\n",
        "        return tf.convert_to_tensor(pt_weight)\n",
        "        \n",
        "        \n",
        "\n",
        "    return tf_component\n",
        "\n",
        "\n",
        "def modify_swin_blocks(np_state_dict, pt_weights_prefix, tf_block):\n",
        "\n",
        "  for layer in tf_block:\n",
        "    if isinstance(layer, PatchMerging):\n",
        "      patch_merging_idx = f\"{pt_weights_prefix}.downsample\"\n",
        "\n",
        "      layer.reduction = modify_tf_block( layer.reduction,\n",
        "                          np_state_dict[f\"{patch_merging_idx}.reduction.weight\"])\n",
        "      layer.norm = modify_tf_block( layer.norm,\n",
        "                        np_state_dict[f\"{patch_merging_idx}.norm.weight\"],\n",
        "                        np_state_dict[f\"{patch_merging_idx}.norm.bias\"]\n",
        "                        )\n",
        "      \n",
        "  # Swin Layers\n",
        "  common_prefix = f\"{pt_weights_prefix}.blocks\"\n",
        "  block_idx = 0\n",
        "\n",
        "  for outer_layer in tf_block:\n",
        "\n",
        "      layernorm_idx = 1\n",
        "      mlp_layer_idx = 1\n",
        "\n",
        "      if isinstance(outer_layer, SwinTransformerBlock3D):\n",
        "          for inner_layer in outer_layer.layers:\n",
        "        \n",
        "              # Layer norm.\n",
        "              if isinstance(inner_layer, tf.keras.layers.LayerNormalization):\n",
        "                  layer_norm_prefix = (\n",
        "                      f\"{common_prefix}.{block_idx}.norm{layernorm_idx}\"\n",
        "                  )\n",
        "                  inner_layer.gamma.assign(\n",
        "                      tf.Variable(\n",
        "                          np_state_dict[f\"{layer_norm_prefix}.weight\"]\n",
        "                      )\n",
        "                  )\n",
        "\n",
        "\n",
        "\n",
        "                  inner_layer.beta.assign(\n",
        "                      tf.Variable(np_state_dict[f\"{layer_norm_prefix}.bias\"])\n",
        "                  )\n",
        "\n",
        "                  layernorm_idx += 1\n",
        "\n",
        "              # Window attention.\n",
        "              elif isinstance(inner_layer, WindowAttention3D):\n",
        "                  attn_prefix = f\"{common_prefix}.{block_idx}.attn\"\n",
        "\n",
        "                  # Relative position.\n",
        "                  inner_layer.relative_position_bias_table = (\n",
        "                      modify_tf_block(\n",
        "                          inner_layer.relative_position_bias_table,\n",
        "                          np_state_dict[\n",
        "                              f\"{attn_prefix}.relative_position_bias_table\"\n",
        "                          ] \n",
        "                      )\n",
        "                  )\n",
        "                  inner_layer.relative_position_index = (\n",
        "                      modify_tf_block(\n",
        "                          inner_layer.relative_position_index,\n",
        "                          np_state_dict[\n",
        "                              f\"{attn_prefix}.relative_position_index\"\n",
        "                          ]\n",
        "                      )\n",
        "                  )\n",
        "\n",
        "                  # QKV.\n",
        "                  inner_layer.qkv = modify_tf_block(\n",
        "                      inner_layer.qkv,\n",
        "                      np_state_dict[f\"{attn_prefix}.qkv.weight\"],\n",
        "                      np_state_dict[f\"{attn_prefix}.qkv.bias\"]\n",
        "                  )\n",
        "\n",
        "                  # Projection.\n",
        "                  inner_layer.proj = modify_tf_block(\n",
        "                      inner_layer.proj,\n",
        "                      np_state_dict[f\"{attn_prefix}.proj.weight\"],\n",
        "                      np_state_dict[f\"{attn_prefix}.proj.bias\"]\n",
        "                  )\n",
        "\n",
        "              # MLP.\n",
        "              elif isinstance(inner_layer, tf.keras.Model):\n",
        "                  mlp_prefix = f\"{common_prefix}.{block_idx}.mlp\"\n",
        "                  for mlp_layer in inner_layer.layers:\n",
        "                      if isinstance(mlp_layer, tf.keras.layers.Dense):\n",
        "                          mlp_layer = modify_tf_block(\n",
        "                              mlp_layer,\n",
        "                              np_state_dict[\n",
        "                                  f\"{mlp_prefix}.fc{mlp_layer_idx}.weight\"\n",
        "                              ],\n",
        "                              np_state_dict[\n",
        "                                  f\"{mlp_prefix}.fc{mlp_layer_idx}.bias\"\n",
        "                              ]\n",
        "                          )\n",
        "                          mlp_layer_idx += 1\n",
        "\n",
        "          block_idx += 1\n",
        "  return tf_block\n"
      ]
    },
    {
      "cell_type": "markdown",
      "metadata": {
        "id": "rGfcatguTzck"
      },
      "source": [
        "### convert"
      ]
    },
    {
      "cell_type": "code",
      "execution_count": 22,
      "metadata": {
        "id": "pZAMhaFGTzcl"
      },
      "outputs": [],
      "source": [
        "np_state_dict = pt_model.state_dict()\n",
        "np_state_dict = {k: np_state_dict[k].numpy() for k in np_state_dict}\n",
        "\n",
        "tf_model.projection.layers[0] = modify_tf_block(tf_model.projection.layers[0]\n",
        "        ,\n",
        "        np_state_dict[\"patch_embed.proj.weight\"],\n",
        "        np_state_dict[\"patch_embed.proj.bias\"])\n",
        "\n",
        "tf_model.projection.layers[1] = modify_tf_block(\n",
        "    tf_model.projection.layers[1],\n",
        "    np_state_dict[\"patch_embed.norm.weight\"],\n",
        "    np_state_dict[\"patch_embed.norm.bias\"])\n",
        "\n",
        "\n",
        "layer_normalization_idx = -1\n",
        "\n",
        "tf_model.layers[layer_normalization_idx] = modify_tf_block(\n",
        "    tf_model.layers[layer_normalization_idx] ,\n",
        "    np_state_dict[\"norm.weight\"],\n",
        "    np_state_dict[\"norm.bias\"]\n",
        "    )\n",
        "\n",
        "# swin layers\n",
        "for i in range(2, len(tf_model.layers) - 1):\n",
        "    _ = modify_swin_blocks(np_state_dict,\n",
        "                        f\"layers.{i-2}\",\n",
        "                        tf_model.layers[i].layers)"
      ]
    },
    {
      "cell_type": "code",
      "execution_count": 23,
      "metadata": {
        "id": "KBvHCrG9oxyu"
      },
      "outputs": [],
      "source": [
        "x_tf, x_pt = get_x(shape_of_input)"
      ]
    },
    {
      "cell_type": "code",
      "execution_count": 24,
      "metadata": {
        "colab": {
          "base_uri": "https://localhost:8080/"
        },
        "id": "sB9un1CATzcm",
        "outputId": "6d2e86a7-32bb-4601-aaa1-9e6547eeebdd"
      },
      "outputs": [
        {
          "name": "stdout",
          "output_type": "stream",
          "text": [
            "patch embed (10, 96, 16, 56, 56)\n",
            "------\n"
          ]
        },
        {
          "data": {
            "text/plain": [
              "(TensorShape([10, 768, 16, 7, 7]), torch.Size([10, 768, 16, 7, 7]))"
            ]
          },
          "execution_count": 24,
          "metadata": {},
          "output_type": "execute_result"
        }
      ],
      "source": [
        "layers_output_tf, y = tf_model(x_tf)\n",
        "print(\"------\")\n",
        "layers_output_pt, z= pt_model(x_pt)\n",
        "\n",
        "y.shape, z.shape\n",
        "\n",
        "# basic 1 input (1, 96, 4, 56, 56)"
      ]
    },
    {
      "cell_type": "code",
      "execution_count": 25,
      "metadata": {
        "id": "jus_cUshN-f0"
      },
      "outputs": [
        {
          "name": "stdout",
          "output_type": "stream",
          "text": [
            "-------------- PatchEmbed -------------\n",
            " TF:  [[[[[0.34746313 0.00200087 1.4394778  1.7740839  0.24191917 0.16951421\n",
            "     0.5117054  0.08692615 0.17793417 0.62967354]]]]] \n",
            " PT:  [[[[[0.3474632  0.00200081 1.4394777  1.7740839  0.24191923 0.16951421\n",
            "     0.51170534 0.08692621 0.1779342  0.6296734 ]]]]] \n",
            "\n",
            "-------------- drop_out -------------\n",
            " TF:  [[[[[0.34746313 0.00200087 1.4394778  1.7740839  0.24191917 0.16951421\n",
            "     0.5117054  0.08692615 0.17793417 0.62967354]]]]] \n",
            " PT:  [[[[[0.3474632  0.00200081 1.4394777  1.7740839  0.24191923 0.16951421\n",
            "     0.51170534 0.08692621 0.1779342  0.6296734 ]]]]] \n",
            "\n",
            "-------------- basic layer1 -------------\n",
            " TF:  [[[[[0.74382645 1.0854849  0.45899203 0.4616804  0.9776213  1.3806359\n",
            "     0.3153539  0.4985238  1.026734   0.7362664 ]]]]] \n",
            " PT:  [[[[[0.74382627 1.0854849  0.45899203 0.46168035 0.97762173 1.3806362\n",
            "     0.31535393 0.498524   1.0267339  0.7362657 ]]]]] \n",
            "\n",
            "-------------- basic layer2 -------------\n",
            " TF:  [[[[[ 0.17765006 -0.26607105 -0.22444838  0.38958582  0.29333767\n",
            "     -0.09497267 -0.17270009  0.09031665  0.4608231   0.39979267]]]]] \n",
            " PT:  [[[[[ 0.17765021 -0.26607123 -0.2244486   0.38958597  0.29333815\n",
            "     -0.09497308 -0.17270063  0.09031617  0.46082333  0.3997926 ]]]]] \n",
            "\n",
            "-------------- basic layer3 -------------\n",
            " TF:  [[[[[0.7725574  0.9052736  0.7198777  0.9921825  0.84355634 0.8543258\n",
            "     0.83525646]]]]] \n",
            " PT:  [[[[[0.7725572  0.90527284 0.7198769  0.9921831  0.84355587 0.85432744\n",
            "     0.8352563 ]]]]] \n",
            "\n",
            "-------------- basic layer4 -------------\n",
            " TF:  [[[[[0.29660755 0.45076096 0.2764873  0.5104535  0.34057847 0.4285282\n",
            "     0.32403982]]]]] \n",
            " PT:  [[[[[0.29660714 0.45076048 0.2764873  0.5104538  0.34057868 0.42852944\n",
            "     0.3240403 ]]]]] \n",
            "\n",
            "-------------- Final Output -------------\n",
            " TF:  [[[[[0.47498128 0.6804184  0.44266206 0.7622859  0.5387372  0.64436823\n",
            "     0.52288353]]]]] \n",
            " PT:  [[[[[0.47498077 0.6804178  0.44266203 0.76228637 0.5387374  0.64436984\n",
            "     0.5228842 ]]]]] \n",
            "\n"
          ]
        }
      ],
      "source": [
        "# Eplore the output of all layers\n",
        "for layer in layers_output_pt:\n",
        "    print(\"--------------\",layer, \"-------------\\n TF: \", layers_output_tf[layer].numpy()[:1,:1,:1,:1,:10], \"\\n PT: \", layers_output_pt[layer].detach().numpy()[:1,:1,:1,:1,:10], \"\\n\" )"
      ]
    },
    {
      "cell_type": "code",
      "execution_count": 26,
      "metadata": {},
      "outputs": [
        {
          "name": "stdout",
          "output_type": "stream",
          "text": [
            "8.119380950927734 Absolute Difference of  PatchEmbed\n",
            "8.119380950927734 Absolute Difference of  drop_out\n",
            "4.743508815765381 Absolute Difference of  basic layer1\n",
            "3.7834949493408203 Absolute Difference of  basic layer2\n",
            "2.67332124710083 Absolute Difference of  basic layer3\n",
            "3.5226778984069824 Absolute Difference of  basic layer4\n",
            "4.604726791381836 Absolute Difference of  Final Output\n"
          ]
        }
      ],
      "source": [
        "# compare layers' output. It asserts  at basic layer1\n",
        "for layer in layers_output_pt:\n",
        "\n",
        "    abs_diff = np.sum( np.abs( layers_output_tf[layer].numpy() - layers_output_pt[layer].detach().numpy()))\n",
        "    print(f\"{abs_diff} Absolute Difference of  {layer}\" )\n"
      ]
    },
    {
      "cell_type": "code",
      "execution_count": 29,
      "metadata": {},
      "outputs": [
        {
          "name": "stdout",
          "output_type": "stream",
          "text": [
            "Testing PatchEmbed\n",
            "Testing drop_out\n",
            "Testing basic layer1\n",
            "Testing basic layer2\n",
            "Testing basic layer3\n",
            "Testing basic layer4\n",
            "Testing Final Output\n"
          ]
        }
      ],
      "source": [
        "# compare layers' output. It asserts  at basic layer1\n",
        "for layer in layers_output_pt:\n",
        "    print(\"Testing\", layer)\n",
        "    np.testing.assert_allclose(layers_output_tf[layer].numpy(), layers_output_pt[layer].detach().numpy(), 1e-4, 1e-4)"
      ]
    },
    {
      "cell_type": "code",
      "execution_count": 28,
      "metadata": {},
      "outputs": [
        {
          "ename": "NameError",
          "evalue": "name 'a' is not defined",
          "output_type": "error",
          "traceback": [
            "\u001b[0;31m---------------------------------------------------------------------------\u001b[0m",
            "\u001b[0;31mNameError\u001b[0m                                 Traceback (most recent call last)",
            "\u001b[1;32m/Users/mohammadshoaib/Codes/tensorflow-test/GSOC-22-Video-Swin-Transformers/Compare_Layers_Video_Swin_Transformer.ipynb Cell 20\u001b[0m in \u001b[0;36m<cell line: 1>\u001b[0;34m()\u001b[0m\n\u001b[0;32m----> <a href='vscode-notebook-cell:/Users/mohammadshoaib/Codes/tensorflow-test/GSOC-22-Video-Swin-Transformers/Compare_Layers_Video_Swin_Transformer.ipynb#ch0000019?line=0'>1</a>\u001b[0m a \u001b[39m=\u001b[39m a\n",
            "\u001b[0;31mNameError\u001b[0m: name 'a' is not defined"
          ]
        }
      ],
      "source": [
        "a = a"
      ]
    },
    {
      "cell_type": "code",
      "execution_count": null,
      "metadata": {},
      "outputs": [],
      "source": [
        "e = 1e-4\n",
        "np.testing.assert_allclose(layers_output_tf[\"basic layer4\"].numpy(), layers_output_pt[\"basic layer4\"].detach().numpy(), e, e)\n"
      ]
    },
    {
      "cell_type": "code",
      "execution_count": null,
      "metadata": {
        "id": "lTsJhqo39sOx"
      },
      "outputs": [],
      "source": [
        "# comparing the outputs\n",
        "np.testing.assert_allclose(y.numpy(), z.detach().numpy(), 1e-4, 1e-4)\n"
      ]
    },
    {
      "cell_type": "code",
      "execution_count": null,
      "metadata": {
        "colab": {
          "base_uri": "https://localhost:8080/",
          "height": 621
        },
        "id": "ddWr78VQ-oGa",
        "outputId": "f18fdf52-a55a-45c4-e2e8-ef183b13bef7"
      },
      "outputs": [],
      "source": []
    },
    {
      "cell_type": "markdown",
      "metadata": {
        "id": "GDYo4pqMTzcn"
      },
      "source": [
        "### PT basic layer outputs comparison"
      ]
    },
    {
      "cell_type": "code",
      "execution_count": null,
      "metadata": {
        "id": "Qry9YZwqTzcn"
      },
      "outputs": [],
      "source": [
        "attempts = 2\n",
        "# x_pt = torch.rand((1,3,8,224,224))\n",
        "\n",
        "outputs = []\n",
        "\n",
        "for i in range(attempts):\n",
        "    layer_out , result = pt_model(x_pt)\n",
        "    outputs.append(layer_out)\n",
        "\n",
        "i = 0\n",
        "for layer in outputs[0]:\n",
        "    print(\"--------------\", layer, \"---------------\")\n",
        "    for idx, layer_out in enumerate(outputs) :\n",
        "        print(f\"attempt {idx} : \",layer_out[layer].detach().numpy()[:1,:1,:1,:1,:10], \"\\n\")\n",
        "    print()\n"
      ]
    },
    {
      "cell_type": "markdown",
      "metadata": {
        "id": "XThvAWb2AOT1"
      },
      "source": [
        "### All close testing\n",
        "\n",
        "Compare the first attempt with another attempt. Enter the attempt value in the following cell"
      ]
    },
    {
      "cell_type": "code",
      "execution_count": null,
      "metadata": {
        "id": "58uXm8HnDnWy"
      },
      "outputs": [],
      "source": [
        "attempt_no = 1     # Change the attempt_no value to compare the first attempt with another attempt\n"
      ]
    },
    {
      "cell_type": "code",
      "execution_count": null,
      "metadata": {
        "id": "VI7BMA75ES86"
      },
      "outputs": [],
      "source": [
        "# PatchEmbed Layer\n",
        "output1 = outputs[0][\"PatchEmbed\"]\n",
        "output2 =  outputs[attempt_no][\"PatchEmbed\"]\n",
        "\n",
        "np.testing.assert_allclose(output1.detach().numpy(), output2.detach().numpy(), 1e-4, 1e-4)"
      ]
    },
    {
      "cell_type": "code",
      "execution_count": null,
      "metadata": {
        "id": "ozPQ2dK5DOBy"
      },
      "outputs": [],
      "source": [
        "# Basic Layer1\n",
        "output1 = outputs[0][\"basic layer1\"]\n",
        "output2 =  outputs[attempt_no][\"basic layer1\"]\n",
        "\n",
        "np.testing.assert_allclose(output1.detach().numpy(), output2.detach().numpy(), 1e-4, 1e-4)"
      ]
    },
    {
      "cell_type": "code",
      "execution_count": null,
      "metadata": {
        "id": "rF5wzPmyoZKz"
      },
      "outputs": [],
      "source": [
        "# Basic Layer2\n",
        "\n",
        "output1 = outputs[0][\"basic layer2\"]\n",
        "output2 =  outputs[attempt_no][\"basic layer2\"]\n",
        "\n",
        "np.testing.assert_allclose(output1.detach().numpy(), output2.detach().numpy(), 1e-4, 1e-4)"
      ]
    },
    {
      "cell_type": "code",
      "execution_count": null,
      "metadata": {
        "id": "38msQO2V_Ymo"
      },
      "outputs": [],
      "source": [
        "# Basic Layer3\n",
        "\n",
        "output1 = outputs[0][\"basic layer3\"]\n",
        "output2 =  outputs[attempt_no][\"basic layer3\"]\n",
        "\n",
        "np.testing.assert_allclose(output1.detach().numpy(), output2.detach().numpy(), 1e-4, 1e-4)"
      ]
    },
    {
      "cell_type": "code",
      "execution_count": null,
      "metadata": {
        "id": "MvQENbPDEgv7"
      },
      "outputs": [],
      "source": [
        "# Basic Layer4\n",
        "\n",
        "output1 = outputs[0][\"basic layer4\"]\n",
        "output2 =  outputs[attempt_no][\"basic layer4\"]\n",
        "\n",
        "np.testing.assert_allclose(output1.detach().numpy(), output2.detach().numpy(), 1e-4, 1e-4)"
      ]
    },
    {
      "cell_type": "code",
      "execution_count": null,
      "metadata": {
        "id": "DdczhGavDSyg"
      },
      "outputs": [],
      "source": [
        "# Final Output\n",
        "\n",
        "output1 = outputs[0][\"Final Output\"]\n",
        "output2 =  outputs[attempt_no][\"Final Output\"]\n",
        "\n",
        "np.testing.assert_allclose(output1.detach().numpy(), output2.detach().numpy(), 1e-4, 1e-4)"
      ]
    },
    {
      "cell_type": "code",
      "execution_count": null,
      "metadata": {
        "id": "h6LqDD8hDVAn"
      },
      "outputs": [],
      "source": []
    },
    {
      "cell_type": "code",
      "execution_count": null,
      "metadata": {},
      "outputs": [],
      "source": []
    }
  ],
  "metadata": {
    "colab": {
      "collapsed_sections": [],
      "name": "Compare Layers Video Swin Transformer.ipynb",
      "provenance": []
    },
    "kernelspec": {
      "display_name": "Python 3.8.13",
      "language": "python",
      "name": "python3"
    },
    "language_info": {
      "codemirror_mode": {
        "name": "ipython",
        "version": 3
      },
      "file_extension": ".py",
      "mimetype": "text/x-python",
      "name": "python",
      "nbconvert_exporter": "python",
      "pygments_lexer": "ipython3",
      "version": "3.8.13"
    },
    "orig_nbformat": 4,
    "vscode": {
      "interpreter": {
        "hash": "18e9ffd7bdaebed3141c5f1e6e3ffefff8dc763f7fe0a2903683245d14d535a1"
      }
    }
  },
  "nbformat": 4,
  "nbformat_minor": 0
}
