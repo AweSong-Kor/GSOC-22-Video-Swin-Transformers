{
  "cells": [
    {
      "cell_type": "code",
      "execution_count": 1,
      "metadata": {
        "id": "VSHDVCPoT6S1"
      },
      "outputs": [
        {
          "name": "stderr",
          "output_type": "stream",
          "text": [
            "c:\\Python\\Python396\\lib\\site-packages\\scipy\\__init__.py:146: UserWarning: A NumPy version >=1.16.5 and <1.23.0 is required for this version of SciPy (detected version 1.23.2\n",
            "  warnings.warn(f\"A NumPy version >={np_minversion} and <{np_maxversion}\"\n"
          ]
        }
      ],
      "source": [
        "import tensorflow as tf\n",
        "import torch\n",
        "import torch.nn as nn\n",
        "import numpy as np\n",
        "from VideoSwinTransformer import *\n",
        "import os\n",
        "from collections import OrderedDict"
      ]
    },
    {
      "cell_type": "code",
      "execution_count": 2,
      "metadata": {
        "colab": {
          "base_uri": "https://localhost:8080/"
        },
        "id": "88Jni1OfBmgZ",
        "outputId": "6c37df68-467f-4354-fbce-d82a0ec27a94"
      },
      "outputs": [
        {
          "data": {
            "text/plain": [
              "<torch.autograd.grad_mode.set_grad_enabled at 0x17ef02d1d00>"
            ]
          },
          "execution_count": 2,
          "metadata": {},
          "output_type": "execute_result"
        }
      ],
      "source": [
        "torch.set_grad_enabled(False)"
      ]
    },
    {
      "cell_type": "code",
      "execution_count": 3,
      "metadata": {
        "id": "WQP-DjEmTzcY"
      },
      "outputs": [],
      "source": [
        "def get_x(shape= (4,3,32,224,224)):\n",
        "    x_pt = torch.rand(shape) * 255\n",
        "    x_np = x_pt.numpy()\n",
        "    x_tf = tf.convert_to_tensor(x_np)\n",
        "\n",
        "    return x_tf, x_pt"
      ]
    },
    {
      "cell_type": "code",
      "execution_count": 4,
      "metadata": {
        "id": "wp-MvywEL5XT"
      },
      "outputs": [],
      "source": [
        "shape_of_input = [10,3,32,224,224]\n",
        "x_tf, x_pt = get_x(shape_of_input)"
      ]
    },
    {
      "cell_type": "markdown",
      "metadata": {
        "id": "sgYW2rAqTzcZ"
      },
      "source": [
        "## Convert Weights"
      ]
    },
    {
      "cell_type": "markdown",
      "metadata": {
        "id": "jUYoVlOfTzcc"
      },
      "source": [
        "Initiate model and Load PyTorch Weights"
      ]
    },
    {
      "cell_type": "code",
      "execution_count": 5,
      "metadata": {
        "colab": {
          "base_uri": "https://localhost:8080/"
        },
        "id": "f6aRD7ZyUcWl",
        "outputId": "d62ec70a-4a8d-4c8d-cd96-45788e967867"
      },
      "outputs": [
        {
          "data": {
            "text/plain": [
              "0"
            ]
          },
          "execution_count": 5,
          "metadata": {},
          "output_type": "execute_result"
        }
      ],
      "source": [
        "cfg_method = model_configs.MODEL_MAP[\"swin_tiny_patch244_window877_kinetics400_1k\"]\n",
        "cfg = cfg_method()\n",
        "\n",
        "name = cfg[\"name\"]\n",
        "link = cfg['link']\n",
        "del cfg[\"name\"]\n",
        "del cfg['link']\n",
        "del cfg[\"drop_path_rate\"]\n",
        "# download_weight_command = f\"wget {link} -O {name}.pth\"\n",
        "# os.system(download_weight_command)"
      ]
    },
    {
      "cell_type": "code",
      "execution_count": 6,
      "metadata": {
        "id": "emFflCpfTzcd"
      },
      "outputs": [
        {
          "name": "stdout",
          "output_type": "stream",
          "text": [
            "shape_of_input [10, 3, 32, 224, 224]\n",
            "pt\n"
          ]
        },
        {
          "name": "stderr",
          "output_type": "stream",
          "text": [
            "c:\\Python\\Python396\\lib\\site-packages\\torch\\functional.py:478: UserWarning: torch.meshgrid: in an upcoming release, it will be required to pass the indexing argument. (Triggered internally at  C:\\actions-runner\\_work\\pytorch\\pytorch\\builder\\windows\\pytorch\\aten\\src\\ATen\\native\\TensorShape.cpp:2895.)\n",
            "  return _VF.meshgrid(tensors, **kwargs)  # type: ignore[attr-defined]\n"
          ]
        },
        {
          "name": "stdout",
          "output_type": "stream",
          "text": [
            "++++++++\n",
            " tf\n",
            "shape_of_input:  [10, 3, 32, 224, 224]\n",
            "\n",
            "\n",
            "\n",
            " pt\n",
            "------- \n",
            " tf\n"
          ]
        }
      ],
      "source": [
        "print(\"shape_of_input\", shape_of_input)\n",
        "print(\"pt\")\n",
        "pt_model = SwinTransformer3D_pt(**cfg,drop_rate=0.4, drop_path_rate=0., isTest= True)\n",
        "print(\"++++++++\\n tf\")\n",
        "tf_model = SwinTransformer3D(**cfg,shape_of_input=shape_of_input, drop_rate=0.4, drop_path_rate=0., isTest= True)\n",
        "x_tf, x_pt = get_x()\n",
        "\n",
        "\n",
        "print(\"\\n\\n\\n pt\")\n",
        "basic_pt, z= pt_model(x_pt)\n",
        "print(\"------- \\n tf\")\n",
        "\n",
        "basic_tf, y = tf_model(x_tf)\n",
        "\n",
        "# print(\"\\n loading checkpoint\")\n",
        "# checkpoint = torch.load(f'{name}.pth')\n",
        "# new_state_dict = OrderedDict()\n",
        "# for k, v in checkpoint['state_dict'].items():\n",
        "#     if 'backbone' in k:\n",
        "#         name = k[9:]\n",
        "#         new_state_dict[name] = v \n",
        "\n",
        "# pt_model.load_state_dict(new_state_dict) \n",
        "# pt_model.eval()"
      ]
    },
    {
      "cell_type": "code",
      "execution_count": null,
      "metadata": {},
      "outputs": [],
      "source": [
        "# a = a"
      ]
    },
    {
      "cell_type": "code",
      "execution_count": null,
      "metadata": {},
      "outputs": [],
      "source": [
        "pt_model.eval()\n"
      ]
    },
    {
      "cell_type": "markdown",
      "metadata": {
        "id": "mfFZyWSaTzcf"
      },
      "source": [
        "Convert Functions"
      ]
    },
    {
      "cell_type": "code",
      "execution_count": null,
      "metadata": {
        "id": "02w5N8_mTzcg"
      },
      "outputs": [],
      "source": [
        "def conv_transpose(w):\n",
        "    return w.transpose(2,3,4,1, 0)\n",
        "    \n",
        "\n",
        "def modify_tf_block( tf_component, pt_weight,  pt_bias = None, is_attn=False):\n",
        "    in_shape = pt_weight.shape\n",
        "\n",
        "    if isinstance(tf_component, tf.keras.layers.Conv3D) :\n",
        "      pt_weight = conv_transpose(pt_weight)\n",
        "\n",
        "    if isinstance(tf_component, tf.keras.layers.Dense) and not is_attn:\n",
        "      pt_weight =pt_weight.transpose()\n",
        "\n",
        "    if isinstance(tf_component, (tf.keras.layers.Dense, tf.keras.layers.Conv3D)):\n",
        "        tf_component.kernel.assign(tf.Variable(pt_weight))\n",
        "\n",
        "        if pt_bias is not None:\n",
        "            tf_component.bias.assign(tf.Variable(pt_bias))\n",
        "\n",
        "    elif isinstance(tf_component, tf.keras.layers.LayerNormalization):\n",
        "\n",
        "        tf_component.gamma.assign(tf.Variable(pt_weight))\n",
        "\n",
        "        tf_component.beta.assign(tf.Variable(pt_bias))\n",
        "\n",
        "    elif isinstance(tf_component, (tf.Variable)):\n",
        "        tf_component.assign(tf.Variable(pt_weight))\n",
        "\n",
        "    else:\n",
        "        return tf.convert_to_tensor(pt_weight)\n",
        "        \n",
        "        \n",
        "\n",
        "    return tf_component\n",
        "\n",
        "\n",
        "def modify_swin_blocks(np_state_dict, pt_weights_prefix, tf_block):\n",
        "\n",
        "  for layer in tf_block:\n",
        "    if isinstance(layer, PatchMerging):\n",
        "      patch_merging_idx = f\"{pt_weights_prefix}.downsample\"\n",
        "\n",
        "      layer.reduction = modify_tf_block( layer.reduction,\n",
        "                          np_state_dict[f\"{patch_merging_idx}.reduction.weight\"])\n",
        "      layer.norm = modify_tf_block( layer.norm,\n",
        "                        np_state_dict[f\"{patch_merging_idx}.norm.weight\"],\n",
        "                        np_state_dict[f\"{patch_merging_idx}.norm.bias\"]\n",
        "                        )\n",
        "      \n",
        "  # Swin Layers\n",
        "  common_prefix = f\"{pt_weights_prefix}.blocks\"\n",
        "  block_idx = 0\n",
        "\n",
        "  for outer_layer in tf_block:\n",
        "\n",
        "      layernorm_idx = 1\n",
        "      mlp_layer_idx = 1\n",
        "\n",
        "      if isinstance(outer_layer, SwinTransformerBlock3D):\n",
        "          for inner_layer in outer_layer.layers:\n",
        "        \n",
        "              # Layer norm.\n",
        "              if isinstance(inner_layer, tf.keras.layers.LayerNormalization):\n",
        "                  layer_norm_prefix = (\n",
        "                      f\"{common_prefix}.{block_idx}.norm{layernorm_idx}\"\n",
        "                  )\n",
        "                  inner_layer.gamma.assign(\n",
        "                      tf.Variable(\n",
        "                          np_state_dict[f\"{layer_norm_prefix}.weight\"]\n",
        "                      )\n",
        "                  )\n",
        "\n",
        "\n",
        "\n",
        "                  inner_layer.beta.assign(\n",
        "                      tf.Variable(np_state_dict[f\"{layer_norm_prefix}.bias\"])\n",
        "                  )\n",
        "\n",
        "                  layernorm_idx += 1\n",
        "\n",
        "              # Window attention.\n",
        "              elif isinstance(inner_layer, WindowAttention3D):\n",
        "                  attn_prefix = f\"{common_prefix}.{block_idx}.attn\"\n",
        "\n",
        "                  # Relative position.\n",
        "                  inner_layer.relative_position_bias_table = (\n",
        "                      modify_tf_block(\n",
        "                          inner_layer.relative_position_bias_table,\n",
        "                          np_state_dict[\n",
        "                              f\"{attn_prefix}.relative_position_bias_table\"\n",
        "                          ] \n",
        "                      )\n",
        "                  )\n",
        "                  inner_layer.relative_position_index = (\n",
        "                      modify_tf_block(\n",
        "                          inner_layer.relative_position_index,\n",
        "                          np_state_dict[\n",
        "                              f\"{attn_prefix}.relative_position_index\"\n",
        "                          ]\n",
        "                      )\n",
        "                  )\n",
        "\n",
        "                  # QKV.\n",
        "                  inner_layer.qkv = modify_tf_block(\n",
        "                      inner_layer.qkv,\n",
        "                      np_state_dict[f\"{attn_prefix}.qkv.weight\"],\n",
        "                      np_state_dict[f\"{attn_prefix}.qkv.bias\"]\n",
        "                  )\n",
        "\n",
        "                  # Projection.\n",
        "                  inner_layer.proj = modify_tf_block(\n",
        "                      inner_layer.proj,\n",
        "                      np_state_dict[f\"{attn_prefix}.proj.weight\"],\n",
        "                      np_state_dict[f\"{attn_prefix}.proj.bias\"]\n",
        "                  )\n",
        "\n",
        "              # MLP.\n",
        "              elif isinstance(inner_layer, tf.keras.Model):\n",
        "                  mlp_prefix = f\"{common_prefix}.{block_idx}.mlp\"\n",
        "                  for mlp_layer in inner_layer.layers:\n",
        "                      if isinstance(mlp_layer, tf.keras.layers.Dense):\n",
        "                          mlp_layer = modify_tf_block(\n",
        "                              mlp_layer,\n",
        "                              np_state_dict[\n",
        "                                  f\"{mlp_prefix}.fc{mlp_layer_idx}.weight\"\n",
        "                              ],\n",
        "                              np_state_dict[\n",
        "                                  f\"{mlp_prefix}.fc{mlp_layer_idx}.bias\"\n",
        "                              ]\n",
        "                          )\n",
        "                          mlp_layer_idx += 1\n",
        "\n",
        "          block_idx += 1\n",
        "  return tf_block\n"
      ]
    },
    {
      "cell_type": "markdown",
      "metadata": {
        "id": "rGfcatguTzck"
      },
      "source": [
        "### convert"
      ]
    },
    {
      "cell_type": "code",
      "execution_count": null,
      "metadata": {
        "id": "pZAMhaFGTzcl"
      },
      "outputs": [],
      "source": [
        "np_state_dict = pt_model.state_dict()\n",
        "np_state_dict = {k: np_state_dict[k].numpy() for k in np_state_dict}\n",
        "\n",
        "tf_model.projection.layers[0] = modify_tf_block(tf_model.projection.layers[0]\n",
        "        ,\n",
        "        np_state_dict[\"patch_embed.proj.weight\"],\n",
        "        np_state_dict[\"patch_embed.proj.bias\"])\n",
        "\n",
        "tf_model.projection.layers[1] = modify_tf_block(\n",
        "    tf_model.projection.layers[1],\n",
        "    np_state_dict[\"patch_embed.norm.weight\"],\n",
        "    np_state_dict[\"patch_embed.norm.bias\"])\n",
        "\n",
        "\n",
        "layer_normalization_idx = -1\n",
        "\n",
        "tf_model.layers[layer_normalization_idx] = modify_tf_block(\n",
        "    tf_model.layers[layer_normalization_idx] ,\n",
        "    np_state_dict[\"norm.weight\"],\n",
        "    np_state_dict[\"norm.bias\"]\n",
        "    )\n",
        "\n",
        "# swin layers\n",
        "for i in range(2, len(tf_model.layers) - 1):\n",
        "    _ = modify_swin_blocks(np_state_dict,\n",
        "                        f\"layers.{i-2}\",\n",
        "                        tf_model.layers[i].layers)"
      ]
    },
    {
      "cell_type": "code",
      "execution_count": null,
      "metadata": {
        "id": "KBvHCrG9oxyu"
      },
      "outputs": [],
      "source": [
        "x_tf, x_pt = get_x(shape_of_input)"
      ]
    },
    {
      "cell_type": "code",
      "execution_count": null,
      "metadata": {
        "colab": {
          "base_uri": "https://localhost:8080/"
        },
        "id": "sB9un1CATzcm",
        "outputId": "6d2e86a7-32bb-4601-aaa1-9e6547eeebdd"
      },
      "outputs": [
        {
          "name": "stdout",
          "output_type": "stream",
          "text": [
            "patch embed (10, 128, 16, 56, 56)\n",
            "(10, 128, 50176)\n"
          ]
        },
        {
          "name": "stderr",
          "output_type": "stream",
          "text": [
            "2022-09-04 08:48:15.441420: W tensorflow/core/framework/cpu_allocator_impl.cc:82] Allocation of 3147038720 exceeds 10% of free system memory.\n",
            "2022-09-04 08:48:16.663478: W tensorflow/core/framework/cpu_allocator_impl.cc:82] Allocation of 3147038720 exceeds 10% of free system memory.\n",
            "2022-09-04 08:48:17.125025: W tensorflow/core/framework/cpu_allocator_impl.cc:82] Allocation of 3147038720 exceeds 10% of free system memory.\n",
            "2022-09-04 08:48:21.568714: W tensorflow/core/framework/cpu_allocator_impl.cc:82] Allocation of 3147038720 exceeds 10% of free system memory.\n",
            "2022-09-04 08:48:22.689181: W tensorflow/core/framework/cpu_allocator_impl.cc:82] Allocation of 3147038720 exceeds 10% of free system memory.\n"
          ]
        },
        {
          "name": "stdout",
          "output_type": "stream",
          "text": [
            "------\n"
          ]
        },
        {
          "data": {
            "text/plain": [
              "(TensorShape([10, 1024, 16, 7, 7]), torch.Size([10, 1024, 16, 7, 7]))"
            ]
          },
          "execution_count": 12,
          "metadata": {},
          "output_type": "execute_result"
        }
      ],
      "source": [
        "layers_output_tf, y = tf_model(x_tf)\n",
        "print(\"------\")\n",
        "layers_output_pt, z= pt_model(x_pt)\n",
        "\n",
        "y.shape, z.shape\n"
      ]
    },
    {
      "cell_type": "code",
      "execution_count": null,
      "metadata": {},
      "outputs": [],
      "source": [
        "# comparing the outputs\n",
        "np.testing.assert_allclose(y.numpy(), z.detach().numpy(), 1e-4, 1e-4)\n"
      ]
    },
    {
      "cell_type": "code",
      "execution_count": null,
      "metadata": {
        "id": "jus_cUshN-f0"
      },
      "outputs": [
        {
          "name": "stdout",
          "output_type": "stream",
          "text": [
            "-------------- PatchEmbed -------------\n",
            " TF:  [[[[[ 2.208807   -0.14340192  1.8464509   2.4065409  -0.80638236\n",
            "     -1.7261122   0.93042624  0.959603   -3.3462863  -0.20938446]]]]] \n",
            " PT:  [[[[[ 2.208807   -0.14340192  1.8464506   2.4065406  -0.8063823\n",
            "     -1.7261125   0.93042624  0.9596029  -3.3462868  -0.20938458]]]]] \n",
            "\n",
            "-------------- drop_out -------------\n",
            " TF:  [[[[[ 2.208807   -0.14340192  1.8464509   2.4065409  -0.80638236\n",
            "     -1.7261122   0.93042624  0.959603   -3.3462863  -0.20938446]]]]] \n",
            " PT:  [[[[[ 2.208807   -0.14340192  1.8464506   2.4065406  -0.8063823\n",
            "     -1.7261125   0.93042624  0.9596029  -3.3462868  -0.20938458]]]]] \n",
            "\n",
            "-------------- basic layer1 -------------\n",
            " TF:  [[[[[-0.02704892  0.02139371 -0.3663571  -0.2818588  -0.04923443\n",
            "     -0.17632663 -0.05737334  0.28945643  0.44962877  0.06109022]]]]] \n",
            " PT:  [[[[[-0.02704878  0.02139366 -0.36635745 -0.28185883 -0.04923458\n",
            "     -0.17632675 -0.0573737   0.28945628  0.4496286   0.06109024]]]]] \n",
            "\n",
            "-------------- basic layer2 -------------\n",
            " TF:  [[[[[-0.7198457  -0.589797   -0.51001036 -0.33010632 -0.6877498\n",
            "     -0.20849054 -0.44255283 -0.3922689  -0.551921   -0.60696584]]]]] \n",
            " PT:  [[[[[-0.71984583 -0.5897969  -0.51000994 -0.33010596 -0.68774956\n",
            "     -0.2084905  -0.44255257 -0.39226845 -0.5519214  -0.606966  ]]]]] \n",
            "\n",
            "-------------- basic layer3 -------------\n",
            " TF:  [[[[[0.15175422 0.49739677 0.47009805 0.61790615 0.26143134 0.4739349\n",
            "     0.2864167 ]]]]] \n",
            " PT:  [[[[[0.15175503 0.4974024  0.4700985  0.6179104  0.26143312 0.47393423\n",
            "     0.28641817]]]]] \n",
            "\n",
            "-------------- basic layer4 -------------\n",
            " TF:  [[[[[0.58115757 0.934223   0.8900462  1.2596438  0.590928   0.8218323\n",
            "     0.634544  ]]]]] \n",
            " PT:  [[[[[0.58115846 0.93422765 0.89004594 1.2596475  0.59092915 0.82183164\n",
            "     0.63454646]]]]] \n",
            "\n",
            "-------------- Final Output -------------\n",
            " TF:  [[[[[0.05494777 0.07799457 0.1315395  0.20005357 0.05828462 0.02101417\n",
            "     0.0114548 ]]]]] \n",
            " PT:  [[[[[0.05494782 0.07799429 0.13153917 0.20005397 0.0582848  0.02101413\n",
            "     0.01145499]]]]] \n",
            "\n"
          ]
        }
      ],
      "source": [
        "# Eplore the output of all layers\n",
        "for layer in layers_output_pt:\n",
        "    print(\"--------------\",layer, \"-------------\\n TF: \", layers_output_tf[layer].numpy()[:1,:1,:1,:1,:10], \"\\n PT: \", layers_output_pt[layer].detach().numpy()[:1,:1,:1,:1,:10], \"\\n\" )"
      ]
    },
    {
      "cell_type": "code",
      "execution_count": null,
      "metadata": {},
      "outputs": [
        {
          "name": "stdout",
          "output_type": "stream",
          "text": [
            "2.9773874282836914 Absolute Difference of  PatchEmbed\n",
            "2.9773874282836914 Absolute Difference of  drop_out\n",
            "4.871058464050293 Absolute Difference of  basic layer1\n",
            "3.4374818801879883 Absolute Difference of  basic layer2\n",
            "21.05612564086914 Absolute Difference of  basic layer3\n",
            "29.453521728515625 Absolute Difference of  basic layer4\n",
            "4.482729911804199 Absolute Difference of  Final Output\n"
          ]
        }
      ],
      "source": [
        "# compare layers' output. It asserts  at basic layer1\n",
        "for layer in layers_output_pt:\n",
        "\n",
        "    abs_diff = np.sum( np.abs( layers_output_tf[layer].numpy() - layers_output_pt[layer].detach().numpy()))\n",
        "    print(f\"{abs_diff} Absolute Difference of  {layer}\" )\n"
      ]
    },
    {
      "cell_type": "code",
      "execution_count": null,
      "metadata": {},
      "outputs": [
        {
          "name": "stdout",
          "output_type": "stream",
          "text": [
            "Testing PatchEmbed\n",
            "Testing drop_out\n",
            "Testing basic layer1\n",
            "Testing basic layer2\n",
            "Testing basic layer3\n"
          ]
        },
        {
          "ename": "AssertionError",
          "evalue": "\nNot equal to tolerance rtol=0.0001, atol=0.0001\n\nMismatched elements: 278 / 8028160 (0.00346%)\nMax absolute difference: 0.01908875\nMax relative difference: 9.957816\n x: array([[[[[ 1.517542e-01,  4.973968e-01,  4.700980e-01, ...,\n            2.614313e-01,  4.739349e-01,  2.864167e-01],\n          [ 8.704834e-01,  6.462526e-01,  9.973266e-01, ...,...\n y: array([[[[[ 1.517550e-01,  4.974024e-01,  4.700985e-01, ...,\n            2.614331e-01,  4.739342e-01,  2.864182e-01],\n          [ 8.704690e-01,  6.462545e-01,  9.973290e-01, ...,...",
          "output_type": "error",
          "traceback": [
            "\u001b[0;31m---------------------------------------------------------------------------\u001b[0m",
            "\u001b[0;31mAssertionError\u001b[0m                            Traceback (most recent call last)",
            "\u001b[1;32m/home/azureuser/cloudfiles/code/Users/Mohammad.Shoaib/GSOC-22-Video-Swin-Transformers/Compare_Layers_Video_Swin_Transformer.ipynb Cell 20\u001b[0m in \u001b[0;36m<cell line: 2>\u001b[0;34m()\u001b[0m\n\u001b[1;32m      <a href='vscode-notebook-cell://amlext%2B2f737562736372697074696f6e732f35656334313439302d326435622d346535642d393631652d3235343161663530666331312f7265736f7572636547726f7570732f47534f432f70726f7669646572732f4d6963726f736f66742e4d616368696e654c6561726e696e6753657276696365732f776f726b7370616365732f67736f632f636f6d70757465732f67736f63/home/azureuser/cloudfiles/code/Users/Mohammad.Shoaib/GSOC-22-Video-Swin-Transformers/Compare_Layers_Video_Swin_Transformer.ipynb#X24sdnNjb2RlLXJlbW90ZQ%3D%3D?line=1'>2</a>\u001b[0m \u001b[39mfor\u001b[39;00m layer \u001b[39min\u001b[39;00m layers_output_pt:\n\u001b[1;32m      <a href='vscode-notebook-cell://amlext%2B2f737562736372697074696f6e732f35656334313439302d326435622d346535642d393631652d3235343161663530666331312f7265736f7572636547726f7570732f47534f432f70726f7669646572732f4d6963726f736f66742e4d616368696e654c6561726e696e6753657276696365732f776f726b7370616365732f67736f632f636f6d70757465732f67736f63/home/azureuser/cloudfiles/code/Users/Mohammad.Shoaib/GSOC-22-Video-Swin-Transformers/Compare_Layers_Video_Swin_Transformer.ipynb#X24sdnNjb2RlLXJlbW90ZQ%3D%3D?line=2'>3</a>\u001b[0m     \u001b[39mprint\u001b[39m(\u001b[39m\"\u001b[39m\u001b[39mTesting\u001b[39m\u001b[39m\"\u001b[39m, layer)\n\u001b[0;32m----> <a href='vscode-notebook-cell://amlext%2B2f737562736372697074696f6e732f35656334313439302d326435622d346535642d393631652d3235343161663530666331312f7265736f7572636547726f7570732f47534f432f70726f7669646572732f4d6963726f736f66742e4d616368696e654c6561726e696e6753657276696365732f776f726b7370616365732f67736f632f636f6d70757465732f67736f63/home/azureuser/cloudfiles/code/Users/Mohammad.Shoaib/GSOC-22-Video-Swin-Transformers/Compare_Layers_Video_Swin_Transformer.ipynb#X24sdnNjb2RlLXJlbW90ZQ%3D%3D?line=3'>4</a>\u001b[0m     np\u001b[39m.\u001b[39;49mtesting\u001b[39m.\u001b[39;49massert_allclose(layers_output_tf[layer]\u001b[39m.\u001b[39;49mnumpy(), layers_output_pt[layer]\u001b[39m.\u001b[39;49mdetach()\u001b[39m.\u001b[39;49mnumpy(), \u001b[39m1e-4\u001b[39;49m, \u001b[39m1e-4\u001b[39;49m)\n",
            "    \u001b[0;31m[... skipping hidden 1 frame]\u001b[0m\n",
            "File \u001b[0;32m/anaconda/envs/azureml_py38/lib/python3.8/site-packages/numpy/testing/_private/utils.py:840\u001b[0m, in \u001b[0;36massert_array_compare\u001b[0;34m(comparison, x, y, err_msg, verbose, header, precision, equal_nan, equal_inf)\u001b[0m\n\u001b[1;32m    836\u001b[0m         err_msg \u001b[39m+\u001b[39m\u001b[39m=\u001b[39m \u001b[39m'\u001b[39m\u001b[39m\\n\u001b[39;00m\u001b[39m'\u001b[39m \u001b[39m+\u001b[39m \u001b[39m'\u001b[39m\u001b[39m\\n\u001b[39;00m\u001b[39m'\u001b[39m\u001b[39m.\u001b[39mjoin(remarks)\n\u001b[1;32m    837\u001b[0m         msg \u001b[39m=\u001b[39m build_err_msg([ox, oy], err_msg,\n\u001b[1;32m    838\u001b[0m                             verbose\u001b[39m=\u001b[39mverbose, header\u001b[39m=\u001b[39mheader,\n\u001b[1;32m    839\u001b[0m                             names\u001b[39m=\u001b[39m(\u001b[39m'\u001b[39m\u001b[39mx\u001b[39m\u001b[39m'\u001b[39m, \u001b[39m'\u001b[39m\u001b[39my\u001b[39m\u001b[39m'\u001b[39m), precision\u001b[39m=\u001b[39mprecision)\n\u001b[0;32m--> 840\u001b[0m         \u001b[39mraise\u001b[39;00m \u001b[39mAssertionError\u001b[39;00m(msg)\n\u001b[1;32m    841\u001b[0m \u001b[39mexcept\u001b[39;00m \u001b[39mValueError\u001b[39;00m:\n\u001b[1;32m    842\u001b[0m     \u001b[39mimport\u001b[39;00m \u001b[39mtraceback\u001b[39;00m\n",
            "\u001b[0;31mAssertionError\u001b[0m: \nNot equal to tolerance rtol=0.0001, atol=0.0001\n\nMismatched elements: 278 / 8028160 (0.00346%)\nMax absolute difference: 0.01908875\nMax relative difference: 9.957816\n x: array([[[[[ 1.517542e-01,  4.973968e-01,  4.700980e-01, ...,\n            2.614313e-01,  4.739349e-01,  2.864167e-01],\n          [ 8.704834e-01,  6.462526e-01,  9.973266e-01, ...,...\n y: array([[[[[ 1.517550e-01,  4.974024e-01,  4.700985e-01, ...,\n            2.614331e-01,  4.739342e-01,  2.864182e-01],\n          [ 8.704690e-01,  6.462545e-01,  9.973290e-01, ...,..."
          ]
        }
      ],
      "source": [
        "# compare layers' output. It asserts  at basic layer1\n",
        "for layer in layers_output_pt:\n",
        "    print(\"Testing\", layer)\n",
        "    np.testing.assert_allclose(layers_output_tf[layer].numpy(), layers_output_pt[layer].detach().numpy(), 1e-4, 1e-4)"
      ]
    },
    {
      "cell_type": "code",
      "execution_count": null,
      "metadata": {},
      "outputs": [],
      "source": [
        "a = a"
      ]
    },
    {
      "cell_type": "code",
      "execution_count": null,
      "metadata": {},
      "outputs": [],
      "source": [
        "e = 1e-4\n",
        "np.testing.assert_allclose(layers_output_tf[\"basic layer4\"].numpy(), layers_output_pt[\"basic layer4\"].detach().numpy(), e, e)\n"
      ]
    },
    {
      "cell_type": "code",
      "execution_count": null,
      "metadata": {
        "id": "lTsJhqo39sOx"
      },
      "outputs": [],
      "source": [
        "# comparing the outputs\n",
        "np.testing.assert_allclose(y.numpy(), z.detach().numpy(), 1e-4, 1e-4)\n"
      ]
    },
    {
      "cell_type": "markdown",
      "metadata": {},
      "source": [
        "### Save and load tf model"
      ]
    },
    {
      "cell_type": "code",
      "execution_count": null,
      "metadata": {
        "colab": {
          "base_uri": "https://localhost:8080/",
          "height": 621
        },
        "id": "ddWr78VQ-oGa",
        "outputId": "f18fdf52-a55a-45c4-e2e8-ef183b13bef7"
      },
      "outputs": [],
      "source": []
    },
    {
      "cell_type": "markdown",
      "metadata": {
        "id": "GDYo4pqMTzcn"
      },
      "source": [
        "### PT basic layer outputs comparison"
      ]
    },
    {
      "cell_type": "code",
      "execution_count": null,
      "metadata": {
        "id": "Qry9YZwqTzcn"
      },
      "outputs": [],
      "source": [
        "attempts = 2\n",
        "# x_pt = torch.rand((1,3,8,224,224))\n",
        "\n",
        "outputs = []\n",
        "\n",
        "for i in range(attempts):\n",
        "    layer_out , result = pt_model(x_pt)\n",
        "    outputs.append(layer_out)\n",
        "\n",
        "i = 0\n",
        "for layer in outputs[0]:\n",
        "    print(\"--------------\", layer, \"---------------\")\n",
        "    for idx, layer_out in enumerate(outputs) :\n",
        "        print(f\"attempt {idx} : \",layer_out[layer].detach().numpy()[:1,:1,:1,:1,:10], \"\\n\")\n",
        "    print()\n"
      ]
    },
    {
      "cell_type": "markdown",
      "metadata": {
        "id": "XThvAWb2AOT1"
      },
      "source": [
        "### All close testing\n",
        "\n",
        "Compare the first attempt with another attempt. Enter the attempt value in the following cell"
      ]
    },
    {
      "cell_type": "code",
      "execution_count": null,
      "metadata": {
        "id": "58uXm8HnDnWy"
      },
      "outputs": [],
      "source": [
        "attempt_no = 1     # Change the attempt_no value to compare the first attempt with another attempt\n"
      ]
    },
    {
      "cell_type": "code",
      "execution_count": null,
      "metadata": {
        "id": "VI7BMA75ES86"
      },
      "outputs": [],
      "source": [
        "# PatchEmbed Layer\n",
        "output1 = outputs[0][\"PatchEmbed\"]\n",
        "output2 =  outputs[attempt_no][\"PatchEmbed\"]\n",
        "\n",
        "np.testing.assert_allclose(output1.detach().numpy(), output2.detach().numpy(), 1e-4, 1e-4)"
      ]
    },
    {
      "cell_type": "code",
      "execution_count": null,
      "metadata": {
        "id": "ozPQ2dK5DOBy"
      },
      "outputs": [],
      "source": [
        "# Basic Layer1\n",
        "output1 = outputs[0][\"basic layer1\"]\n",
        "output2 =  outputs[attempt_no][\"basic layer1\"]\n",
        "\n",
        "np.testing.assert_allclose(output1.detach().numpy(), output2.detach().numpy(), 1e-4, 1e-4)"
      ]
    },
    {
      "cell_type": "code",
      "execution_count": null,
      "metadata": {
        "id": "rF5wzPmyoZKz"
      },
      "outputs": [],
      "source": [
        "# Basic Layer2\n",
        "\n",
        "output1 = outputs[0][\"basic layer2\"]\n",
        "output2 =  outputs[attempt_no][\"basic layer2\"]\n",
        "\n",
        "np.testing.assert_allclose(output1.detach().numpy(), output2.detach().numpy(), 1e-4, 1e-4)"
      ]
    },
    {
      "cell_type": "code",
      "execution_count": null,
      "metadata": {
        "id": "38msQO2V_Ymo"
      },
      "outputs": [],
      "source": [
        "# Basic Layer3\n",
        "\n",
        "output1 = outputs[0][\"basic layer3\"]\n",
        "output2 =  outputs[attempt_no][\"basic layer3\"]\n",
        "\n",
        "np.testing.assert_allclose(output1.detach().numpy(), output2.detach().numpy(), 1e-4, 1e-4)"
      ]
    },
    {
      "cell_type": "code",
      "execution_count": null,
      "metadata": {
        "id": "MvQENbPDEgv7"
      },
      "outputs": [],
      "source": [
        "# Basic Layer4\n",
        "\n",
        "output1 = outputs[0][\"basic layer4\"]\n",
        "output2 =  outputs[attempt_no][\"basic layer4\"]\n",
        "\n",
        "np.testing.assert_allclose(output1.detach().numpy(), output2.detach().numpy(), 1e-4, 1e-4)"
      ]
    },
    {
      "cell_type": "code",
      "execution_count": null,
      "metadata": {
        "id": "DdczhGavDSyg"
      },
      "outputs": [],
      "source": [
        "# Final Output\n",
        "\n",
        "output1 = outputs[0][\"Final Output\"]\n",
        "output2 =  outputs[attempt_no][\"Final Output\"]\n",
        "\n",
        "np.testing.assert_allclose(output1.detach().numpy(), output2.detach().numpy(), 1e-4, 1e-4)"
      ]
    },
    {
      "cell_type": "code",
      "execution_count": null,
      "metadata": {
        "id": "h6LqDD8hDVAn"
      },
      "outputs": [],
      "source": []
    },
    {
      "cell_type": "code",
      "execution_count": null,
      "metadata": {},
      "outputs": [],
      "source": []
    }
  ],
  "metadata": {
    "colab": {
      "collapsed_sections": [],
      "name": "Compare Layers Video Swin Transformer.ipynb",
      "provenance": []
    },
    "kernelspec": {
      "display_name": "Python 3.8.9 64-bit",
      "language": "python",
      "name": "python3"
    },
    "language_info": {
      "codemirror_mode": {
        "name": "ipython",
        "version": 3
      },
      "file_extension": ".py",
      "mimetype": "text/x-python",
      "name": "python",
      "nbconvert_exporter": "python",
      "pygments_lexer": "ipython3",
      "version": "3.8.9"
    },
    "orig_nbformat": 4,
    "vscode": {
      "interpreter": {
        "hash": "31f2aee4e71d21fbe5cf8b01ff0e069b9275f58929596ceb00d14d90e3e16cd6"
      }
    }
  },
  "nbformat": 4,
  "nbformat_minor": 0
}
