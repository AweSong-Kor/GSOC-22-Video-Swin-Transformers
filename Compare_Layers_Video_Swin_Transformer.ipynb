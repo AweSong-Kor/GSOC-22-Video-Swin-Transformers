{
  "cells": [
    {
      "cell_type": "code",
      "execution_count": 1,
      "metadata": {
        "id": "VSHDVCPoT6S1"
      },
      "outputs": [
        {
          "name": "stderr",
          "output_type": "stream",
          "text": [
            "c:\\Python\\Python396\\lib\\site-packages\\scipy\\__init__.py:146: UserWarning: A NumPy version >=1.16.5 and <1.23.0 is required for this version of SciPy (detected version 1.23.2\n",
            "  warnings.warn(f\"A NumPy version >={np_minversion} and <{np_maxversion}\"\n"
          ]
        }
      ],
      "source": [
        "import tensorflow as tf\n",
        "import torch\n",
        "import torch.nn as nn\n",
        "import numpy as np\n",
        "from VideoSwinTransformer import *\n",
        "import os\n",
        "from collections import OrderedDict"
      ]
    },
    {
      "cell_type": "code",
      "execution_count": 2,
      "metadata": {
        "colab": {
          "base_uri": "https://localhost:8080/"
        },
        "id": "88Jni1OfBmgZ",
        "outputId": "6c37df68-467f-4354-fbce-d82a0ec27a94"
      },
      "outputs": [
        {
          "data": {
            "text/plain": [
              "<torch.autograd.grad_mode.set_grad_enabled at 0x185b5ab1b50>"
            ]
          },
          "execution_count": 2,
          "metadata": {},
          "output_type": "execute_result"
        }
      ],
      "source": [
        "torch.set_grad_enabled(False)"
      ]
    },
    {
      "cell_type": "code",
      "execution_count": 3,
      "metadata": {
        "id": "WQP-DjEmTzcY"
      },
      "outputs": [],
      "source": [
        "def get_x(shape= (1,3,32,224,224)):\n",
        "    x_pt = torch.rand(shape) * 255\n",
        "    x_np = x_pt.numpy()\n",
        "    x_tf = tf.convert_to_tensor(x_np)\n",
        "\n",
        "    return x_tf, x_pt"
      ]
    },
    {
      "cell_type": "code",
      "execution_count": 4,
      "metadata": {
        "id": "wp-MvywEL5XT"
      },
      "outputs": [],
      "source": [
        "shape_of_input = [2,3,32,224,224]\n",
        "x_tf, x_pt = get_x(shape_of_input)"
      ]
    },
    {
      "cell_type": "markdown",
      "metadata": {
        "id": "sgYW2rAqTzcZ"
      },
      "source": [
        "## Convert Weights"
      ]
    },
    {
      "cell_type": "markdown",
      "metadata": {
        "id": "jUYoVlOfTzcc"
      },
      "source": [
        "Initiate model and Load PyTorch Weights"
      ]
    },
    {
      "cell_type": "code",
      "execution_count": 5,
      "metadata": {
        "colab": {
          "base_uri": "https://localhost:8080/"
        },
        "id": "f6aRD7ZyUcWl",
        "outputId": "d62ec70a-4a8d-4c8d-cd96-45788e967867"
      },
      "outputs": [],
      "source": [
        "cfg_method = model_configs.MODEL_MAP[\"swin_tiny_patch244_window877_kinetics400_1k\"]\n",
        "cfg = cfg_method()\n",
        "\n",
        "name = cfg[\"name\"]\n",
        "link = cfg['link']\n",
        "del cfg[\"name\"]\n",
        "del cfg['link']\n",
        "del cfg[\"drop_path_rate\"]\n",
        "# download_weight_command = f\"wget {link} -O {name}.pth\"\n",
        "# os.system(download_weight_command)"
      ]
    },
    {
      "cell_type": "code",
      "execution_count": 6,
      "metadata": {
        "id": "emFflCpfTzcd"
      },
      "outputs": [
        {
          "name": "stdout",
          "output_type": "stream",
          "text": [
            "shape_of_input [2, 32, 224, 224, 3]\n",
            "pt\n"
          ]
        },
        {
          "name": "stderr",
          "output_type": "stream",
          "text": [
            "c:\\Python\\Python396\\lib\\site-packages\\torch\\functional.py:478: UserWarning: torch.meshgrid: in an upcoming release, it will be required to pass the indexing argument. (Triggered internally at  C:\\actions-runner\\_work\\pytorch\\pytorch\\builder\\windows\\pytorch\\aten\\src\\ATen\\native\\TensorShape.cpp:2895.)\n",
            "  return _VF.meshgrid(tensors, **kwargs)  # type: ignore[attr-defined]\n"
          ]
        },
        {
          "name": "stdout",
          "output_type": "stream",
          "text": [
            "++++++++\n",
            " tf\n",
            "shape_of_input:  [2, 32, 224, 224, 3]\n",
            "\n",
            "\n",
            "\n",
            " pt\n",
            "------- \n",
            " tf\n"
          ]
        }
      ],
      "source": [
        "shape_of_input[1] , shape_of_input[4], shape_of_input[2] = shape_of_input[2], shape_of_input[1], shape_of_input[4]\n",
        "\n",
        "# (2, 32, 224,224,3)\n",
        "# shape_of_input = [1,3,32,224,224]\n",
        "\n",
        "print(\"shape_of_input\", shape_of_input)\n",
        "print(\"pt\")\n",
        "pt_model = SwinTransformer3D_pt(**cfg,drop_rate=0.4, drop_path_rate=0., isTest= True)\n",
        "print(\"++++++++\\n tf\")\n",
        "tf_model = SwinTransformer3D(**cfg,shape_of_input=shape_of_input, drop_rate=0.4, drop_path_rate=0., isTest= True)\n",
        "x_tf, x_pt = get_x()\n",
        "\n",
        "\n",
        "print(\"\\n\\n\\n pt\")\n",
        "basic_pt, z= pt_model(x_pt)\n",
        "print(\"------- \\n tf\")\n",
        "\n",
        "basic_tf, y = tf_model(x_tf)\n",
        "\n",
        "# print(\"\\n loading checkpoint\")\n",
        "# checkpoint = torch.load(f'{name}.pth')\n",
        "# new_state_dict = OrderedDict()\n",
        "# for k, v in checkpoint['state_dict'].items():\n",
        "#     if 'backbone' in k:\n",
        "#         name = k[9:]\n",
        "#         new_state_dict[name] = v \n",
        "\n",
        "# pt_model.load_state_dict(new_state_dict) \n",
        "# pt_model.eval()"
      ]
    },
    {
      "cell_type": "code",
      "execution_count": 7,
      "metadata": {},
      "outputs": [],
      "source": [
        "# a = a"
      ]
    },
    {
      "cell_type": "code",
      "execution_count": 8,
      "metadata": {},
      "outputs": [],
      "source": [
        "pt_model.eval()\n"
      ]
    },
    {
      "cell_type": "markdown",
      "metadata": {
        "id": "mfFZyWSaTzcf"
      },
      "source": [
        "Convert Functions"
      ]
    },
    {
      "cell_type": "code",
      "execution_count": 9,
      "metadata": {
        "id": "02w5N8_mTzcg"
      },
      "outputs": [],
      "source": [
        "def conv_transpose(w):\n",
        "    return w.transpose(2,3,4,1, 0)\n",
        "    \n",
        "\n",
        "def modify_tf_block( tf_component, pt_weight,  pt_bias = None, is_attn=False):\n",
        "    in_shape = pt_weight.shape\n",
        "\n",
        "    if isinstance(tf_component, tf.keras.layers.Conv3D) :\n",
        "      pt_weight = conv_transpose(pt_weight)\n",
        "\n",
        "    if isinstance(tf_component, tf.keras.layers.Dense) and not is_attn:\n",
        "      pt_weight =pt_weight.transpose()\n",
        "\n",
        "    if isinstance(tf_component, (tf.keras.layers.Dense, tf.keras.layers.Conv3D)):\n",
        "        tf_component.kernel.assign(tf.Variable(pt_weight))\n",
        "\n",
        "        if pt_bias is not None:\n",
        "            tf_component.bias.assign(tf.Variable(pt_bias))\n",
        "\n",
        "    elif isinstance(tf_component, tf.keras.layers.LayerNormalization):\n",
        "\n",
        "        tf_component.gamma.assign(tf.Variable(pt_weight))\n",
        "\n",
        "        tf_component.beta.assign(tf.Variable(pt_bias))\n",
        "\n",
        "    elif isinstance(tf_component, (tf.Variable)):\n",
        "        tf_component.assign(tf.Variable(pt_weight))\n",
        "\n",
        "    else:\n",
        "        return tf.convert_to_tensor(pt_weight)\n",
        "        \n",
        "        \n",
        "\n",
        "    return tf_component\n",
        "\n",
        "\n",
        "def modify_swin_blocks(np_state_dict, pt_weights_prefix, tf_block):\n",
        "\n",
        "  for layer in tf_block:\n",
        "    if isinstance(layer, PatchMerging):\n",
        "      patch_merging_idx = f\"{pt_weights_prefix}.downsample\"\n",
        "\n",
        "      layer.reduction = modify_tf_block( layer.reduction,\n",
        "                          np_state_dict[f\"{patch_merging_idx}.reduction.weight\"])\n",
        "      layer.norm = modify_tf_block( layer.norm,\n",
        "                        np_state_dict[f\"{patch_merging_idx}.norm.weight\"],\n",
        "                        np_state_dict[f\"{patch_merging_idx}.norm.bias\"]\n",
        "                        )\n",
        "      \n",
        "  # Swin Layers\n",
        "  common_prefix = f\"{pt_weights_prefix}.blocks\"\n",
        "  block_idx = 0\n",
        "\n",
        "  for outer_layer in tf_block:\n",
        "\n",
        "      layernorm_idx = 1\n",
        "      mlp_layer_idx = 1\n",
        "\n",
        "      if isinstance(outer_layer, SwinTransformerBlock3D):\n",
        "          for inner_layer in outer_layer.layers:\n",
        "        \n",
        "              # Layer norm.\n",
        "              if isinstance(inner_layer, tf.keras.layers.LayerNormalization):\n",
        "                  layer_norm_prefix = (\n",
        "                      f\"{common_prefix}.{block_idx}.norm{layernorm_idx}\"\n",
        "                  )\n",
        "                  inner_layer.gamma.assign(\n",
        "                      tf.Variable(\n",
        "                          np_state_dict[f\"{layer_norm_prefix}.weight\"]\n",
        "                      )\n",
        "                  )\n",
        "\n",
        "\n",
        "\n",
        "                  inner_layer.beta.assign(\n",
        "                      tf.Variable(np_state_dict[f\"{layer_norm_prefix}.bias\"])\n",
        "                  )\n",
        "\n",
        "                  layernorm_idx += 1\n",
        "\n",
        "              # Window attention.\n",
        "              elif isinstance(inner_layer, WindowAttention3D):\n",
        "                  attn_prefix = f\"{common_prefix}.{block_idx}.attn\"\n",
        "\n",
        "                  # Relative position.\n",
        "                  inner_layer.relative_position_bias_table = (\n",
        "                      modify_tf_block(\n",
        "                          inner_layer.relative_position_bias_table,\n",
        "                          np_state_dict[\n",
        "                              f\"{attn_prefix}.relative_position_bias_table\"\n",
        "                          ] \n",
        "                      )\n",
        "                  )\n",
        "                  inner_layer.relative_position_index = (\n",
        "                      modify_tf_block(\n",
        "                          inner_layer.relative_position_index,\n",
        "                          np_state_dict[\n",
        "                              f\"{attn_prefix}.relative_position_index\"\n",
        "                          ]\n",
        "                      )\n",
        "                  )\n",
        "\n",
        "                  # QKV.\n",
        "                  inner_layer.qkv = modify_tf_block(\n",
        "                      inner_layer.qkv,\n",
        "                      np_state_dict[f\"{attn_prefix}.qkv.weight\"],\n",
        "                      np_state_dict[f\"{attn_prefix}.qkv.bias\"]\n",
        "                  )\n",
        "\n",
        "                  # Projection.\n",
        "                  inner_layer.proj = modify_tf_block(\n",
        "                      inner_layer.proj,\n",
        "                      np_state_dict[f\"{attn_prefix}.proj.weight\"],\n",
        "                      np_state_dict[f\"{attn_prefix}.proj.bias\"]\n",
        "                  )\n",
        "\n",
        "              # MLP.\n",
        "              elif isinstance(inner_layer, tf.keras.Model):\n",
        "                  mlp_prefix = f\"{common_prefix}.{block_idx}.mlp\"\n",
        "                  for mlp_layer in inner_layer.layers:\n",
        "                      if isinstance(mlp_layer, tf.keras.layers.Dense):\n",
        "                          mlp_layer = modify_tf_block(\n",
        "                              mlp_layer,\n",
        "                              np_state_dict[\n",
        "                                  f\"{mlp_prefix}.fc{mlp_layer_idx}.weight\"\n",
        "                              ],\n",
        "                              np_state_dict[\n",
        "                                  f\"{mlp_prefix}.fc{mlp_layer_idx}.bias\"\n",
        "                              ]\n",
        "                          )\n",
        "                          mlp_layer_idx += 1\n",
        "\n",
        "          block_idx += 1\n",
        "  return tf_block\n"
      ]
    },
    {
      "cell_type": "markdown",
      "metadata": {
        "id": "rGfcatguTzck"
      },
      "source": [
        "### convert"
      ]
    },
    {
      "cell_type": "code",
      "execution_count": 10,
      "metadata": {
        "id": "pZAMhaFGTzcl"
      },
      "outputs": [],
      "source": [
        "np_state_dict = pt_model.state_dict()\n",
        "np_state_dict = {k: np_state_dict[k].numpy() for k in np_state_dict}\n",
        "\n",
        "tf_model.projection.layers[0] = modify_tf_block(tf_model.projection.layers[0]\n",
        "        ,\n",
        "        np_state_dict[\"patch_embed.proj.weight\"],\n",
        "        np_state_dict[\"patch_embed.proj.bias\"])\n",
        "\n",
        "tf_model.projection.layers[1] = modify_tf_block(\n",
        "    tf_model.projection.layers[1],\n",
        "    np_state_dict[\"patch_embed.norm.weight\"],\n",
        "    np_state_dict[\"patch_embed.norm.bias\"])\n",
        "\n",
        "\n",
        "layer_normalization_idx = -1\n",
        "\n",
        "tf_model.layers[layer_normalization_idx] = modify_tf_block(\n",
        "    tf_model.layers[layer_normalization_idx] ,\n",
        "    np_state_dict[\"norm.weight\"],\n",
        "    np_state_dict[\"norm.bias\"]\n",
        "    )\n",
        "\n",
        "# swin layers\n",
        "for i in range(2, len(tf_model.layers) - 1):\n",
        "    _ = modify_swin_blocks(np_state_dict,\n",
        "                        f\"layers.{i-2}\",\n",
        "                        tf_model.layers[i].layers)"
      ]
    },
    {
      "cell_type": "code",
      "execution_count": 11,
      "metadata": {
        "id": "KBvHCrG9oxyu"
      },
      "outputs": [],
      "source": [
        "shape_of_input = [2,3,32,224,224]\n",
        "x_tf, x_pt = get_x(shape_of_input)"
      ]
    },
    {
      "cell_type": "code",
      "execution_count": 12,
      "metadata": {
        "colab": {
          "base_uri": "https://localhost:8080/"
        },
        "id": "sB9un1CATzcm",
        "outputId": "6d2e86a7-32bb-4601-aaa1-9e6547eeebdd"
      },
      "outputs": [
        {
          "name": "stdout",
          "output_type": "stream",
          "text": [
            "------\n"
          ]
        },
        {
          "data": {
            "text/plain": [
              "(TensorShape([2, 768, 16, 7, 7]), torch.Size([2, 768, 16, 7, 7]))"
            ]
          },
          "execution_count": 12,
          "metadata": {},
          "output_type": "execute_result"
        }
      ],
      "source": [
        "layers_output_tf, y = tf_model(x_tf)\n",
        "print(\"------\")\n",
        "layers_output_pt, z= pt_model(x_pt)\n",
        "\n",
        "y.shape, z.shape\n",
        "\n",
        "# basic 1 input (1, 96, 4, 56, 56)"
      ]
    },
    {
      "cell_type": "code",
      "execution_count": 13,
      "metadata": {
        "id": "jus_cUshN-f0"
      },
      "outputs": [
        {
          "name": "stdout",
          "output_type": "stream",
          "text": [
            "-------------- PatchEmbed -------------\n",
            " TF:  [[[[[-0.7323462  -0.2055848  -0.8046545  -0.5045555  -0.81413895\n",
            "     -0.151171   -0.41427463 -0.03472714 -0.9593302   0.8204033 ]]]]] \n",
            " PT:  [[[[[-0.7323463  -0.20558482 -0.8046547  -0.5045556  -0.8141389\n",
            "     -0.15117107 -0.4142747  -0.03472713 -0.95933026  0.8204034 ]]]]] \n",
            "\n",
            "-------------- drop_out -------------\n",
            " TF:  [[[[[-0.7323462  -0.2055848  -0.8046545  -0.5045555  -0.81413895\n",
            "     -0.151171   -0.41427463 -0.03472714 -0.9593302   0.8204033 ]]]]] \n",
            " PT:  [[[[[-0.7323463  -0.20558482 -0.8046547  -0.5045556  -0.8141389\n",
            "     -0.15117107 -0.4142747  -0.03472713 -0.95933026  0.8204034 ]]]]] \n",
            "\n",
            "-------------- basic layer1 -------------\n",
            " TF:  [[[[[1.0565877  0.818118   1.0327749  0.25583005 0.40207955 0.89497113\n",
            "     0.87413114 1.2251043  0.64304674 0.2681667 ]]]]] \n",
            " PT:  [[[[[1.0565877  0.8181182  1.0327747  0.25582993 0.40207982 0.89497095\n",
            "     0.874131   1.2251046  0.64304656 0.2681666 ]]]]] \n",
            "\n",
            "-------------- basic layer2 -------------\n",
            " TF:  [[[[[0.17482239 0.19755578 0.02832198 0.46338227 0.2249968  0.28218627\n",
            "     0.23357214 0.3192956  0.4347179  0.06802306]]]]] \n",
            " PT:  [[[[[0.17482245 0.19755556 0.02832158 0.46338242 0.22499743 0.28218636\n",
            "     0.23357213 0.3192954  0.43471825 0.06802344]]]]] \n",
            "\n",
            "-------------- basic layer3 -------------\n",
            " TF:  [[[[[-0.93800604 -0.6582196  -1.1315312  -0.7308111  -1.0964727\n",
            "     -0.69211173 -0.8072025 ]]]]] \n",
            " PT:  [[[[[-0.9380064  -0.65821856 -1.1315315  -0.73081094 -1.096473\n",
            "     -0.6921121  -0.8072026 ]]]]] \n",
            "\n",
            "-------------- basic layer4 -------------\n",
            " TF:  [[[[[-0.4101933  -0.13567722 -0.588999   -0.10200407 -0.6115213\n",
            "     -0.13761638 -0.24861357]]]]] \n",
            " PT:  [[[[[-0.4101941  -0.1356763  -0.5889992  -0.10200401 -0.6115216\n",
            "     -0.13761693 -0.2486139 ]]]]] \n",
            "\n",
            "-------------- Final Output -------------\n",
            " TF:  [[[[[-0.5367186  -0.20398113 -0.7626307  -0.1594015  -0.77777714\n",
            "     -0.21205412 -0.34441033]]]]] \n",
            " PT:  [[[[[-0.5367195  -0.20397997 -0.76263094 -0.15940142 -0.7777777\n",
            "     -0.21205482 -0.3444107 ]]]]] \n",
            "\n"
          ]
        }
      ],
      "source": [
        "# Eplore the output of all layers\n",
        "for layer in layers_output_pt:\n",
        "    print(\"--------------\",layer, \"-------------\\n TF: \", layers_output_tf[layer].numpy()[:1,:1,:1,:1,:10], \"\\n PT: \", layers_output_pt[layer].detach().numpy()[:1,:1,:1,:1,:10], \"\\n\" )"
      ]
    },
    {
      "cell_type": "code",
      "execution_count": 14,
      "metadata": {},
      "outputs": [
        {
          "name": "stdout",
          "output_type": "stream",
          "text": [
            "0.5733444690704346 Absolute Difference of  PatchEmbed\n",
            "0.5733444690704346 Absolute Difference of  drop_out\n",
            "0.6477771997451782 Absolute Difference of  basic layer1\n",
            "0.5340162515640259 Absolute Difference of  basic layer2\n",
            "0.32382580637931824 Absolute Difference of  basic layer3\n",
            "0.42159709334373474 Absolute Difference of  basic layer4\n",
            "0.5291590094566345 Absolute Difference of  Final Output\n"
          ]
        }
      ],
      "source": [
        "# compare layers' output. It asserts  at basic layer1\n",
        "for layer in layers_output_pt:\n",
        "\n",
        "    abs_diff = np.sum( np.abs( layers_output_tf[layer].numpy() - layers_output_pt[layer].detach().numpy()))\n",
        "    print(f\"{abs_diff} Absolute Difference of  {layer}\" )\n"
      ]
    },
    {
      "cell_type": "code",
      "execution_count": 17,
      "metadata": {},
      "outputs": [
        {
          "name": "stdout",
          "output_type": "stream",
          "text": [
            "Testing PatchEmbed\n",
            "Testing drop_out\n",
            "Testing basic layer1\n",
            "Testing basic layer2\n",
            "Testing basic layer3\n",
            "Testing basic layer4\n",
            "Testing Final Output\n"
          ]
        }
      ],
      "source": [
        "# compare layers' output. It asserts  at basic layer1\n",
        "for layer in layers_output_pt:\n",
        "    print(\"Testing\", layer)\n",
        "    np.testing.assert_allclose(layers_output_tf[layer].numpy(), layers_output_pt[layer].detach().numpy(), 1e-4, 1e-4)"
      ]
    },
    {
      "cell_type": "code",
      "execution_count": 19,
      "metadata": {},
      "outputs": [],
      "source": [
        "# a = a"
      ]
    },
    {
      "cell_type": "code",
      "execution_count": null,
      "metadata": {},
      "outputs": [],
      "source": [
        "e = 1e-4\n",
        "np.testing.assert_allclose(layers_output_tf[\"basic layer4\"].numpy(), layers_output_pt[\"basic layer4\"].detach().numpy(), e, e)\n"
      ]
    },
    {
      "cell_type": "code",
      "execution_count": 18,
      "metadata": {
        "id": "lTsJhqo39sOx"
      },
      "outputs": [],
      "source": [
        "# comparing the outputs\n",
        "np.testing.assert_allclose(y.numpy(), z.detach().numpy(), 1e-4, 1e-4)\n"
      ]
    },
    {
      "cell_type": "code",
      "execution_count": null,
      "metadata": {
        "colab": {
          "base_uri": "https://localhost:8080/",
          "height": 621
        },
        "id": "ddWr78VQ-oGa",
        "outputId": "f18fdf52-a55a-45c4-e2e8-ef183b13bef7"
      },
      "outputs": [],
      "source": []
    },
    {
      "cell_type": "markdown",
      "metadata": {
        "id": "GDYo4pqMTzcn"
      },
      "source": [
        "### PT basic layer outputs comparison"
      ]
    },
    {
      "cell_type": "code",
      "execution_count": null,
      "metadata": {
        "id": "Qry9YZwqTzcn"
      },
      "outputs": [],
      "source": [
        "attempts = 2\n",
        "# x_pt = torch.rand((1,3,8,224,224))\n",
        "\n",
        "outputs = []\n",
        "\n",
        "for i in range(attempts):\n",
        "    layer_out , result = pt_model(x_pt)\n",
        "    outputs.append(layer_out)\n",
        "\n",
        "i = 0\n",
        "for layer in outputs[0]:\n",
        "    print(\"--------------\", layer, \"---------------\")\n",
        "    for idx, layer_out in enumerate(outputs) :\n",
        "        print(f\"attempt {idx} : \",layer_out[layer].detach().numpy()[:1,:1,:1,:1,:10], \"\\n\")\n",
        "    print()\n"
      ]
    },
    {
      "cell_type": "markdown",
      "metadata": {
        "id": "XThvAWb2AOT1"
      },
      "source": [
        "### All close testing\n",
        "\n",
        "Compare the first attempt with another attempt. Enter the attempt value in the following cell"
      ]
    },
    {
      "cell_type": "code",
      "execution_count": null,
      "metadata": {
        "id": "58uXm8HnDnWy"
      },
      "outputs": [],
      "source": [
        "attempt_no = 1     # Change the attempt_no value to compare the first attempt with another attempt\n"
      ]
    },
    {
      "cell_type": "code",
      "execution_count": null,
      "metadata": {
        "id": "VI7BMA75ES86"
      },
      "outputs": [],
      "source": [
        "# PatchEmbed Layer\n",
        "output1 = outputs[0][\"PatchEmbed\"]\n",
        "output2 =  outputs[attempt_no][\"PatchEmbed\"]\n",
        "\n",
        "np.testing.assert_allclose(output1.detach().numpy(), output2.detach().numpy(), 1e-4, 1e-4)"
      ]
    },
    {
      "cell_type": "code",
      "execution_count": null,
      "metadata": {
        "id": "ozPQ2dK5DOBy"
      },
      "outputs": [],
      "source": [
        "# Basic Layer1\n",
        "output1 = outputs[0][\"basic layer1\"]\n",
        "output2 =  outputs[attempt_no][\"basic layer1\"]\n",
        "\n",
        "np.testing.assert_allclose(output1.detach().numpy(), output2.detach().numpy(), 1e-4, 1e-4)"
      ]
    },
    {
      "cell_type": "code",
      "execution_count": null,
      "metadata": {
        "id": "rF5wzPmyoZKz"
      },
      "outputs": [],
      "source": [
        "# Basic Layer2\n",
        "\n",
        "output1 = outputs[0][\"basic layer2\"]\n",
        "output2 =  outputs[attempt_no][\"basic layer2\"]\n",
        "\n",
        "np.testing.assert_allclose(output1.detach().numpy(), output2.detach().numpy(), 1e-4, 1e-4)"
      ]
    },
    {
      "cell_type": "code",
      "execution_count": null,
      "metadata": {
        "id": "38msQO2V_Ymo"
      },
      "outputs": [],
      "source": [
        "# Basic Layer3\n",
        "\n",
        "output1 = outputs[0][\"basic layer3\"]\n",
        "output2 =  outputs[attempt_no][\"basic layer3\"]\n",
        "\n",
        "np.testing.assert_allclose(output1.detach().numpy(), output2.detach().numpy(), 1e-4, 1e-4)"
      ]
    },
    {
      "cell_type": "code",
      "execution_count": null,
      "metadata": {
        "id": "MvQENbPDEgv7"
      },
      "outputs": [],
      "source": [
        "# Basic Layer4\n",
        "\n",
        "output1 = outputs[0][\"basic layer4\"]\n",
        "output2 =  outputs[attempt_no][\"basic layer4\"]\n",
        "\n",
        "np.testing.assert_allclose(output1.detach().numpy(), output2.detach().numpy(), 1e-4, 1e-4)"
      ]
    },
    {
      "cell_type": "code",
      "execution_count": null,
      "metadata": {
        "id": "DdczhGavDSyg"
      },
      "outputs": [],
      "source": [
        "# Final Output\n",
        "\n",
        "output1 = outputs[0][\"Final Output\"]\n",
        "output2 =  outputs[attempt_no][\"Final Output\"]\n",
        "\n",
        "np.testing.assert_allclose(output1.detach().numpy(), output2.detach().numpy(), 1e-4, 1e-4)"
      ]
    },
    {
      "cell_type": "code",
      "execution_count": null,
      "metadata": {
        "id": "h6LqDD8hDVAn"
      },
      "outputs": [],
      "source": []
    },
    {
      "cell_type": "code",
      "execution_count": null,
      "metadata": {},
      "outputs": [],
      "source": []
    }
  ],
  "metadata": {
    "colab": {
      "collapsed_sections": [],
      "name": "Compare Layers Video Swin Transformer.ipynb",
      "provenance": []
    },
    "kernelspec": {
      "display_name": "Python 3.9.6 64-bit",
      "language": "python",
      "name": "python3"
    },
    "language_info": {
      "codemirror_mode": {
        "name": "ipython",
        "version": 3
      },
      "file_extension": ".py",
      "mimetype": "text/x-python",
      "name": "python",
      "nbconvert_exporter": "python",
      "pygments_lexer": "ipython3",
      "version": "3.9.6"
    },
    "orig_nbformat": 4,
    "vscode": {
      "interpreter": {
        "hash": "5ed124f2b279c186db57d0ede455df2b109954ad4fa1a5a2c59adb747c894aa2"
      }
    }
  },
  "nbformat": 4,
  "nbformat_minor": 0
}
