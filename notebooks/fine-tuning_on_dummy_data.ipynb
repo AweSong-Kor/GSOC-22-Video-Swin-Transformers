{
 "cells": [
  {
   "cell_type": "code",
   "execution_count": 1,
   "metadata": {},
   "outputs": [],
   "source": [
    "import tensorflow as tf\n",
    "import numpy as np\n",
    "import tensorflow_addons as tfa\n",
    "import sys"
   ]
  },
  {
   "cell_type": "code",
   "execution_count": 9,
   "metadata": {},
   "outputs": [],
   "source": [
    "sys.path.append(\"/Users/mohammadshoaib/Codes/tensorflow-test/GSOC-22-Video-Swin-Transformers\")"
   ]
  },
  {
   "cell_type": "code",
   "execution_count": 10,
   "metadata": {},
   "outputs": [],
   "source": [
    "from VideoSwinTransformer import model_configs, I3DHead_tf , CosineAnnealingWithWarmupSchedule"
   ]
  },
  {
   "cell_type": "code",
   "execution_count": 11,
   "metadata": {},
   "outputs": [],
   "source": [
    "def get_model(num_classes, backbone ,shape_of_input=(3,32,224,224)):\n",
    "    inputs = tf.keras.Input(shape_of_input[1:])\n",
    "    \n",
    "    x = backbone(inputs, training= True)\n",
    "    outputs = I3DHead_tf(num_classes, 768, training=True)(x)\n",
    "    return tf.keras.Model(inputs, outputs)"
   ]
  },
  {
   "cell_type": "code",
   "execution_count": 12,
   "metadata": {},
   "outputs": [
    {
     "name": "stderr",
     "output_type": "stream",
     "text": [
      "2022-10-05 17:28:25.814521: I tensorflow/core/common_runtime/pluggable_device/pluggable_device_factory.cc:305] Could not identify NUMA node of platform GPU ID 0, defaulting to 0. Your kernel may not have been built with NUMA support.\n",
      "2022-10-05 17:28:25.815213: I tensorflow/core/common_runtime/pluggable_device/pluggable_device_factory.cc:271] Created TensorFlow device (/job:localhost/replica:0/task:0/device:GPU:0 with 0 MB memory) -> physical PluggableDevice (device: 0, name: METAL, pci bus id: <undefined>)\n"
     ]
    },
    {
     "name": "stdout",
     "output_type": "stream",
     "text": [
      "Metal device set to: Apple M1\n",
      "\n",
      "systemMemory: 8.00 GB\n",
      "maxCacheSize: 2.67 GB\n",
      "\n"
     ]
    }
   ],
   "source": [
    "# loading the tf2 model with converted pre-trained weights\n",
    "path_to_model_weights = \"/Users/mohammadshoaib/Codes/tensorflow-test/GSOC-22-Video-Swin-Transformers/swin_tiny_patch244_window877_kinetics400_1k_tf\"\n",
    "backbone = tf.keras.models.load_model(path_to_model_weights)\n",
    "\n",
    "# uncomment the following line if you want to initialize the backbone model with random values\n",
    "# backbone = SwinTransformer3D(**cfg, shape_of_input=shape_of_input)"
   ]
  },
  {
   "cell_type": "code",
   "execution_count": 39,
   "metadata": {},
   "outputs": [],
   "source": [
    "batch_size = 1\n",
    "num_frames = 32\n",
    "resolution = 224\n",
    "channels = 3\n",
    "sample_count = 10\n",
    "num_classes = 5\n",
    "\n",
    "shape_of_input = (sample_count, 3, num_frames, resolution,resolution)"
   ]
  },
  {
   "cell_type": "code",
   "execution_count": 41,
   "metadata": {},
   "outputs": [
    {
     "data": {
      "text/plain": [
       "(10, TensorShape([3, 32, 224, 224]), TensorShape([10, 5]))"
      ]
     },
     "execution_count": 41,
     "metadata": {},
     "output_type": "execute_result"
    }
   ],
   "source": [
    "videos = tf.random.normal(shape_of_input) #for _ in range(sample_count)\n",
    "labels = tf.random.uniform(shape=[sample_count], minval=0, maxval=num_classes, dtype='int64')\n",
    "labels = tf.one_hot(labels, num_classes)\n",
    "\n",
    "len(videos), videos[0].shape, labels.shape"
   ]
  },
  {
   "cell_type": "code",
   "execution_count": 43,
   "metadata": {},
   "outputs": [],
   "source": [
    "num_epochs = 3\n",
    "\n",
    "warmup_epoch = 2\n",
    "total_steps = int(num_epochs * sample_count / batch_size)\n",
    "\n",
    "# Compute the number of warmup batches.\n",
    "warmup_steps = int(warmup_epoch * sample_count / batch_size)\n",
    "\n",
    "train_steps = sample_count// batch_size\n",
    "total_train_steps = train_steps * num_epochs\n",
    "test_steps = sample_count // batch_size"
   ]
  },
  {
   "cell_type": "code",
   "execution_count": 44,
   "metadata": {},
   "outputs": [
    {
     "name": "stdout",
     "output_type": "stream",
     "text": [
      "5 768 {'type': 'CrossEntropyLoss'} avg 0.5 0.01 {'training': True}\n"
     ]
    }
   ],
   "source": [
    "model = get_model(num_classes,  backbone,shape_of_input=shape_of_input)\n",
    "\n",
    "## backbone model has a multiplier of 0.1 for learning rate. To implement that MultiOptimizer is being used\n",
    "lr_backbone = CosineAnnealingWithWarmupSchedule(learning_rate_base=.001,\n",
    "                                    total_steps=total_steps,\n",
    "                                    warmup_learning_rate=0.0,\n",
    "                                    warmup_steps=warmup_steps,\n",
    "                                    hold_base_rate_steps=0)\n",
    "lr_classifier = CosineAnnealingWithWarmupSchedule(learning_rate_base=.01,\n",
    "                                        total_steps=total_steps,\n",
    "                                        warmup_learning_rate=0.0,\n",
    "                                        warmup_steps=warmup_steps,\n",
    "                                        hold_base_rate_steps=0)\n",
    "\n",
    "optimizer_backbone = tfa.optimizers.AdamW(weight_decay= 0.05,learning_rate=lr_backbone, beta_1= 0.9, beta_2=0.999, epsilon=1e-8)\n",
    "optimizer_classifier = tfa.optimizers.AdamW(weight_decay= 0.05,learning_rate=lr_classifier, beta_1= 0.9, beta_2=0.999, epsilon=1e-8)\n",
    "\n",
    "optimizers_and_layers = [(optimizer_backbone, model.layers[1]), (optimizer_classifier, model.layers[2])]\n",
    "optimizer = tfa.optimizers.MultiOptimizer(optimizers_and_layers)\n",
    "\n",
    "loss_obj = tf.keras.losses.CategoricalCrossentropy(from_logits=True,label_smoothing=0.1,\n",
    "                                    reduction=tf.keras.losses.Reduction.SUM)\n",
    "\n",
    "metrics=[\"top_k_categorical_accuracy\"] \n",
    "\n",
    "model.compile(loss=loss_obj, optimizer=optimizer, metrics=metrics)"
   ]
  },
  {
   "cell_type": "code",
   "execution_count": 45,
   "metadata": {},
   "outputs": [
    {
     "name": "stdout",
     "output_type": "stream",
     "text": [
      "Epoch 1/3\n"
     ]
    },
    {
     "name": "stderr",
     "output_type": "stream",
     "text": [
      "2022-10-05 17:35:08.276567: W tensorflow/core/platform/profile_utils/cpu_utils.cc:128] Failed to get CPU frequency: 0 Hz\n",
      "/Users/mohammadshoaib/Codes/tensorflow-test/env/lib/python3.8/site-packages/tensorflow/python/util/dispatch.py:1082: UserWarning: \"`categorical_crossentropy` received `from_logits=True`, but the `output` argument was produced by a sigmoid or softmax activation and thus does not represent logits. Was this intended?\"\n",
      "  return dispatch_target(*args, **kwargs)\n"
     ]
    },
    {
     "name": "stdout",
     "output_type": "stream",
     "text": [
      "lr = 5e-05\n",
      "lr = 0.0005\n",
      "lr = 5e-05\n",
      "lr = 0.0005\n"
     ]
    },
    {
     "name": "stderr",
     "output_type": "stream",
     "text": [
      "2022-10-05 17:35:15.123365: I tensorflow/core/grappler/optimizers/custom_graph_optimizer_registry.cc:113] Plugin optimizer for device_type GPU is enabled.\n"
     ]
    },
    {
     "name": "stdout",
     "output_type": "stream",
     "text": [
      "10/10 [==============================] - 49s 3s/step - loss: 1.6442 - top_k_categorical_accuracy: 1.0000\n",
      "Epoch 2/3\n",
      "10/10 [==============================] - 31s 3s/step - loss: 1.6114 - top_k_categorical_accuracy: 1.0000\n",
      "Epoch 3/3\n",
      "10/10 [==============================] - 34s 3s/step - loss: 1.5692 - top_k_categorical_accuracy: 1.0000\n"
     ]
    }
   ],
   "source": [
    "results = model.fit(videos,labels,\n",
    "    epochs=num_epochs,\n",
    "    steps_per_epoch=train_steps,\n",
    "    validation_steps=test_steps,\n",
    "    callbacks=[],\n",
    "    validation_freq=1,\n",
    "    verbose=1)"
   ]
  },
  {
   "cell_type": "code",
   "execution_count": 46,
   "metadata": {},
   "outputs": [
    {
     "data": {
      "text/plain": [
       "<keras.callbacks.History at 0x2fd880a90>"
      ]
     },
     "execution_count": 46,
     "metadata": {},
     "output_type": "execute_result"
    }
   ],
   "source": []
  },
  {
   "cell_type": "code",
   "execution_count": null,
   "metadata": {},
   "outputs": [],
   "source": []
  }
 ],
 "metadata": {
  "kernelspec": {
   "display_name": "Python 3.8.13",
   "language": "python",
   "name": "python3"
  },
  "language_info": {
   "codemirror_mode": {
    "name": "ipython",
    "version": 3
   },
   "file_extension": ".py",
   "mimetype": "text/x-python",
   "name": "python",
   "nbconvert_exporter": "python",
   "pygments_lexer": "ipython3",
   "version": "3.8.13"
  },
  "orig_nbformat": 4,
  "vscode": {
   "interpreter": {
    "hash": "18e9ffd7bdaebed3141c5f1e6e3ffefff8dc763f7fe0a2903683245d14d535a1"
   }
  }
 },
 "nbformat": 4,
 "nbformat_minor": 2
}
