{
 "cells": [
  {
   "cell_type": "code",
   "execution_count": null,
   "metadata": {},
   "outputs": [],
   "source": [
    "import tensorflow as tf\n",
    "import numpy as np\n",
    "import tensorflow_addons as tfa"
   ]
  },
  {
   "cell_type": "code",
   "execution_count": null,
   "metadata": {},
   "outputs": [],
   "source": [
    "from VideoSwinTransformer import model_configs, I3DHead_tf , CosineAnnealingWithWarmupSchedule"
   ]
  },
  {
   "cell_type": "code",
   "execution_count": null,
   "metadata": {},
   "outputs": [],
   "source": [
    "def get_model(num_classes, backbone ,shape_of_input=(3,32,224,224)):\n",
    "    inputs = tf.keras.Input(shape_of_input[1:])\n",
    "    \n",
    "    x = backbone(inputs, training= True)\n",
    "    outputs = I3DHead_tf(num_classes, 768, training=True)(x)\n",
    "    return tf.keras.Model(inputs, outputs)"
   ]
  },
  {
   "cell_type": "code",
   "execution_count": null,
   "metadata": {},
   "outputs": [],
   "source": [
    "# loading the tf2 model with converted pre-trained weights\n",
    "path_to_model_weights = \"/Users/mohammadshoaib/Codes/tensorflow-test/GSOC-22-Video-Swin-Transformers/swin_tiny_patch244_window877_kinetics400_1k_tf\"\n",
    "backbone = tf.keras.models.load_model(path_to_model_weights)\n",
    "\n",
    "# uncomment the following line if you want to initialize the backbone model with random values\n",
    "# backbone = SwinTransformer3D(**cfg, shape_of_input=shape_of_input)"
   ]
  },
  {
   "cell_type": "code",
   "execution_count": null,
   "metadata": {},
   "outputs": [],
   "source": [
    "batch_size = 1\n",
    "num_frames = 32\n",
    "resolution = 224\n",
    "channels = 3\n",
    "sample_count = 10\n",
    "num_classes = 5\n",
    "\n",
    "shape_of_input = (batch_size, 3, num_frames, resolution,resolution)"
   ]
  },
  {
   "cell_type": "code",
   "execution_count": null,
   "metadata": {},
   "outputs": [],
   "source": [
    "videos = [tf.random.normal(shape_of_input) for _ in sample_count]\n",
    "labels = tf.random.uniform(shape=[sample_count], minval=0, maxval=num_classes, dtype='int64')"
   ]
  },
  {
   "cell_type": "code",
   "execution_count": null,
   "metadata": {},
   "outputs": [],
   "source": [
    "num_epochs = 3\n",
    "\n",
    "warmup_epoch = 2\n",
    "total_steps = int(num_epochs * sample_count / batch_size)\n",
    "\n",
    "# Compute the number of warmup batches.\n",
    "warmup_steps = int(warmup_epoch * sample_count / batch_size)\n",
    "\n",
    "train_steps = sample_count// batch_size\n",
    "total_train_steps = train_steps * num_epochs\n",
    "test_steps = sample_count // batch_size"
   ]
  },
  {
   "cell_type": "code",
   "execution_count": null,
   "metadata": {},
   "outputs": [],
   "source": [
    "model = get_model(num_classes,  backbone,shape_of_input=shape_of_input)\n",
    "\n",
    "## backbone model has a multiplier of 0.1 for learning rate. To implement that MultiOptimizer is being used\n",
    "lr_backbone = CosineAnnealingWithWarmupSchedule(learning_rate_base=.001,\n",
    "                                    total_steps=total_steps,\n",
    "                                    warmup_learning_rate=0.0,\n",
    "                                    warmup_steps=warmup_steps,\n",
    "                                    hold_base_rate_steps=0)\n",
    "lr_classifier = CosineAnnealingWithWarmupSchedule(learning_rate_base=.01,\n",
    "                                        total_steps=total_steps,\n",
    "                                        warmup_learning_rate=0.0,\n",
    "                                        warmup_steps=warmup_steps,\n",
    "                                        hold_base_rate_steps=0)\n",
    "\n",
    "optimizer_backbone = tfa.optimizers.AdamW(weight_decay= 0.05,learning_rate=lr_backbone, beta_1= 0.9, beta_2=0.999, epsilon=1e-8)\n",
    "optimizer_classifier = tfa.optimizers.AdamW(weight_decay= 0.05,learning_rate=lr_classifier, beta_1= 0.9, beta_2=0.999, epsilon=1e-8)\n",
    "\n",
    "optimizers_and_layers = [(optimizer_backbone, model.layers[1]), (optimizer_classifier, model.layers[2])]\n",
    "optimizer = tfa.optimizers.MultiOptimizer(optimizers_and_layers)\n",
    "\n",
    "loss_obj = tf.keras.losses.CategoricalCrossentropy(from_logits=True,label_smoothing=0.1,\n",
    "                                    reduction=tf.keras.losses.Reduction.SUM)\n",
    "\n",
    "metrics=[\"top_k_categorical_accuracy\"] \n",
    "\n",
    "model.compile(loss=loss_obj, optimizer=optimizer, metrics=metrics)"
   ]
  },
  {
   "cell_type": "code",
   "execution_count": null,
   "metadata": {},
   "outputs": [],
   "source": [
    "results = model.fit(\n",
    "    dist_train_dataset,\n",
    "    validation_data=dist_test_dataset,\n",
    "    epochs=num_epochs,\n",
    "    steps_per_epoch=train_steps,\n",
    "    validation_steps=test_steps,\n",
    "    callbacks=[],\n",
    "    validation_freq=1,\n",
    "    verbose=1)"
   ]
  }
 ],
 "metadata": {
  "language_info": {
   "name": "python"
  },
  "orig_nbformat": 4
 },
 "nbformat": 4,
 "nbformat_minor": 2
}
