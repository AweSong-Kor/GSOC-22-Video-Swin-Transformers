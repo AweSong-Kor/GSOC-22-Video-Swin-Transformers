{
  "nbformat": 4,
  "nbformat_minor": 0,
  "metadata": {
    "colab": {
      "provenance": [],
      "collapsed_sections": []
    },
    "kernelspec": {
      "name": "python3",
      "display_name": "Python 3"
    },
    "language_info": {
      "name": "python"
    }
  },
  "cells": [
    {
      "cell_type": "code",
      "source": [
        "!pip install Pillow==9.0.0"
      ],
      "metadata": {
        "id": "QqPMpQ_ivbzl"
      },
      "execution_count": null,
      "outputs": []
    },
    {
      "cell_type": "markdown",
      "source": [
        "TODO: Restart the RunTime before running the following cells"
      ],
      "metadata": {
        "id": "aATOi9kXqCz7"
      }
    },
    {
      "cell_type": "code",
      "source": [
        "! pip install -q mmcv mmaction einops wget timm tensorflow-addons"
      ],
      "metadata": {
        "id": "qwbQZIjuq9FQ"
      },
      "execution_count": null,
      "outputs": []
    },
    {
      "cell_type": "code",
      "source": [
        "import sys\n",
        "import os\n",
        "\n",
        "import tensorflow as tf\n",
        "from typing import List\n"
      ],
      "metadata": {
        "id": "lWUZIt_g7qxF"
      },
      "execution_count": null,
      "outputs": []
    },
    {
      "cell_type": "markdown",
      "source": [
        "Convert PyTorch Weights to TF weights"
      ],
      "metadata": {
        "id": "eBOae5qnqikE"
      }
    },
    {
      "cell_type": "code",
      "source": [
        "! git clone https://github.com/shoaib6174/GSOC-22-Video-Swin-Transformers\n",
        "sys.path.append(\"/content/GSOC-22-Video-Swin-Transformers\")"
      ],
      "metadata": {
        "id": "49g9r7x4qAXm"
      },
      "execution_count": null,
      "outputs": []
    },
    {
      "cell_type": "code",
      "source": [
        "from VideoSwinTransformer import model_configs"
      ],
      "metadata": {
        "colab": {
          "base_uri": "https://localhost:8080/"
        },
        "id": "g5vhG4Xy7Svs",
        "outputId": "3324076a-f57c-4e36-ad72-557cf7a05b9c"
      },
      "execution_count": null,
      "outputs": [
        {
          "output_type": "stream",
          "name": "stdout",
          "text": [
            "No CUDA runtime is found, using CUDA_HOME='/usr/local/cuda'\n"
          ]
        }
      ]
    },
    {
      "cell_type": "code",
      "source": [
        "for model_name in model_configs.MODEL_MAP:\n",
        "  print(\"Converting\", model_name)\n",
        "  command = f\"python /content/GSOC-22-Video-Swin-Transformers/convert.py -m {model_name}\"\n",
        "  os.system(command)"
      ],
      "metadata": {
        "id": "3BGY8uqA7QKE"
      },
      "execution_count": 4,
      "outputs": []
    },
    {
      "cell_type": "markdown",
      "source": [
        "Convert weights' files to tar.gz"
      ],
      "metadata": {
        "id": "w-f8Hi6iqb4f"
      }
    },
    {
      "cell_type": "code",
      "source": [
        "TF_MODEL_ROOT = \"tf_models/\"\n",
        "TAR_ARCHIVES = os.path.join(\"tars/\")\n",
        "\n",
        "\n",
        "def prepare_archive(model_name: str) -> None:\n",
        "    \"\"\"Prepares a tar archive.\"\"\"\n",
        "    archive_name = f\"{model_name}.tar.gz\"\n",
        "    print(f\"Archiving to {archive_name}.\")\n",
        "    archive_command = f\"cd {model_name} && tar -czvf ../{archive_name} *\"\n",
        "    os.system(archive_command)\n",
        "    os.system(f\"rm -rf {model_name}\")\n",
        "\n",
        "\n",
        "def save_to_gcs(model_paths: List[str]) -> None:\n",
        "    \"\"\"Prepares tar archives and saves them inside a GCS bucket.\"\"\"\n",
        "    for path in model_paths:\n",
        "        print(f\"Preparing model: {path}.\")\n",
        "        model_name = path.strip(\"/\")\n",
        "        abs_model_path = os.path.join(TF_MODEL_ROOT, model_name)\n",
        "\n",
        "        print(f\"Copying from {abs_model_path}.\")\n",
        "        os.system(f\"gsutil cp -r {abs_model_path} .\")\n",
        "        prepare_archive(model_name)\n",
        "\n",
        "    os.system(f\"gsutil -m cp -r *.tar.gz {TAR_ARCHIVES}\")\n",
        "    os.system(\"rm -rf *.tar.gz\")"
      ],
      "metadata": {
        "id": "VJGGUa4apcHG"
      },
      "execution_count": null,
      "outputs": []
    },
    {
      "cell_type": "code",
      "source": [
        "model_paths = tf.io.gfile.listdir(TF_MODEL_ROOT)\n",
        "print(f\"Total models: {len(model_paths)}.\")\n",
        "\n",
        "print(\"Preparing archives for the classification and feature extractor models.\")\n",
        "save_to_gcs(model_paths)\n",
        "tar_paths = tf.io.gfile.listdir(TAR_ARCHIVES)\n",
        "print(f\"Total tars: {len(tar_paths)}.\")"
      ],
      "metadata": {
        "id": "G1A9-Tm1YrLi",
        "colab": {
          "base_uri": "https://localhost:8080/"
        },
        "outputId": "a0b66864-2c77-4839-b4d2-994e700a1b3b"
      },
      "execution_count": null,
      "outputs": [
        {
          "output_type": "stream",
          "name": "stdout",
          "text": [
            "Total models: 7.\n",
            "Preparing archives for the classification and feature extractor models.\n",
            "Preparing model: swin_base_patch244_window877_kinetics600_22k_tf.\n",
            "Copying from tf_models/swin_base_patch244_window877_kinetics600_22k_tf.\n",
            "Archiving to swin_base_patch244_window877_kinetics600_22k_tf.tar.gz.\n",
            "Preparing model: swin_small_patch244_window877_kinetics400_1k_tf.\n",
            "Copying from tf_models/swin_small_patch244_window877_kinetics400_1k_tf.\n",
            "Archiving to swin_small_patch244_window877_kinetics400_1k_tf.tar.gz.\n",
            "Preparing model: swin_base_patch244_window1677_sthv2_tf.\n",
            "Copying from tf_models/swin_base_patch244_window1677_sthv2_tf.\n",
            "Archiving to swin_base_patch244_window1677_sthv2_tf.tar.gz.\n",
            "Preparing model: swin_base_patch244_window877_kinetics400_1k_tf.\n",
            "Copying from tf_models/swin_base_patch244_window877_kinetics400_1k_tf.\n",
            "Archiving to swin_base_patch244_window877_kinetics400_1k_tf.tar.gz.\n",
            "Preparing model: swin_base_patch244_window877_kinetics400_22k_tf.\n",
            "Copying from tf_models/swin_base_patch244_window877_kinetics400_22k_tf.\n",
            "Archiving to swin_base_patch244_window877_kinetics400_22k_tf.tar.gz.\n",
            "Preparing model: swin_tiny_patch244_window877_kinetics400_1k_tf.\n",
            "Copying from tf_models/swin_tiny_patch244_window877_kinetics400_1k_tf.\n",
            "Archiving to swin_tiny_patch244_window877_kinetics400_1k_tf.tar.gz.\n",
            "Preparing model: .ipynb_checkpoints.\n",
            "Copying from tf_models/.ipynb_checkpoints.\n",
            "Archiving to .ipynb_checkpoints.tar.gz.\n",
            "Total tars: 6.\n"
          ]
        }
      ]
    },
    {
      "cell_type": "markdown",
      "source": [
        "Mount Google Driver and Copy Weights' Files"
      ],
      "metadata": {
        "id": "MOyJlsCfqTUk"
      }
    },
    {
      "cell_type": "code",
      "source": [
        "from google.colab import drive\n",
        "drive.mount('/content/drive')"
      ],
      "metadata": {
        "id": "0l--eY9kynxa"
      },
      "execution_count": 3,
      "outputs": []
    },
    {
      "cell_type": "code",
      "source": [
        "!cp -r \"/content/tars\" \"/content/drive/MyDrive/TF_Models/tars\""
      ],
      "metadata": {
        "id": "8gU1eK0MwfkS"
      },
      "execution_count": null,
      "outputs": []
    },
    {
      "cell_type": "code",
      "source": [],
      "metadata": {
        "id": "jIHeI-yO0Gpx"
      },
      "execution_count": null,
      "outputs": []
    }
  ]
}