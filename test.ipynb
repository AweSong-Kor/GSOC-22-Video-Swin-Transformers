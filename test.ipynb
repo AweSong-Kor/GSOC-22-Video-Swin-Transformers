{
 "cells": [
  {
   "cell_type": "code",
   "execution_count": 1,
   "metadata": {},
   "outputs": [
    {
     "name": "stderr",
     "output_type": "stream",
     "text": [
      "2022-08-05 07:46:28.922789: I tensorflow/core/platform/cpu_feature_guard.cc:151] This TensorFlow binary is optimized with oneAPI Deep Neural Network Library (oneDNN) to use the following CPU instructions in performance-critical operations:  AVX2 FMA\n",
      "To enable them in other operations, rebuild TensorFlow with the appropriate compiler flags.\n",
      "2022-08-05 07:46:29.579813: I tensorflow/core/common_runtime/gpu/gpu_device.cc:1525] Created device /job:localhost/replica:0/task:0/device:GPU:0 with 10792 MB memory:  -> device: 0, name: Tesla K80, pci bus id: 0001:00:00.0, compute capability: 3.7\n"
     ]
    }
   ],
   "source": [
    "# from re import S\n",
    "import tensorflow as tf\n",
    "\n",
    "from VideoSwinTransformer import SwinTransformer3D , SwinTransformer3D_pt \n",
    "\n",
    "\n",
    "swin = SwinTransformer3D()\n",
    "\n",
    "\n",
    "\n",
    "x = tf.random.uniform(\n",
    "    [1,8,32,32,3],\n",
    "    minval=0,\n",
    "    maxval=255,\n",
    "    dtype=tf.dtypes.float32,\n",
    "    name=\"x\"\n",
    ")"
   ]
  },
  {
   "cell_type": "code",
   "execution_count": 1,
   "metadata": {},
   "outputs": [
    {
     "name": "stdout",
     "output_type": "stream",
     "text": [
      "x\n"
     ]
    }
   ],
   "source": [
    "print(\"x\")"
   ]
  },
  {
   "cell_type": "code",
   "execution_count": 2,
   "metadata": {},
   "outputs": [
    {
     "name": "stdout",
     "output_type": "stream",
     "text": [
      "Requirement already satisfied: tensorflow==2.7.0 in /anaconda/envs/azureml_py38/lib/python3.8/site-packages (from -r requirements.txt (line 1)) (2.7.0)\n",
      "Requirement already satisfied: mmcv==1.6.1 in /anaconda/envs/azureml_py38/lib/python3.8/site-packages (from -r requirements.txt (line 2)) (1.6.1)\n",
      "Requirement already satisfied: einops==0.4.1 in /anaconda/envs/azureml_py38/lib/python3.8/site-packages (from -r requirements.txt (line 3)) (0.4.1)\n",
      "Requirement already satisfied: timm==0.6.7 in /anaconda/envs/azureml_py38/lib/python3.8/site-packages (from -r requirements.txt (line 4)) (0.6.7)\n",
      "Requirement already satisfied: tensorflow-io-gcs-filesystem>=0.21.0 in /anaconda/envs/azureml_py38/lib/python3.8/site-packages (from tensorflow==2.7.0->-r requirements.txt (line 1)) (0.26.0)\n",
      "Requirement already satisfied: google-pasta>=0.1.1 in /anaconda/envs/azureml_py38/lib/python3.8/site-packages (from tensorflow==2.7.0->-r requirements.txt (line 1)) (0.2.0)\n",
      "Requirement already satisfied: protobuf>=3.9.2 in /anaconda/envs/azureml_py38/lib/python3.8/site-packages (from tensorflow==2.7.0->-r requirements.txt (line 1)) (3.20.1)\n",
      "Requirement already satisfied: grpcio<2.0,>=1.24.3 in /anaconda/envs/azureml_py38/lib/python3.8/site-packages (from tensorflow==2.7.0->-r requirements.txt (line 1)) (1.46.3)\n",
      "Requirement already satisfied: wheel<1.0,>=0.32.0 in /anaconda/envs/azureml_py38/lib/python3.8/site-packages (from tensorflow==2.7.0->-r requirements.txt (line 1)) (0.37.1)\n",
      "Requirement already satisfied: libclang>=9.0.1 in /anaconda/envs/azureml_py38/lib/python3.8/site-packages (from tensorflow==2.7.0->-r requirements.txt (line 1)) (14.0.6)\n",
      "Requirement already satisfied: numpy>=1.14.5 in /anaconda/envs/azureml_py38/lib/python3.8/site-packages (from tensorflow==2.7.0->-r requirements.txt (line 1)) (1.23.1)\n",
      "Requirement already satisfied: tensorboard~=2.6 in /anaconda/envs/azureml_py38/lib/python3.8/site-packages (from tensorflow==2.7.0->-r requirements.txt (line 1)) (2.8.0)\n",
      "Requirement already satisfied: keras<2.8,>=2.7.0rc0 in /anaconda/envs/azureml_py38/lib/python3.8/site-packages (from tensorflow==2.7.0->-r requirements.txt (line 1)) (2.7.0)\n",
      "Requirement already satisfied: opt-einsum>=2.3.2 in /anaconda/envs/azureml_py38/lib/python3.8/site-packages (from tensorflow==2.7.0->-r requirements.txt (line 1)) (3.3.0)\n",
      "Requirement already satisfied: flatbuffers<3.0,>=1.12 in /anaconda/envs/azureml_py38/lib/python3.8/site-packages (from tensorflow==2.7.0->-r requirements.txt (line 1)) (1.12)\n",
      "Requirement already satisfied: termcolor>=1.1.0 in /anaconda/envs/azureml_py38/lib/python3.8/site-packages (from tensorflow==2.7.0->-r requirements.txt (line 1)) (1.1.0)\n",
      "Requirement already satisfied: tensorflow-estimator<2.8,~=2.7.0rc0 in /anaconda/envs/azureml_py38/lib/python3.8/site-packages (from tensorflow==2.7.0->-r requirements.txt (line 1)) (2.7.0)\n",
      "Requirement already satisfied: astunparse>=1.6.0 in /anaconda/envs/azureml_py38/lib/python3.8/site-packages (from tensorflow==2.7.0->-r requirements.txt (line 1)) (1.6.3)\n",
      "Requirement already satisfied: wrapt>=1.11.0 in /anaconda/envs/azureml_py38/lib/python3.8/site-packages (from tensorflow==2.7.0->-r requirements.txt (line 1)) (1.12.1)\n",
      "Requirement already satisfied: h5py>=2.9.0 in /anaconda/envs/azureml_py38/lib/python3.8/site-packages (from tensorflow==2.7.0->-r requirements.txt (line 1)) (3.1.0)\n",
      "Requirement already satisfied: absl-py>=0.4.0 in /anaconda/envs/azureml_py38/lib/python3.8/site-packages (from tensorflow==2.7.0->-r requirements.txt (line 1)) (0.15.0)\n",
      "Requirement already satisfied: typing-extensions>=3.6.6 in /anaconda/envs/azureml_py38/lib/python3.8/site-packages (from tensorflow==2.7.0->-r requirements.txt (line 1)) (3.7.4.3)\n",
      "Requirement already satisfied: keras-preprocessing>=1.1.1 in /anaconda/envs/azureml_py38/lib/python3.8/site-packages (from tensorflow==2.7.0->-r requirements.txt (line 1)) (1.1.2)\n",
      "Requirement already satisfied: gast<0.5.0,>=0.2.1 in /anaconda/envs/azureml_py38/lib/python3.8/site-packages (from tensorflow==2.7.0->-r requirements.txt (line 1)) (0.4.0)\n",
      "Requirement already satisfied: six>=1.12.0 in /anaconda/envs/azureml_py38/lib/python3.8/site-packages (from tensorflow==2.7.0->-r requirements.txt (line 1)) (1.15.0)\n",
      "Requirement already satisfied: addict in /anaconda/envs/azureml_py38/lib/python3.8/site-packages (from mmcv==1.6.1->-r requirements.txt (line 2)) (2.4.0)\n",
      "Requirement already satisfied: packaging in /anaconda/envs/azureml_py38/lib/python3.8/site-packages (from mmcv==1.6.1->-r requirements.txt (line 2)) (21.3)\n",
      "Requirement already satisfied: pyyaml in /anaconda/envs/azureml_py38/lib/python3.8/site-packages (from mmcv==1.6.1->-r requirements.txt (line 2)) (6.0)\n",
      "Requirement already satisfied: yapf in /anaconda/envs/azureml_py38/lib/python3.8/site-packages (from mmcv==1.6.1->-r requirements.txt (line 2)) (0.32.0)\n",
      "Requirement already satisfied: Pillow in /anaconda/envs/azureml_py38/lib/python3.8/site-packages (from mmcv==1.6.1->-r requirements.txt (line 2)) (6.2.1)\n",
      "Requirement already satisfied: torch>=1.4 in /anaconda/envs/azureml_py38/lib/python3.8/site-packages (from timm==0.6.7->-r requirements.txt (line 4)) (1.10.2)\n",
      "Requirement already satisfied: torchvision in /anaconda/envs/azureml_py38/lib/python3.8/site-packages (from timm==0.6.7->-r requirements.txt (line 4)) (0.9.1)\n",
      "Requirement already satisfied: setuptools>=41.0.0 in /anaconda/envs/azureml_py38/lib/python3.8/site-packages (from tensorboard~=2.6->tensorflow==2.7.0->-r requirements.txt (line 1)) (49.6.0)\n",
      "Requirement already satisfied: google-auth<3,>=1.6.3 in /anaconda/envs/azureml_py38/lib/python3.8/site-packages (from tensorboard~=2.6->tensorflow==2.7.0->-r requirements.txt (line 1)) (2.6.6)\n",
      "Requirement already satisfied: markdown>=2.6.8 in /anaconda/envs/azureml_py38/lib/python3.8/site-packages (from tensorboard~=2.6->tensorflow==2.7.0->-r requirements.txt (line 1)) (3.3.7)\n",
      "Requirement already satisfied: werkzeug>=0.11.15 in /anaconda/envs/azureml_py38/lib/python3.8/site-packages (from tensorboard~=2.6->tensorflow==2.7.0->-r requirements.txt (line 1)) (1.0.1)\n",
      "Requirement already satisfied: google-auth-oauthlib<0.5,>=0.4.1 in /anaconda/envs/azureml_py38/lib/python3.8/site-packages (from tensorboard~=2.6->tensorflow==2.7.0->-r requirements.txt (line 1)) (0.4.6)\n",
      "Requirement already satisfied: tensorboard-data-server<0.7.0,>=0.6.0 in /anaconda/envs/azureml_py38/lib/python3.8/site-packages (from tensorboard~=2.6->tensorflow==2.7.0->-r requirements.txt (line 1)) (0.6.1)\n",
      "Requirement already satisfied: requests<3,>=2.21.0 in /anaconda/envs/azureml_py38/lib/python3.8/site-packages (from tensorboard~=2.6->tensorflow==2.7.0->-r requirements.txt (line 1)) (2.27.1)\n",
      "Requirement already satisfied: tensorboard-plugin-wit>=1.6.0 in /anaconda/envs/azureml_py38/lib/python3.8/site-packages (from tensorboard~=2.6->tensorflow==2.7.0->-r requirements.txt (line 1)) (1.8.1)\n",
      "Requirement already satisfied: pyparsing!=3.0.5,>=2.0.2 in /anaconda/envs/azureml_py38/lib/python3.8/site-packages (from packaging->mmcv==1.6.1->-r requirements.txt (line 2)) (3.0.9)\n",
      "Requirement already satisfied: cachetools<6.0,>=2.0.0 in /anaconda/envs/azureml_py38/lib/python3.8/site-packages (from google-auth<3,>=1.6.3->tensorboard~=2.6->tensorflow==2.7.0->-r requirements.txt (line 1)) (5.1.0)\n",
      "Requirement already satisfied: pyasn1-modules>=0.2.1 in /anaconda/envs/azureml_py38/lib/python3.8/site-packages (from google-auth<3,>=1.6.3->tensorboard~=2.6->tensorflow==2.7.0->-r requirements.txt (line 1)) (0.2.8)\n",
      "Requirement already satisfied: rsa<5,>=3.1.4; python_version >= \"3.6\" in /anaconda/envs/azureml_py38/lib/python3.8/site-packages (from google-auth<3,>=1.6.3->tensorboard~=2.6->tensorflow==2.7.0->-r requirements.txt (line 1)) (4.8)\n",
      "Requirement already satisfied: importlib-metadata>=4.4; python_version < \"3.10\" in /anaconda/envs/azureml_py38/lib/python3.8/site-packages (from markdown>=2.6.8->tensorboard~=2.6->tensorflow==2.7.0->-r requirements.txt (line 1)) (4.11.3)\n",
      "Requirement already satisfied: requests-oauthlib>=0.7.0 in /anaconda/envs/azureml_py38/lib/python3.8/site-packages (from google-auth-oauthlib<0.5,>=0.4.1->tensorboard~=2.6->tensorflow==2.7.0->-r requirements.txt (line 1)) (1.3.1)\n",
      "Requirement already satisfied: urllib3<1.27,>=1.21.1 in /anaconda/envs/azureml_py38/lib/python3.8/site-packages (from requests<3,>=2.21.0->tensorboard~=2.6->tensorflow==2.7.0->-r requirements.txt (line 1)) (1.26.9)\n",
      "Requirement already satisfied: idna<4,>=2.5; python_version >= \"3\" in /anaconda/envs/azureml_py38/lib/python3.8/site-packages (from requests<3,>=2.21.0->tensorboard~=2.6->tensorflow==2.7.0->-r requirements.txt (line 1)) (3.3)\n",
      "Requirement already satisfied: certifi>=2017.4.17 in /anaconda/envs/azureml_py38/lib/python3.8/site-packages (from requests<3,>=2.21.0->tensorboard~=2.6->tensorflow==2.7.0->-r requirements.txt (line 1)) (2022.5.18.1)\n",
      "Requirement already satisfied: charset-normalizer~=2.0.0; python_version >= \"3\" in /anaconda/envs/azureml_py38/lib/python3.8/site-packages (from requests<3,>=2.21.0->tensorboard~=2.6->tensorflow==2.7.0->-r requirements.txt (line 1)) (2.0.12)\n",
      "Requirement already satisfied: pyasn1<0.5.0,>=0.4.6 in /anaconda/envs/azureml_py38/lib/python3.8/site-packages (from pyasn1-modules>=0.2.1->google-auth<3,>=1.6.3->tensorboard~=2.6->tensorflow==2.7.0->-r requirements.txt (line 1)) (0.4.8)\n",
      "Requirement already satisfied: zipp>=0.5 in /anaconda/envs/azureml_py38/lib/python3.8/site-packages (from importlib-metadata>=4.4; python_version < \"3.10\"->markdown>=2.6.8->tensorboard~=2.6->tensorflow==2.7.0->-r requirements.txt (line 1)) (3.8.0)\n",
      "Requirement already satisfied: oauthlib>=3.0.0 in /anaconda/envs/azureml_py38/lib/python3.8/site-packages (from requests-oauthlib>=0.7.0->google-auth-oauthlib<0.5,>=0.4.1->tensorboard~=2.6->tensorflow==2.7.0->-r requirements.txt (line 1)) (3.2.0)\n"
     ]
    }
   ],
   "source": [
    "! pip install  -r requirements.txt"
   ]
  },
  {
   "cell_type": "code",
   "execution_count": 3,
   "metadata": {},
   "outputs": [
    {
     "name": "stdout",
     "output_type": "stream",
     "text": [
      "Requirement already satisfied: timm in /anaconda/envs/azureml_py38/lib/python3.8/site-packages (0.6.7)\n",
      "Requirement already satisfied: torchvision in /anaconda/envs/azureml_py38/lib/python3.8/site-packages (from timm) (0.9.1)\n",
      "Requirement already satisfied: torch>=1.4 in /anaconda/envs/azureml_py38/lib/python3.8/site-packages (from timm) (1.10.2)\n",
      "Requirement already satisfied: pillow>=4.1.1 in /anaconda/envs/azureml_py38/lib/python3.8/site-packages (from torchvision->timm) (6.2.1)\n",
      "Requirement already satisfied: numpy in /anaconda/envs/azureml_py38/lib/python3.8/site-packages (from torchvision->timm) (1.23.1)\n",
      "Requirement already satisfied: typing-extensions in /anaconda/envs/azureml_py38/lib/python3.8/site-packages (from torch>=1.4->timm) (3.7.4.3)\n"
     ]
    }
   ],
   "source": [
    "!pip install timm"
   ]
  },
  {
   "cell_type": "code",
   "execution_count": 2,
   "metadata": {},
   "outputs": [],
   "source": [
    "import tensorflow as tf\n",
    "import torch\n",
    "from VideoSwinTransformer import model_configs , SwinTransformer3D_pt\n",
    "from collections import OrderedDict\n",
    "\n",
    "\n",
    "\n",
    "\n",
    "\n",
    "\n"
   ]
  },
  {
   "cell_type": "code",
   "execution_count": 3,
   "metadata": {},
   "outputs": [
    {
     "name": "stdout",
     "output_type": "stream",
     "text": [
      "WARNING:tensorflow:No training configuration found in save file, so the model was *not* compiled. Compile it manually.\n"
     ]
    }
   ],
   "source": [
    "tf_model = tf.keras.models.load_model('swin_tiny_patch244_window877_kinetics400_1k_tf.pth')"
   ]
  },
  {
   "cell_type": "code",
   "execution_count": 4,
   "metadata": {},
   "outputs": [
    {
     "data": {
      "text/plain": [
       "TensorShape([1, 8, 224, 224, 3])"
      ]
     },
     "execution_count": 4,
     "metadata": {},
     "output_type": "execute_result"
    }
   ],
   "source": [
    "x_pt = torch.rand( (1,3, 8,224,224)) * 255\n",
    "x_np = x_pt.numpy()\n",
    "x_tf = tf.convert_to_tensor(x_np)\n",
    "x_tf = tf.transpose(x_tf, perm=(0,2,3,4,1))\n",
    "x_tf = tf.cast(x_tf, dtype= tf.float32)\n",
    "\n",
    "x_tf.shape"
   ]
  },
  {
   "cell_type": "code",
   "execution_count": 10,
   "metadata": {},
   "outputs": [],
   "source": [
    "# x = tf.random.uniform(\n",
    "#     [1,32,32,32,3],\n",
    "#     minval=0,\n",
    "#     maxval=255,\n",
    "#     dtype=tf.dtypes.float32,\n",
    "#     name=\"x\"\n",
    "# )"
   ]
  },
  {
   "cell_type": "code",
   "execution_count": 5,
   "metadata": {},
   "outputs": [
    {
     "name": "stderr",
     "output_type": "stream",
     "text": [
      "2022-08-05 07:47:26.378015: I tensorflow/stream_executor/cuda/cuda_dnn.cc:366] Loaded cuDNN version 8201\n"
     ]
    }
   ],
   "source": [
    "y = tf_model.predict(x_tf)"
   ]
  },
  {
   "cell_type": "code",
   "execution_count": 6,
   "metadata": {},
   "outputs": [
    {
     "data": {
      "text/plain": [
       "(1, 768, 4, 7, 7)"
      ]
     },
     "execution_count": 6,
     "metadata": {},
     "output_type": "execute_result"
    }
   ],
   "source": [
    "y.shape"
   ]
  },
  {
   "cell_type": "code",
   "execution_count": 7,
   "metadata": {},
   "outputs": [
    {
     "name": "stderr",
     "output_type": "stream",
     "text": [
      "/anaconda/envs/azureml_py38/lib/python3.8/site-packages/torch/functional.py:445: UserWarning: torch.meshgrid: in an upcoming release, it will be required to pass the indexing argument. (Triggered internally at  ../aten/src/ATen/native/TensorShape.cpp:2157.)\n",
      "  return _VF.meshgrid(tensors, **kwargs)  # type: ignore[attr-defined]\n"
     ]
    },
    {
     "data": {
      "text/plain": [
       "<All keys matched successfully>"
      ]
     },
     "execution_count": 7,
     "metadata": {},
     "output_type": "execute_result"
    }
   ],
   "source": [
    "cfg_method = model_configs.MODEL_MAP[\"swin_tiny_patch244_window877_kinetics400_1k\"]\n",
    "cfg = cfg_method()\n",
    "\n",
    "name = cfg[\"name\"]\n",
    "link = cfg['link']\n",
    "del cfg[\"name\"]\n",
    "del cfg['link']\n",
    "\n",
    "pt_model = SwinTransformer3D_pt(**cfg)\n",
    "\n",
    "checkpoint = torch.load(f'{name}.pth')\n",
    "\n",
    "\n",
    "new_state_dict = OrderedDict()\n",
    "for k, v in checkpoint['state_dict'].items():\n",
    "    if 'backbone' in k:\n",
    "        name = k[9:]\n",
    "        new_state_dict[name] = v \n",
    "\n",
    "pt_model.load_state_dict(new_state_dict) "
   ]
  },
  {
   "cell_type": "code",
   "execution_count": 8,
   "metadata": {},
   "outputs": [],
   "source": [
    "z = pt_model(x_pt)"
   ]
  },
  {
   "cell_type": "code",
   "execution_count": 9,
   "metadata": {},
   "outputs": [
    {
     "data": {
      "text/plain": [
       "torch.Size([1, 768, 4, 7, 7])"
      ]
     },
     "execution_count": 9,
     "metadata": {},
     "output_type": "execute_result"
    }
   ],
   "source": [
    "\n",
    "z.shape\n"
   ]
  },
  {
   "cell_type": "code",
   "execution_count": 10,
   "metadata": {},
   "outputs": [],
   "source": [
    "multiplier = 1000\n",
    "y = tf.round(y * multiplier) / multiplier"
   ]
  },
  {
   "cell_type": "code",
   "execution_count": 11,
   "metadata": {},
   "outputs": [
    {
     "data": {
      "text/plain": [
       "<tf.Tensor: shape=(7, 7), dtype=float32, numpy=\n",
       "array([[ 0.045,  0.344,  0.253, -0.004,  0.009,  0.705,  0.26 ],\n",
       "       [ 0.136,  0.811,  0.709,  0.256,  0.876,  1.175, -0.088],\n",
       "       [ 0.265,  0.203,  0.006,  0.275,  0.102,  0.439,  0.102],\n",
       "       [-0.039,  0.128, -0.076,  0.018,  0.043, -0.098, -0.034],\n",
       "       [ 0.053,  0.055, -0.054,  0.221,  0.296,  0.589, -0.039],\n",
       "       [ 0.257,  0.86 ,  0.119,  0.043,  0.269,  0.301,  0.04 ],\n",
       "       [ 0.289,  0.674, -0.081,  0.258,  0.264, -0.006,  0.245]],\n",
       "      dtype=float32)>"
      ]
     },
     "execution_count": 11,
     "metadata": {},
     "output_type": "execute_result"
    }
   ],
   "source": [
    "y[0][0][0]"
   ]
  },
  {
   "cell_type": "code",
   "execution_count": 12,
   "metadata": {},
   "outputs": [
    {
     "data": {
      "text/plain": [
       "tensor([[-0.0353,  0.3393,  0.2231,  0.0271,  0.0512,  0.5188,  0.2515],\n",
       "        [ 0.0039,  0.6314,  0.5279,  0.2193,  0.6839,  0.9365, -0.0378],\n",
       "        [ 0.2619,  0.2776,  0.0552,  0.2433,  0.1299,  0.1143, -0.0433],\n",
       "        [-0.0142,  0.0622, -0.0502, -0.0265,  0.1082, -0.0870, -0.0278],\n",
       "        [ 0.3037,  0.2018,  0.0189,  0.0455,  0.1578,  0.7265,  0.0630],\n",
       "        [ 0.2615,  0.7248,  0.0369,  0.0627,  0.2571,  0.3040,  0.1014],\n",
       "        [ 0.2778,  0.5499, -0.0418,  0.2637,  0.2586, -0.0115, -0.0399]],\n",
       "       grad_fn=<SelectBackward0>)"
      ]
     },
     "execution_count": 12,
     "metadata": {},
     "output_type": "execute_result"
    }
   ],
   "source": [
    "z[0][0][0]"
   ]
  },
  {
   "cell_type": "code",
   "execution_count": null,
   "metadata": {},
   "outputs": [],
   "source": [
    "model = tf.keras.Sequential()\n",
    "model.add(SwinTransformer3D())\n",
    "model.add(tf.keras.layers.Dense(6))\n",
    "model.compile(optimizer='sgd', loss='mse')\n",
    "# This builds the model for the first time:\n",
    "model.fit(x, y, batch_size=10, epochs=10)"
   ]
  },
  {
   "cell_type": "code",
   "execution_count": 13,
   "metadata": {},
   "outputs": [
    {
     "data": {
      "text/plain": [
       "<tf.Tensor: shape=(100,), dtype=float32, numpy=\n",
       "array([1.5589648 , 4.131706  , 3.424728  , 0.03354549, 3.9374757 ,\n",
       "       1.9532555 , 1.4631528 , 4.9608464 , 4.790521  , 2.7811658 ,\n",
       "       0.8233148 , 0.67228556, 0.66149294, 2.6740491 , 2.8545089 ,\n",
       "       2.5485253 , 2.4126172 , 0.77902675, 1.8516135 , 2.4605334 ,\n",
       "       2.8350801 , 1.038543  , 0.9111941 , 4.994187  , 1.8475294 ,\n",
       "       1.8963927 , 3.8615584 , 3.4105873 , 1.9966418 , 3.9203568 ,\n",
       "       3.3940077 , 3.6697948 , 2.760222  , 0.54742575, 3.2439911 ,\n",
       "       4.9453897 , 4.101827  , 3.5235178 , 4.7893124 , 0.11487126,\n",
       "       4.6799335 , 3.256632  , 1.5831792 , 0.0055778 , 4.6060953 ,\n",
       "       1.911403  , 3.8623018 , 4.57571   , 2.8755665 , 3.96671   ,\n",
       "       2.1448815 , 0.95594823, 3.726253  , 2.0881004 , 4.0867558 ,\n",
       "       1.0058558 , 3.2285786 , 0.82421184, 2.2420616 , 3.028944  ,\n",
       "       4.080575  , 2.0648265 , 1.316492  , 0.95437944, 3.8159304 ,\n",
       "       4.1701217 , 2.4723864 , 3.4331596 , 1.501295  , 1.3364708 ,\n",
       "       4.169459  , 3.149428  , 0.7571554 , 2.3522134 , 3.4701252 ,\n",
       "       4.8029556 , 4.690676  , 2.6499634 , 1.0578078 , 1.970334  ,\n",
       "       0.82283795, 2.1164827 , 3.3664715 , 1.4270419 , 2.0843494 ,\n",
       "       3.7362866 , 4.4913645 , 4.758692  , 0.48344374, 4.7167926 ,\n",
       "       3.4623444 , 4.934974  , 4.9625454 , 1.0200882 , 1.3199443 ,\n",
       "       3.970141  , 3.5987318 , 2.3922849 , 1.0683018 , 3.9206398 ],\n",
       "      dtype=float32)>"
      ]
     },
     "execution_count": 13,
     "metadata": {},
     "output_type": "execute_result"
    }
   ],
   "source": [
    "x = tf.random.normal([100,8, 32,32, 3])\n",
    "y = tf.random.uniform(shape=[100], minval=0, maxval=5, dtype='int64')\n",
    "y"
   ]
  },
  {
   "cell_type": "code",
   "execution_count": null,
   "metadata": {},
   "outputs": [],
   "source": [
    "x  = swin(x)\n",
    "#print(x.shape)"
   ]
  },
  {
   "cell_type": "code",
   "execution_count": 14,
   "metadata": {},
   "outputs": [],
   "source": [
    "# swin.summary()"
   ]
  },
  {
   "cell_type": "code",
   "execution_count": 3,
   "metadata": {},
   "outputs": [
    {
     "data": {
      "text/plain": [
       "<tf.Tensor: shape=(), dtype=float64, numpy=-100.0>"
      ]
     },
     "execution_count": 3,
     "metadata": {},
     "output_type": "execute_result"
    }
   ],
   "source": [
    "tf.constant(-100, dtype= 'float64')"
   ]
  },
  {
   "cell_type": "code",
   "execution_count": null,
   "metadata": {},
   "outputs": [],
   "source": []
  }
 ],
 "metadata": {
  "kernelspec": {
   "display_name": "Python 3.8 - AzureML",
   "language": "python",
   "name": "python38-azureml"
  },
  "language_info": {
   "codemirror_mode": {
    "name": "ipython",
    "version": 3
   },
   "file_extension": ".py",
   "mimetype": "text/x-python",
   "name": "python",
   "nbconvert_exporter": "python",
   "pygments_lexer": "ipython3",
   "version": "3.8.5"
  },
  "vscode": {
   "interpreter": {
    "hash": "9f0194299e911b6a22f0cd3d1c9a66c991d39f48b249be23f24104e40900e329"
   }
  }
 },
 "nbformat": 4,
 "nbformat_minor": 2
}
