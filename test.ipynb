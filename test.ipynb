{
 "cells": [
  {
   "cell_type": "code",
   "execution_count": null,
   "metadata": {},
   "outputs": [],
   "source": [
    "! pip install  -r requirements.txt"
   ]
  },
  {
   "cell_type": "code",
   "execution_count": 1,
   "metadata": {},
   "outputs": [],
   "source": [
    "import tensorflow as tf\n",
    "import torch\n",
    "from VideoSwinTransformer import model_configs , SwinTransformer3D_pt\n",
    "from collections import OrderedDict\n",
    "import numpy as np\n"
   ]
  },
  {
   "cell_type": "code",
   "execution_count": 9,
   "metadata": {},
   "outputs": [
    {
     "name": "stdout",
     "output_type": "stream",
     "text": [
      "WARNING:tensorflow:No training configuration found in save file, so the model was *not* compiled. Compile it manually.\n"
     ]
    }
   ],
   "source": [
    "tf_model = tf.keras.models.load_model('tf_weights/swin_tiny_patch244_window877_kinetics400_1k_tf.pth')"
   ]
  },
  {
   "cell_type": "code",
   "execution_count": 2,
   "metadata": {},
   "outputs": [
    {
     "data": {
      "text/plain": [
       "TensorShape([1, 8, 224, 224, 3])"
      ]
     },
     "execution_count": 2,
     "metadata": {},
     "output_type": "execute_result"
    }
   ],
   "source": [
    "x_pt = torch.rand( (1,3, 8,224,224)) * 255\n",
    "x_np = x_pt.numpy()\n",
    "x_tf = tf.convert_to_tensor(x_np)\n",
    "x_tf = tf.transpose(x_tf, perm=(0,2,3,4,1))\n",
    "x_tf = tf.cast(x_tf, dtype= tf.float32)\n",
    "\n",
    "x_tf.shape"
   ]
  },
  {
   "cell_type": "code",
   "execution_count": 3,
   "metadata": {},
   "outputs": [
    {
     "name": "stderr",
     "output_type": "stream",
     "text": [
      "c:\\Python\\Python396\\lib\\site-packages\\torch\\functional.py:478: UserWarning: torch.meshgrid: in an upcoming release, it will be required to pass the indexing argument. (Triggered internally at  C:\\actions-runner\\_work\\pytorch\\pytorch\\builder\\windows\\pytorch\\aten\\src\\ATen\\native\\TensorShape.cpp:2895.)\n",
      "  return _VF.meshgrid(tensors, **kwargs)  # type: ignore[attr-defined]\n"
     ]
    },
    {
     "data": {
      "text/plain": [
       "<All keys matched successfully>"
      ]
     },
     "execution_count": 3,
     "metadata": {},
     "output_type": "execute_result"
    }
   ],
   "source": [
    "cfg_method = model_configs.MODEL_MAP[\"swin_tiny_patch244_window877_kinetics400_1k\"]\n",
    "cfg = cfg_method()\n",
    "\n",
    "name = cfg[\"name\"]\n",
    "link = cfg['link']\n",
    "del cfg[\"name\"]\n",
    "del cfg['link']\n",
    "\n",
    "pt_model = SwinTransformer3D_pt(**cfg)\n",
    "\n",
    "checkpoint = torch.load(f'{name}.pth')\n",
    "\n",
    "\n",
    "new_state_dict = OrderedDict()\n",
    "for k, v in checkpoint['state_dict'].items():\n",
    "    if 'backbone' in k:\n",
    "        name = k[9:]\n",
    "        new_state_dict[name] = v \n",
    "\n",
    "pt_model.load_state_dict(new_state_dict) "
   ]
  },
  {
   "cell_type": "code",
   "execution_count": 10,
   "metadata": {},
   "outputs": [],
   "source": [
    "y = tf_model.predict(x_tf)\n"
   ]
  },
  {
   "cell_type": "code",
   "execution_count": 23,
   "metadata": {},
   "outputs": [],
   "source": [
    "z = pt_model(x_pt)"
   ]
  },
  {
   "cell_type": "code",
   "execution_count": 24,
   "metadata": {},
   "outputs": [],
   "source": [
    "y = np.round(y, 4)"
   ]
  },
  {
   "cell_type": "code",
   "execution_count": 25,
   "metadata": {},
   "outputs": [
    {
     "data": {
      "text/plain": [
       "(torch.Size([1, 768, 4, 7, 7]), (1, 768, 4, 7, 7))"
      ]
     },
     "execution_count": 25,
     "metadata": {},
     "output_type": "execute_result"
    }
   ],
   "source": [
    "\n",
    "z.shape , y.shape\n"
   ]
  },
  {
   "cell_type": "code",
   "execution_count": 26,
   "metadata": {},
   "outputs": [
    {
     "data": {
      "text/plain": [
       "array([[ 0.248 ,  0.8429,  0.0625,  0.2547,  0.0038,  0.7321,  0.3114],\n",
       "       [ 0.011 ,  0.8426,  0.9979,  0.286 ,  0.4211,  0.7433, -0.0207],\n",
       "       [ 0.2046,  0.4651, -0.0248,  0.2616, -0.0525, -0.038 ,  0.2936],\n",
       "       [ 0.0567,  0.2358, -0.0883,  0.2856, -0.0103,  0.1148, -0.0598],\n",
       "       [-0.0037,  0.6302, -0.0902, -0.112 ,  0.0935,  0.0058, -0.0441],\n",
       "       [ 0.244 ,  0.118 , -0.043 , -0.0969,  0.2323,  0.2088,  0.104 ],\n",
       "       [-0.1388, -0.0188,  0.2547, -0.101 ,  0.2865,  0.7858,  0.2629]],\n",
       "      dtype=float32)"
      ]
     },
     "execution_count": 26,
     "metadata": {},
     "output_type": "execute_result"
    }
   ],
   "source": [
    "y[0][0][0]"
   ]
  },
  {
   "cell_type": "code",
   "execution_count": 27,
   "metadata": {},
   "outputs": [
    {
     "data": {
      "text/plain": [
       "tensor([[ 0.1783,  0.9666,  0.1493,  0.1831,  0.2065,  0.3020,  0.2416],\n",
       "        [ 0.0587,  0.5428,  0.9314,  0.2074,  0.3606,  0.2332, -0.0233],\n",
       "        [ 0.1550,  0.0723, -0.0436,  0.1668, -0.0259, -0.0210,  0.2261],\n",
       "        [ 0.0297,  0.0195,  0.0520,  0.2142, -0.0212, -0.0434, -0.0255],\n",
       "        [ 0.0119,  0.8422, -0.0031, -0.0719,  0.0650, -0.0663, -0.0116],\n",
       "        [ 0.1824,  0.1240, -0.0262, -0.0766,  0.5365, -0.0499,  0.0837],\n",
       "        [-0.1141, -0.0665,  0.1776, -0.1135,  0.2927,  0.2539,  0.2005]],\n",
       "       grad_fn=<SelectBackward0>)"
      ]
     },
     "execution_count": 27,
     "metadata": {},
     "output_type": "execute_result"
    }
   ],
   "source": [
    "z[0][0][0]"
   ]
  },
  {
   "cell_type": "code",
   "execution_count": 4,
   "metadata": {},
   "outputs": [],
   "source": [
    "np_state_dict = pt_model.state_dict()\n",
    "np_state_dict = {k: np_state_dict[k].numpy() for k in np_state_dict}"
   ]
  },
  {
   "cell_type": "code",
   "execution_count": null,
   "metadata": {},
   "outputs": [],
   "source": []
  },
  {
   "cell_type": "code",
   "execution_count": 28,
   "metadata": {},
   "outputs": [
    {
     "data": {
      "text/plain": [
       "True"
      ]
     },
     "execution_count": 28,
     "metadata": {},
     "output_type": "execute_result"
    }
   ],
   "source": [
    "np.array_equal(np_state_dict['patch_embed.proj.bias'] ,tf_model.projection.layers[0].bias.numpy())"
   ]
  },
  {
   "cell_type": "code",
   "execution_count": 64,
   "metadata": {},
   "outputs": [
    {
     "name": "stdout",
     "output_type": "stream",
     "text": [
      "conv_projection/kernel:0 (2, 4, 4, 3, 96) (96, 3, 2, 4, 4)\n"
     ]
    },
    {
     "data": {
      "text/plain": [
       "184"
      ]
     },
     "execution_count": 64,
     "metadata": {},
     "output_type": "execute_result"
    }
   ],
   "source": [
    "i = 1\n",
    "for weight in tf_model.weights:\n",
    "    i +=1\n",
    "    if \"dense\" in weight.name:\n",
    "        \n",
    "        isEqual = np.array_equal(weight.numpy(),np_state_dict[tf_pt[weight.name]].transpose() )\n",
    "    else:\n",
    "        isEqual = np.array_equal(weight.numpy(),np_state_dict[tf_pt[weight.name]] )\n",
    "\n",
    "    if not isEqual:\n",
    "        print(weight.name, weight.numpy().shape , np_state_dict[tf_pt[weight.name]].shape )\n",
    "i"
   ]
  },
  {
   "cell_type": "code",
   "execution_count": 56,
   "metadata": {},
   "outputs": [],
   "source": [
    "import json\n",
    "\n",
    "tf_pt = {}\n",
    "  \n",
    "# Opening JSON file\n",
    "f = open('data.json')\n",
    "  \n",
    "# returns JSON object as \n",
    "# a dictionary\n",
    "data = json.load(f)\n",
    "f.close()\n",
    "# Iterating through the json\n",
    "# list\n",
    "for idx, layer in enumerate(data):\n",
    "    # print(idx, layer, \"------\" ,  data[layer])\n",
    "    tf_pt[data[layer]] = layer\n",
    "  \n",
    "# Closing file\n"
   ]
  },
  {
   "cell_type": "code",
   "execution_count": 57,
   "metadata": {},
   "outputs": [
    {
     "data": {
      "text/plain": [
       "{'conv_projection/kernel:0': 'patch_embed.proj.weight',\n",
       " 'conv_projection/bias:0': 'patch_embed.proj.bias',\n",
       " 'layer_normalization/gamma:0': 'patch_embed.norm.weight',\n",
       " 'layer_normalization/beta:0': 'patch_embed.norm.bias',\n",
       " 'swin_transformer3d/layer_normalization_28/gamma:0': 'norm.weight',\n",
       " 'swin_transformer3d/layer_normalization_28/beta:0': 'norm.bias',\n",
       " 'swin_transformer3d/basic_layer/patch_merging/dense_8/kernel:0': 'layers.0.downsample.reduction.weight',\n",
       " 'swin_transformer3d/basic_layer/patch_merging/layer_normalization_5/gamma:0': 'layers.0.downsample.norm.weight',\n",
       " 'swin_transformer3d/basic_layer/patch_merging/layer_normalization_5/beta:0': 'layers.0.downsample.norm.bias',\n",
       " 'swin_transformer3d/basic_layer/swin_transformer_block3d/layer_normalization_1/gamma:0': 'layers.0.blocks.0.norm1.weight',\n",
       " 'swin_transformer3d/basic_layer/swin_transformer_block3d/layer_normalization_1/beta:0': 'layers.0.blocks.0.norm1.bias',\n",
       " 'swin_transformer3d/basic_layer/swin_transformer_block3d/window_attention3d/relative_position_bias_table:0': 'layers.0.blocks.0.attn.relative_position_bias_table',\n",
       " 'swin_transformer3d/basic_layer/swin_transformer_block3d/window_attention3d/Variable:0': 'layers.0.blocks.0.attn.relative_position_index',\n",
       " 'swin_transformer3d/basic_layer/swin_transformer_block3d/window_attention3d/dense/kernel:0': 'layers.0.blocks.0.attn.qkv.weight',\n",
       " 'swin_transformer3d/basic_layer/swin_transformer_block3d/window_attention3d/dense/bias:0': 'layers.0.blocks.0.attn.qkv.bias',\n",
       " 'swin_transformer3d/basic_layer/swin_transformer_block3d/window_attention3d/dense_1/kernel:0': 'layers.0.blocks.0.attn.proj.weight',\n",
       " 'swin_transformer3d/basic_layer/swin_transformer_block3d/window_attention3d/dense_1/bias:0': 'layers.0.blocks.0.attn.proj.bias',\n",
       " 'swin_transformer3d/basic_layer/swin_transformer_block3d/layer_normalization_2/gamma:0': 'layers.0.blocks.0.norm2.weight',\n",
       " 'swin_transformer3d/basic_layer/swin_transformer_block3d/layer_normalization_2/beta:0': 'layers.0.blocks.0.norm2.bias',\n",
       " 'dense_2/kernel:0': 'layers.0.blocks.0.mlp.fc1.weight',\n",
       " 'dense_2/bias:0': 'layers.0.blocks.0.mlp.fc1.bias',\n",
       " 'dense_3/kernel:0': 'layers.0.blocks.0.mlp.fc2.weight',\n",
       " 'dense_3/bias:0': 'layers.0.blocks.0.mlp.fc2.bias',\n",
       " 'swin_transformer3d/basic_layer/swin_transformer_block3d_1/layer_normalization_3/gamma:0': 'layers.0.blocks.1.norm1.weight',\n",
       " 'swin_transformer3d/basic_layer/swin_transformer_block3d_1/layer_normalization_3/beta:0': 'layers.0.blocks.1.norm1.bias',\n",
       " 'swin_transformer3d/basic_layer/swin_transformer_block3d_1/window_attention3d_1/relative_position_bias_table:0': 'layers.0.blocks.1.attn.relative_position_bias_table',\n",
       " 'swin_transformer3d/basic_layer/swin_transformer_block3d_1/window_attention3d_1/Variable:0': 'layers.0.blocks.1.attn.relative_position_index',\n",
       " 'swin_transformer3d/basic_layer/swin_transformer_block3d_1/window_attention3d_1/dense_4/kernel:0': 'layers.0.blocks.1.attn.qkv.weight',\n",
       " 'swin_transformer3d/basic_layer/swin_transformer_block3d_1/window_attention3d_1/dense_4/bias:0': 'layers.0.blocks.1.attn.qkv.bias',\n",
       " 'swin_transformer3d/basic_layer/swin_transformer_block3d_1/window_attention3d_1/dense_5/kernel:0': 'layers.0.blocks.1.attn.proj.weight',\n",
       " 'swin_transformer3d/basic_layer/swin_transformer_block3d_1/window_attention3d_1/dense_5/bias:0': 'layers.0.blocks.1.attn.proj.bias',\n",
       " 'swin_transformer3d/basic_layer/swin_transformer_block3d_1/layer_normalization_4/gamma:0': 'layers.0.blocks.1.norm2.weight',\n",
       " 'swin_transformer3d/basic_layer/swin_transformer_block3d_1/layer_normalization_4/beta:0': 'layers.0.blocks.1.norm2.bias',\n",
       " 'dense_6/kernel:0': 'layers.0.blocks.1.mlp.fc1.weight',\n",
       " 'dense_6/bias:0': 'layers.0.blocks.1.mlp.fc1.bias',\n",
       " 'dense_7/kernel:0': 'layers.0.blocks.1.mlp.fc2.weight',\n",
       " 'dense_7/bias:0': 'layers.0.blocks.1.mlp.fc2.bias',\n",
       " 'swin_transformer3d/basic_layer_1/patch_merging_1/dense_17/kernel:0': 'layers.1.downsample.reduction.weight',\n",
       " 'swin_transformer3d/basic_layer_1/patch_merging_1/layer_normalization_10/gamma:0': 'layers.1.downsample.norm.weight',\n",
       " 'swin_transformer3d/basic_layer_1/patch_merging_1/layer_normalization_10/beta:0': 'layers.1.downsample.norm.bias',\n",
       " 'swin_transformer3d/basic_layer_1/swin_transformer_block3d_2/layer_normalization_6/gamma:0': 'layers.1.blocks.0.norm1.weight',\n",
       " 'swin_transformer3d/basic_layer_1/swin_transformer_block3d_2/layer_normalization_6/beta:0': 'layers.1.blocks.0.norm1.bias',\n",
       " 'swin_transformer3d/basic_layer_1/swin_transformer_block3d_2/window_attention3d_2/relative_position_bias_table:0': 'layers.1.blocks.0.attn.relative_position_bias_table',\n",
       " 'swin_transformer3d/basic_layer_1/swin_transformer_block3d_2/window_attention3d_2/Variable:0': 'layers.1.blocks.0.attn.relative_position_index',\n",
       " 'swin_transformer3d/basic_layer_1/swin_transformer_block3d_2/window_attention3d_2/dense_9/kernel:0': 'layers.1.blocks.0.attn.qkv.weight',\n",
       " 'swin_transformer3d/basic_layer_1/swin_transformer_block3d_2/window_attention3d_2/dense_9/bias:0': 'layers.1.blocks.0.attn.qkv.bias',\n",
       " 'swin_transformer3d/basic_layer_1/swin_transformer_block3d_2/window_attention3d_2/dense_10/kernel:0': 'layers.1.blocks.0.attn.proj.weight',\n",
       " 'swin_transformer3d/basic_layer_1/swin_transformer_block3d_2/window_attention3d_2/dense_10/bias:0': 'layers.1.blocks.0.attn.proj.bias',\n",
       " 'swin_transformer3d/basic_layer_1/swin_transformer_block3d_2/layer_normalization_7/gamma:0': 'layers.1.blocks.0.norm2.weight',\n",
       " 'swin_transformer3d/basic_layer_1/swin_transformer_block3d_2/layer_normalization_7/beta:0': 'layers.1.blocks.0.norm2.bias',\n",
       " 'dense_11/kernel:0': 'layers.1.blocks.0.mlp.fc1.weight',\n",
       " 'dense_11/bias:0': 'layers.1.blocks.0.mlp.fc1.bias',\n",
       " 'dense_12/kernel:0': 'layers.1.blocks.0.mlp.fc2.weight',\n",
       " 'dense_12/bias:0': 'layers.1.blocks.0.mlp.fc2.bias',\n",
       " 'swin_transformer3d/basic_layer_1/swin_transformer_block3d_3/layer_normalization_8/gamma:0': 'layers.1.blocks.1.norm1.weight',\n",
       " 'swin_transformer3d/basic_layer_1/swin_transformer_block3d_3/layer_normalization_8/beta:0': 'layers.1.blocks.1.norm1.bias',\n",
       " 'swin_transformer3d/basic_layer_1/swin_transformer_block3d_3/window_attention3d_3/relative_position_bias_table:0': 'layers.1.blocks.1.attn.relative_position_bias_table',\n",
       " 'swin_transformer3d/basic_layer_1/swin_transformer_block3d_3/window_attention3d_3/Variable:0': 'layers.1.blocks.1.attn.relative_position_index',\n",
       " 'swin_transformer3d/basic_layer_1/swin_transformer_block3d_3/window_attention3d_3/dense_13/kernel:0': 'layers.1.blocks.1.attn.qkv.weight',\n",
       " 'swin_transformer3d/basic_layer_1/swin_transformer_block3d_3/window_attention3d_3/dense_13/bias:0': 'layers.1.blocks.1.attn.qkv.bias',\n",
       " 'swin_transformer3d/basic_layer_1/swin_transformer_block3d_3/window_attention3d_3/dense_14/kernel:0': 'layers.1.blocks.1.attn.proj.weight',\n",
       " 'swin_transformer3d/basic_layer_1/swin_transformer_block3d_3/window_attention3d_3/dense_14/bias:0': 'layers.1.blocks.1.attn.proj.bias',\n",
       " 'swin_transformer3d/basic_layer_1/swin_transformer_block3d_3/layer_normalization_9/gamma:0': 'layers.1.blocks.1.norm2.weight',\n",
       " 'swin_transformer3d/basic_layer_1/swin_transformer_block3d_3/layer_normalization_9/beta:0': 'layers.1.blocks.1.norm2.bias',\n",
       " 'dense_15/kernel:0': 'layers.1.blocks.1.mlp.fc1.weight',\n",
       " 'dense_15/bias:0': 'layers.1.blocks.1.mlp.fc1.bias',\n",
       " 'dense_16/kernel:0': 'layers.1.blocks.1.mlp.fc2.weight',\n",
       " 'dense_16/bias:0': 'layers.1.blocks.1.mlp.fc2.bias',\n",
       " 'swin_transformer3d/basic_layer_2/patch_merging_2/dense_42/kernel:0': 'layers.2.downsample.reduction.weight',\n",
       " 'swin_transformer3d/basic_layer_2/patch_merging_2/layer_normalization_23/gamma:0': 'layers.2.downsample.norm.weight',\n",
       " 'swin_transformer3d/basic_layer_2/patch_merging_2/layer_normalization_23/beta:0': 'layers.2.downsample.norm.bias',\n",
       " 'swin_transformer3d/basic_layer_2/swin_transformer_block3d_4/layer_normalization_11/gamma:0': 'layers.2.blocks.0.norm1.weight',\n",
       " 'swin_transformer3d/basic_layer_2/swin_transformer_block3d_4/layer_normalization_11/beta:0': 'layers.2.blocks.0.norm1.bias',\n",
       " 'swin_transformer3d/basic_layer_2/swin_transformer_block3d_4/window_attention3d_4/relative_position_bias_table:0': 'layers.2.blocks.0.attn.relative_position_bias_table',\n",
       " 'swin_transformer3d/basic_layer_2/swin_transformer_block3d_4/window_attention3d_4/Variable:0': 'layers.2.blocks.0.attn.relative_position_index',\n",
       " 'swin_transformer3d/basic_layer_2/swin_transformer_block3d_4/window_attention3d_4/dense_18/kernel:0': 'layers.2.blocks.0.attn.qkv.weight',\n",
       " 'swin_transformer3d/basic_layer_2/swin_transformer_block3d_4/window_attention3d_4/dense_18/bias:0': 'layers.2.blocks.0.attn.qkv.bias',\n",
       " 'swin_transformer3d/basic_layer_2/swin_transformer_block3d_4/window_attention3d_4/dense_19/kernel:0': 'layers.2.blocks.0.attn.proj.weight',\n",
       " 'swin_transformer3d/basic_layer_2/swin_transformer_block3d_4/window_attention3d_4/dense_19/bias:0': 'layers.2.blocks.0.attn.proj.bias',\n",
       " 'swin_transformer3d/basic_layer_2/swin_transformer_block3d_4/layer_normalization_12/gamma:0': 'layers.2.blocks.0.norm2.weight',\n",
       " 'swin_transformer3d/basic_layer_2/swin_transformer_block3d_4/layer_normalization_12/beta:0': 'layers.2.blocks.0.norm2.bias',\n",
       " 'dense_20/kernel:0': 'layers.2.blocks.0.mlp.fc1.weight',\n",
       " 'dense_20/bias:0': 'layers.2.blocks.0.mlp.fc1.bias',\n",
       " 'dense_21/kernel:0': 'layers.2.blocks.0.mlp.fc2.weight',\n",
       " 'dense_21/bias:0': 'layers.2.blocks.0.mlp.fc2.bias',\n",
       " 'swin_transformer3d/basic_layer_2/swin_transformer_block3d_5/layer_normalization_13/gamma:0': 'layers.2.blocks.1.norm1.weight',\n",
       " 'swin_transformer3d/basic_layer_2/swin_transformer_block3d_5/layer_normalization_13/beta:0': 'layers.2.blocks.1.norm1.bias',\n",
       " 'swin_transformer3d/basic_layer_2/swin_transformer_block3d_5/window_attention3d_5/relative_position_bias_table:0': 'layers.2.blocks.1.attn.relative_position_bias_table',\n",
       " 'swin_transformer3d/basic_layer_2/swin_transformer_block3d_5/window_attention3d_5/Variable:0': 'layers.2.blocks.1.attn.relative_position_index',\n",
       " 'swin_transformer3d/basic_layer_2/swin_transformer_block3d_5/window_attention3d_5/dense_22/kernel:0': 'layers.2.blocks.1.attn.qkv.weight',\n",
       " 'swin_transformer3d/basic_layer_2/swin_transformer_block3d_5/window_attention3d_5/dense_22/bias:0': 'layers.2.blocks.1.attn.qkv.bias',\n",
       " 'swin_transformer3d/basic_layer_2/swin_transformer_block3d_5/window_attention3d_5/dense_23/kernel:0': 'layers.2.blocks.1.attn.proj.weight',\n",
       " 'swin_transformer3d/basic_layer_2/swin_transformer_block3d_5/window_attention3d_5/dense_23/bias:0': 'layers.2.blocks.1.attn.proj.bias',\n",
       " 'swin_transformer3d/basic_layer_2/swin_transformer_block3d_5/layer_normalization_14/gamma:0': 'layers.2.blocks.1.norm2.weight',\n",
       " 'swin_transformer3d/basic_layer_2/swin_transformer_block3d_5/layer_normalization_14/beta:0': 'layers.2.blocks.1.norm2.bias',\n",
       " 'dense_24/kernel:0': 'layers.2.blocks.1.mlp.fc1.weight',\n",
       " 'dense_24/bias:0': 'layers.2.blocks.1.mlp.fc1.bias',\n",
       " 'dense_25/kernel:0': 'layers.2.blocks.1.mlp.fc2.weight',\n",
       " 'dense_25/bias:0': 'layers.2.blocks.1.mlp.fc2.bias',\n",
       " 'swin_transformer3d/basic_layer_2/swin_transformer_block3d_6/layer_normalization_15/gamma:0': 'layers.2.blocks.2.norm1.weight',\n",
       " 'swin_transformer3d/basic_layer_2/swin_transformer_block3d_6/layer_normalization_15/beta:0': 'layers.2.blocks.2.norm1.bias',\n",
       " 'swin_transformer3d/basic_layer_2/swin_transformer_block3d_6/window_attention3d_6/relative_position_bias_table:0': 'layers.2.blocks.2.attn.relative_position_bias_table',\n",
       " 'swin_transformer3d/basic_layer_2/swin_transformer_block3d_6/window_attention3d_6/Variable:0': 'layers.2.blocks.2.attn.relative_position_index',\n",
       " 'swin_transformer3d/basic_layer_2/swin_transformer_block3d_6/window_attention3d_6/dense_26/kernel:0': 'layers.2.blocks.2.attn.qkv.weight',\n",
       " 'swin_transformer3d/basic_layer_2/swin_transformer_block3d_6/window_attention3d_6/dense_26/bias:0': 'layers.2.blocks.2.attn.qkv.bias',\n",
       " 'swin_transformer3d/basic_layer_2/swin_transformer_block3d_6/window_attention3d_6/dense_27/kernel:0': 'layers.2.blocks.2.attn.proj.weight',\n",
       " 'swin_transformer3d/basic_layer_2/swin_transformer_block3d_6/window_attention3d_6/dense_27/bias:0': 'layers.2.blocks.2.attn.proj.bias',\n",
       " 'swin_transformer3d/basic_layer_2/swin_transformer_block3d_6/layer_normalization_16/gamma:0': 'layers.2.blocks.2.norm2.weight',\n",
       " 'swin_transformer3d/basic_layer_2/swin_transformer_block3d_6/layer_normalization_16/beta:0': 'layers.2.blocks.2.norm2.bias',\n",
       " 'dense_28/kernel:0': 'layers.2.blocks.2.mlp.fc1.weight',\n",
       " 'dense_28/bias:0': 'layers.2.blocks.2.mlp.fc1.bias',\n",
       " 'dense_29/kernel:0': 'layers.2.blocks.2.mlp.fc2.weight',\n",
       " 'dense_29/bias:0': 'layers.2.blocks.2.mlp.fc2.bias',\n",
       " 'swin_transformer3d/basic_layer_2/swin_transformer_block3d_7/layer_normalization_17/gamma:0': 'layers.2.blocks.3.norm1.weight',\n",
       " 'swin_transformer3d/basic_layer_2/swin_transformer_block3d_7/layer_normalization_17/beta:0': 'layers.2.blocks.3.norm1.bias',\n",
       " 'swin_transformer3d/basic_layer_2/swin_transformer_block3d_7/window_attention3d_7/relative_position_bias_table:0': 'layers.2.blocks.3.attn.relative_position_bias_table',\n",
       " 'swin_transformer3d/basic_layer_2/swin_transformer_block3d_7/window_attention3d_7/Variable:0': 'layers.2.blocks.3.attn.relative_position_index',\n",
       " 'swin_transformer3d/basic_layer_2/swin_transformer_block3d_7/window_attention3d_7/dense_30/kernel:0': 'layers.2.blocks.3.attn.qkv.weight',\n",
       " 'swin_transformer3d/basic_layer_2/swin_transformer_block3d_7/window_attention3d_7/dense_30/bias:0': 'layers.2.blocks.3.attn.qkv.bias',\n",
       " 'swin_transformer3d/basic_layer_2/swin_transformer_block3d_7/window_attention3d_7/dense_31/kernel:0': 'layers.2.blocks.3.attn.proj.weight',\n",
       " 'swin_transformer3d/basic_layer_2/swin_transformer_block3d_7/window_attention3d_7/dense_31/bias:0': 'layers.2.blocks.3.attn.proj.bias',\n",
       " 'swin_transformer3d/basic_layer_2/swin_transformer_block3d_7/layer_normalization_18/gamma:0': 'layers.2.blocks.3.norm2.weight',\n",
       " 'swin_transformer3d/basic_layer_2/swin_transformer_block3d_7/layer_normalization_18/beta:0': 'layers.2.blocks.3.norm2.bias',\n",
       " 'dense_32/kernel:0': 'layers.2.blocks.3.mlp.fc1.weight',\n",
       " 'dense_32/bias:0': 'layers.2.blocks.3.mlp.fc1.bias',\n",
       " 'dense_33/kernel:0': 'layers.2.blocks.3.mlp.fc2.weight',\n",
       " 'dense_33/bias:0': 'layers.2.blocks.3.mlp.fc2.bias',\n",
       " 'swin_transformer3d/basic_layer_2/swin_transformer_block3d_8/layer_normalization_19/gamma:0': 'layers.2.blocks.4.norm1.weight',\n",
       " 'swin_transformer3d/basic_layer_2/swin_transformer_block3d_8/layer_normalization_19/beta:0': 'layers.2.blocks.4.norm1.bias',\n",
       " 'swin_transformer3d/basic_layer_2/swin_transformer_block3d_8/window_attention3d_8/relative_position_bias_table:0': 'layers.2.blocks.4.attn.relative_position_bias_table',\n",
       " 'swin_transformer3d/basic_layer_2/swin_transformer_block3d_8/window_attention3d_8/Variable:0': 'layers.2.blocks.4.attn.relative_position_index',\n",
       " 'swin_transformer3d/basic_layer_2/swin_transformer_block3d_8/window_attention3d_8/dense_34/kernel:0': 'layers.2.blocks.4.attn.qkv.weight',\n",
       " 'swin_transformer3d/basic_layer_2/swin_transformer_block3d_8/window_attention3d_8/dense_34/bias:0': 'layers.2.blocks.4.attn.qkv.bias',\n",
       " 'swin_transformer3d/basic_layer_2/swin_transformer_block3d_8/window_attention3d_8/dense_35/kernel:0': 'layers.2.blocks.4.attn.proj.weight',\n",
       " 'swin_transformer3d/basic_layer_2/swin_transformer_block3d_8/window_attention3d_8/dense_35/bias:0': 'layers.2.blocks.4.attn.proj.bias',\n",
       " 'swin_transformer3d/basic_layer_2/swin_transformer_block3d_8/layer_normalization_20/gamma:0': 'layers.2.blocks.4.norm2.weight',\n",
       " 'swin_transformer3d/basic_layer_2/swin_transformer_block3d_8/layer_normalization_20/beta:0': 'layers.2.blocks.4.norm2.bias',\n",
       " 'dense_36/kernel:0': 'layers.2.blocks.4.mlp.fc1.weight',\n",
       " 'dense_36/bias:0': 'layers.2.blocks.4.mlp.fc1.bias',\n",
       " 'dense_37/kernel:0': 'layers.2.blocks.4.mlp.fc2.weight',\n",
       " 'dense_37/bias:0': 'layers.2.blocks.4.mlp.fc2.bias',\n",
       " 'swin_transformer3d/basic_layer_2/swin_transformer_block3d_9/layer_normalization_21/gamma:0': 'layers.2.blocks.5.norm1.weight',\n",
       " 'swin_transformer3d/basic_layer_2/swin_transformer_block3d_9/layer_normalization_21/beta:0': 'layers.2.blocks.5.norm1.bias',\n",
       " 'swin_transformer3d/basic_layer_2/swin_transformer_block3d_9/window_attention3d_9/relative_position_bias_table:0': 'layers.2.blocks.5.attn.relative_position_bias_table',\n",
       " 'swin_transformer3d/basic_layer_2/swin_transformer_block3d_9/window_attention3d_9/Variable:0': 'layers.2.blocks.5.attn.relative_position_index',\n",
       " 'swin_transformer3d/basic_layer_2/swin_transformer_block3d_9/window_attention3d_9/dense_38/kernel:0': 'layers.2.blocks.5.attn.qkv.weight',\n",
       " 'swin_transformer3d/basic_layer_2/swin_transformer_block3d_9/window_attention3d_9/dense_38/bias:0': 'layers.2.blocks.5.attn.qkv.bias',\n",
       " 'swin_transformer3d/basic_layer_2/swin_transformer_block3d_9/window_attention3d_9/dense_39/kernel:0': 'layers.2.blocks.5.attn.proj.weight',\n",
       " 'swin_transformer3d/basic_layer_2/swin_transformer_block3d_9/window_attention3d_9/dense_39/bias:0': 'layers.2.blocks.5.attn.proj.bias',\n",
       " 'swin_transformer3d/basic_layer_2/swin_transformer_block3d_9/layer_normalization_22/gamma:0': 'layers.2.blocks.5.norm2.weight',\n",
       " 'swin_transformer3d/basic_layer_2/swin_transformer_block3d_9/layer_normalization_22/beta:0': 'layers.2.blocks.5.norm2.bias',\n",
       " 'dense_40/kernel:0': 'layers.2.blocks.5.mlp.fc1.weight',\n",
       " 'dense_40/bias:0': 'layers.2.blocks.5.mlp.fc1.bias',\n",
       " 'dense_41/kernel:0': 'layers.2.blocks.5.mlp.fc2.weight',\n",
       " 'dense_41/bias:0': 'layers.2.blocks.5.mlp.fc2.bias',\n",
       " 'swin_transformer3d/basic_layer_3/swin_transformer_block3d_10/layer_normalization_24/gamma:0': 'layers.3.blocks.0.norm1.weight',\n",
       " 'swin_transformer3d/basic_layer_3/swin_transformer_block3d_10/layer_normalization_24/beta:0': 'layers.3.blocks.0.norm1.bias',\n",
       " 'swin_transformer3d/basic_layer_3/swin_transformer_block3d_10/window_attention3d_10/relative_position_bias_table:0': 'layers.3.blocks.0.attn.relative_position_bias_table',\n",
       " 'swin_transformer3d/basic_layer_3/swin_transformer_block3d_10/window_attention3d_10/Variable:0': 'layers.3.blocks.0.attn.relative_position_index',\n",
       " 'swin_transformer3d/basic_layer_3/swin_transformer_block3d_10/window_attention3d_10/dense_43/kernel:0': 'layers.3.blocks.0.attn.qkv.weight',\n",
       " 'swin_transformer3d/basic_layer_3/swin_transformer_block3d_10/window_attention3d_10/dense_43/bias:0': 'layers.3.blocks.0.attn.qkv.bias',\n",
       " 'swin_transformer3d/basic_layer_3/swin_transformer_block3d_10/window_attention3d_10/dense_44/kernel:0': 'layers.3.blocks.0.attn.proj.weight',\n",
       " 'swin_transformer3d/basic_layer_3/swin_transformer_block3d_10/window_attention3d_10/dense_44/bias:0': 'layers.3.blocks.0.attn.proj.bias',\n",
       " 'swin_transformer3d/basic_layer_3/swin_transformer_block3d_10/layer_normalization_25/gamma:0': 'layers.3.blocks.0.norm2.weight',\n",
       " 'swin_transformer3d/basic_layer_3/swin_transformer_block3d_10/layer_normalization_25/beta:0': 'layers.3.blocks.0.norm2.bias',\n",
       " 'dense_45/kernel:0': 'layers.3.blocks.0.mlp.fc1.weight',\n",
       " 'dense_45/bias:0': 'layers.3.blocks.0.mlp.fc1.bias',\n",
       " 'dense_46/kernel:0': 'layers.3.blocks.0.mlp.fc2.weight',\n",
       " 'dense_46/bias:0': 'layers.3.blocks.0.mlp.fc2.bias',\n",
       " 'swin_transformer3d/basic_layer_3/swin_transformer_block3d_11/layer_normalization_26/gamma:0': 'layers.3.blocks.1.norm1.weight',\n",
       " 'swin_transformer3d/basic_layer_3/swin_transformer_block3d_11/layer_normalization_26/beta:0': 'layers.3.blocks.1.norm1.bias',\n",
       " 'swin_transformer3d/basic_layer_3/swin_transformer_block3d_11/window_attention3d_11/relative_position_bias_table:0': 'layers.3.blocks.1.attn.relative_position_bias_table',\n",
       " 'swin_transformer3d/basic_layer_3/swin_transformer_block3d_11/window_attention3d_11/Variable:0': 'layers.3.blocks.1.attn.relative_position_index',\n",
       " 'swin_transformer3d/basic_layer_3/swin_transformer_block3d_11/window_attention3d_11/dense_47/kernel:0': 'layers.3.blocks.1.attn.qkv.weight',\n",
       " 'swin_transformer3d/basic_layer_3/swin_transformer_block3d_11/window_attention3d_11/dense_47/bias:0': 'layers.3.blocks.1.attn.qkv.bias',\n",
       " 'swin_transformer3d/basic_layer_3/swin_transformer_block3d_11/window_attention3d_11/dense_48/kernel:0': 'layers.3.blocks.1.attn.proj.weight',\n",
       " 'swin_transformer3d/basic_layer_3/swin_transformer_block3d_11/window_attention3d_11/dense_48/bias:0': 'layers.3.blocks.1.attn.proj.bias',\n",
       " 'swin_transformer3d/basic_layer_3/swin_transformer_block3d_11/layer_normalization_27/gamma:0': 'layers.3.blocks.1.norm2.weight',\n",
       " 'swin_transformer3d/basic_layer_3/swin_transformer_block3d_11/layer_normalization_27/beta:0': 'layers.3.blocks.1.norm2.bias',\n",
       " 'dense_49/kernel:0': 'layers.3.blocks.1.mlp.fc1.weight',\n",
       " 'dense_49/bias:0': 'layers.3.blocks.1.mlp.fc1.bias',\n",
       " 'dense_50/kernel:0': 'layers.3.blocks.1.mlp.fc2.weight',\n",
       " 'dense_50/bias:0': 'layers.3.blocks.1.mlp.fc2.bias'}"
      ]
     },
     "execution_count": 57,
     "metadata": {},
     "output_type": "execute_result"
    }
   ],
   "source": []
  },
  {
   "cell_type": "markdown",
   "metadata": {},
   "source": [
    "# training"
   ]
  },
  {
   "cell_type": "code",
   "execution_count": null,
   "metadata": {},
   "outputs": [],
   "source": [
    "model = tf.keras.Sequential()\n",
    "model.add(SwinTransformer3D())\n",
    "model.add(tf.keras.layers.Dense(6))\n",
    "model.compile(optimizer='sgd', loss='mse')\n",
    "# This builds the model for the first time:\n",
    "model.fit(x, y, batch_size=10, epochs=10)"
   ]
  },
  {
   "cell_type": "code",
   "execution_count": null,
   "metadata": {},
   "outputs": [],
   "source": [
    "x = tf.random.normal([100,8, 32,32, 3])\n",
    "y = tf.random.uniform(shape=[100], minval=0, maxval=5, dtype='int64')\n",
    "y"
   ]
  },
  {
   "cell_type": "code",
   "execution_count": null,
   "metadata": {},
   "outputs": [],
   "source": [
    "x  = swin(x)\n",
    "#print(x.shape)"
   ]
  },
  {
   "cell_type": "code",
   "execution_count": null,
   "metadata": {},
   "outputs": [],
   "source": [
    "# swin.summary()"
   ]
  },
  {
   "cell_type": "code",
   "execution_count": null,
   "metadata": {},
   "outputs": [],
   "source": [
    "tf.constant(-100, dtype= 'float64')"
   ]
  },
  {
   "cell_type": "code",
   "execution_count": null,
   "metadata": {},
   "outputs": [],
   "source": []
  }
 ],
 "metadata": {
  "kernelspec": {
   "display_name": "Python 3.9.6 64-bit",
   "language": "python",
   "name": "python3"
  },
  "language_info": {
   "codemirror_mode": {
    "name": "ipython",
    "version": 3
   },
   "file_extension": ".py",
   "mimetype": "text/x-python",
   "name": "python",
   "nbconvert_exporter": "python",
   "pygments_lexer": "ipython3",
   "version": "3.9.6"
  },
  "vscode": {
   "interpreter": {
    "hash": "5ed124f2b279c186db57d0ede455df2b109954ad4fa1a5a2c59adb747c894aa2"
   }
  }
 },
 "nbformat": 4,
 "nbformat_minor": 2
}
