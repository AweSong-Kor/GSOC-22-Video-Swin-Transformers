{
 "cells": [
  {
   "cell_type": "code",
   "execution_count": 1,
   "metadata": {},
   "outputs": [],
   "source": [
    "# from re import S\n",
    "import tensorflow as tf\n",
    "\n",
    "from VideoSwinTransformer import SwinTransformer3D\n",
    "\n",
    "\n",
    "swin = SwinTransformer3D()\n",
    "\n",
    "\n",
    "\n"
   ]
  },
  {
   "cell_type": "code",
   "execution_count": 2,
   "metadata": {},
   "outputs": [
    {
     "name": "stdout",
     "output_type": "stream",
     "text": [
      "(2, 768, 2, 1, 1)\n"
     ]
    }
   ],
   "source": [
    "x = tf.random.normal([2, 8, 32,32, 3])\n",
    "\n",
    "output = swin(x)\n",
    "print(output.shape)\n"
   ]
  },
  {
   "cell_type": "code",
   "execution_count": 3,
   "metadata": {},
   "outputs": [
    {
     "name": "stdout",
     "output_type": "stream",
     "text": [
      "Model: \"swin_transformer3d\"\n",
      "_________________________________________________________________\n",
      "Layer (type)                 Output Shape              Param #   \n",
      "=================================================================\n",
      "patch_embed (PatchEmbed3D)   multiple                  18528     \n",
      "_________________________________________________________________\n",
      "dropout (Dropout)            multiple                  0         \n",
      "_________________________________________________________________\n",
      "basic_layer (BasicLayer)     multiple                  320426    \n",
      "_________________________________________________________________\n",
      "basic_layer_1 (BasicLayer)   multiple                  1211468   \n",
      "_________________________________________________________________\n",
      "basic_layer_2 (BasicLayer)   multiple                  11923632  \n",
      "_________________________________________________________________\n",
      "basic_layer_3 (BasicLayer)   multiple                  14219288  \n",
      "_________________________________________________________________\n",
      "layer_normalization_27 (Laye multiple                  1536      \n",
      "=================================================================\n",
      "Total params: 27,694,878\n",
      "Trainable params: 27,579,630\n",
      "Non-trainable params: 115,248\n",
      "_________________________________________________________________\n"
     ]
    }
   ],
   "source": [
    "swin.summary()"
   ]
  },
  {
   "cell_type": "code",
   "execution_count": 7,
   "metadata": {},
   "outputs": [],
   "source": [
    "input = tf.keras.Input(( 8, 32,32, 3), dtype='float64')\n",
    "swin = SwinTransformer3D()\n",
    "# x = \n",
    "# y = tf.keras.Dense(2, activation= \"softmax\")(x)\n",
    "# model = tf.keras.Model(input, y)"
   ]
  },
  {
   "cell_type": "code",
   "execution_count": null,
   "metadata": {},
   "outputs": [],
   "source": [
    "model = tf.keras.Sequential()\n",
    "model.add(SwinTransformer3D())\n",
    "model.add(tf.keras.layers.Dense(6))\n",
    "model.compile(optimizer='sgd', loss='mse')\n",
    "# This builds the model for the first time:\n",
    "model.fit(x, y, batch_size=10, epochs=10)"
   ]
  },
  {
   "cell_type": "code",
   "execution_count": 13,
   "metadata": {},
   "outputs": [
    {
     "data": {
      "text/plain": [
       "<tf.Tensor: shape=(100,), dtype=float32, numpy=\n",
       "array([1.5589648 , 4.131706  , 3.424728  , 0.03354549, 3.9374757 ,\n",
       "       1.9532555 , 1.4631528 , 4.9608464 , 4.790521  , 2.7811658 ,\n",
       "       0.8233148 , 0.67228556, 0.66149294, 2.6740491 , 2.8545089 ,\n",
       "       2.5485253 , 2.4126172 , 0.77902675, 1.8516135 , 2.4605334 ,\n",
       "       2.8350801 , 1.038543  , 0.9111941 , 4.994187  , 1.8475294 ,\n",
       "       1.8963927 , 3.8615584 , 3.4105873 , 1.9966418 , 3.9203568 ,\n",
       "       3.3940077 , 3.6697948 , 2.760222  , 0.54742575, 3.2439911 ,\n",
       "       4.9453897 , 4.101827  , 3.5235178 , 4.7893124 , 0.11487126,\n",
       "       4.6799335 , 3.256632  , 1.5831792 , 0.0055778 , 4.6060953 ,\n",
       "       1.911403  , 3.8623018 , 4.57571   , 2.8755665 , 3.96671   ,\n",
       "       2.1448815 , 0.95594823, 3.726253  , 2.0881004 , 4.0867558 ,\n",
       "       1.0058558 , 3.2285786 , 0.82421184, 2.2420616 , 3.028944  ,\n",
       "       4.080575  , 2.0648265 , 1.316492  , 0.95437944, 3.8159304 ,\n",
       "       4.1701217 , 2.4723864 , 3.4331596 , 1.501295  , 1.3364708 ,\n",
       "       4.169459  , 3.149428  , 0.7571554 , 2.3522134 , 3.4701252 ,\n",
       "       4.8029556 , 4.690676  , 2.6499634 , 1.0578078 , 1.970334  ,\n",
       "       0.82283795, 2.1164827 , 3.3664715 , 1.4270419 , 2.0843494 ,\n",
       "       3.7362866 , 4.4913645 , 4.758692  , 0.48344374, 4.7167926 ,\n",
       "       3.4623444 , 4.934974  , 4.9625454 , 1.0200882 , 1.3199443 ,\n",
       "       3.970141  , 3.5987318 , 2.3922849 , 1.0683018 , 3.9206398 ],\n",
       "      dtype=float32)>"
      ]
     },
     "execution_count": 13,
     "metadata": {},
     "output_type": "execute_result"
    }
   ],
   "source": [
    "x = tf.random.normal([100,8, 32,32, 3])\n",
    "y = tf.random.uniform(shape=[100], minval=0, maxval=5, dtype='int64')\n",
    "y"
   ]
  },
  {
   "cell_type": "code",
   "execution_count": null,
   "metadata": {},
   "outputs": [],
   "source": [
    "x  = swin(x)\n",
    "print(x.shape)"
   ]
  },
  {
   "cell_type": "code",
   "execution_count": 14,
   "metadata": {},
   "outputs": [],
   "source": [
    "# swin.summary()"
   ]
  },
  {
   "cell_type": "code",
   "execution_count": 3,
   "metadata": {},
   "outputs": [
    {
     "data": {
      "text/plain": [
       "<tf.Tensor: shape=(), dtype=float64, numpy=-100.0>"
      ]
     },
     "execution_count": 3,
     "metadata": {},
     "output_type": "execute_result"
    }
   ],
   "source": [
    "tf.constant(-100, dtype= 'float64')"
   ]
  },
  {
   "cell_type": "code",
   "execution_count": null,
   "metadata": {},
   "outputs": [],
   "source": []
  }
 ],
 "metadata": {
  "kernelspec": {
   "display_name": "Python 3.9.6 64-bit",
   "language": "python",
   "name": "python3"
  },
  "language_info": {
   "codemirror_mode": {
    "name": "ipython",
    "version": 3
   },
   "file_extension": ".py",
   "mimetype": "text/x-python",
   "name": "python",
   "nbconvert_exporter": "python",
   "pygments_lexer": "ipython3",
   "version": "3.9.6"
  },
  "orig_nbformat": 4,
  "vscode": {
   "interpreter": {
    "hash": "5ed124f2b279c186db57d0ede455df2b109954ad4fa1a5a2c59adb747c894aa2"
   }
  }
 },
 "nbformat": 4,
 "nbformat_minor": 2
}
