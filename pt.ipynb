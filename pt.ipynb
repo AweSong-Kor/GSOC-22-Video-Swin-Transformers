{
 "cells": [
  {
   "cell_type": "code",
   "execution_count": 1,
   "metadata": {},
   "outputs": [],
   "source": [
    "from VideoSwinTransformer import model_configs , SwinTransformer3D_pt\n",
    "\n",
    "import torch\n",
    "import torch.nn as nn"
   ]
  },
  {
   "cell_type": "code",
   "execution_count": 2,
   "metadata": {},
   "outputs": [
    {
     "name": "stderr",
     "output_type": "stream",
     "text": [
      "/Users/mohammadshoaib/Codes/tensorflow-test/env/lib/python3.8/site-packages/torch/functional.py:478: UserWarning: torch.meshgrid: in an upcoming release, it will be required to pass the indexing argument. (Triggered internally at  /Users/runner/work/pytorch/pytorch/pytorch/aten/src/ATen/native/TensorShape.cpp:2895.)\n",
      "  return _VF.meshgrid(tensors, **kwargs)  # type: ignore[attr-defined]\n"
     ]
    },
    {
     "name": "stdout",
     "output_type": "stream",
     "text": [
      "\n",
      "basic in torch.Size([2, 2, 56, 56, 96])\n",
      "torch.Size([2, 2, 56, 56, 96])\n",
      "torch.Size([2, 2, 56, 56, 96])\n",
      "\n",
      "basic in torch.Size([2, 2, 28, 28, 192])\n",
      "torch.Size([2, 2, 28, 28, 192])\n",
      "torch.Size([2, 2, 28, 28, 192])\n",
      "\n",
      "basic in torch.Size([2, 2, 14, 14, 384])\n",
      "torch.Size([2, 2, 14, 14, 384])\n",
      "torch.Size([2, 2, 14, 14, 384])\n",
      "torch.Size([2, 2, 14, 14, 384])\n",
      "torch.Size([2, 2, 14, 14, 384])\n",
      "torch.Size([2, 2, 14, 14, 384])\n",
      "torch.Size([2, 2, 14, 14, 384])\n",
      "\n",
      "basic in torch.Size([2, 2, 7, 7, 768])\n",
      "torch.Size([2, 2, 7, 7, 768])\n",
      "torch.Size([2, 2, 7, 7, 768])\n"
     ]
    }
   ],
   "source": [
    "swin = SwinTransformer3D_pt()\n",
    "\n",
    "x_pt = torch.rand( (2,3, 8,224,224)) * 255\n",
    "x_np = x_pt.numpy()\n",
    "y = swin(x_pt)\n",
    "\n"
   ]
  },
  {
   "cell_type": "code",
   "execution_count": null,
   "metadata": {},
   "outputs": [],
   "source": []
  },
  {
   "cell_type": "code",
   "execution_count": 7,
   "metadata": {},
   "outputs": [
    {
     "data": {
      "text/plain": [
       "torch.Size([1, 768, 2, 7, 7])"
      ]
     },
     "execution_count": 7,
     "metadata": {},
     "output_type": "execute_result"
    }
   ],
   "source": [
    "y.shape"
   ]
  },
  {
   "cell_type": "code",
   "execution_count": null,
   "metadata": {},
   "outputs": [],
   "source": []
  }
 ],
 "metadata": {
  "kernelspec": {
   "display_name": "Python 3.8.13",
   "language": "python",
   "name": "python3"
  },
  "language_info": {
   "codemirror_mode": {
    "name": "ipython",
    "version": 3
   },
   "file_extension": ".py",
   "mimetype": "text/x-python",
   "name": "python",
   "nbconvert_exporter": "python",
   "pygments_lexer": "ipython3",
   "version": "3.8.13"
  },
  "orig_nbformat": 4,
  "vscode": {
   "interpreter": {
    "hash": "18e9ffd7bdaebed3141c5f1e6e3ffefff8dc763f7fe0a2903683245d14d535a1"
   }
  }
 },
 "nbformat": 4,
 "nbformat_minor": 2
}
